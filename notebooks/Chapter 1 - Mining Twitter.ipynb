{
 "cells": [
  {
   "cell_type": "markdown",
   "source": [
    "# Mining Twitter\n",
    "\n",
    "Twitter implements OAuth 1.0A as its standard authentication mechanism, and in order to use it to make requests to Twitter's API, you'll need to go to https://developer.twitter.com/en/apps and create a sample application. It is possible that Twitter no longer supports sandboxed applications and you may need to submit a request for permission to develop an app on Twitter.\n",
    "\n",
    "There are four primary identifiers you'll need to note for an OAuth 1.0A workflow: consumer key, consumer secret, access token, and access token secret. Note that you will need an ordinary Twitter account in order to login, create an app, and get these credentials.\n",
    "\n",
    "<img src=\"resources/ch01-twitter/images/Twitter-AppCredentials.png\" width=\"600px\">"
   ],
   "metadata": {}
  },
  {
   "cell_type": "markdown",
   "source": [
    "If you are running this code on Binder or from the Docker container, you should just be able to execute the code in this notebook without any worries whatsoever about installing dependencies. If you are running the code from your own development envioronment, however, be advised that these examples in this chapter take advantage of a Python package called [twitter](https://github.com/sixohsix/twitter) to make API calls. You can install this package in a terminal with [pip](https://pypi.python.org/pypi/pip) with the command `pip install twitter`, preferably from within a [Python virtual environment](https://pypi.python.org/pypi/virtualenv). "
   ],
   "metadata": {}
  },
  {
   "cell_type": "markdown",
   "source": [
    "Once installed, you should be able to open up a Python interpreter (or better yet, your [IPython](http://ipython.org/) interpreter) and get rolling."
   ],
   "metadata": {}
  },
  {
   "cell_type": "markdown",
   "source": [
    "## Authorizing an application to access Twitter account data"
   ],
   "metadata": {}
  },
  {
   "cell_type": "code",
   "execution_count": 1,
   "source": [
    "import twitter\n",
    "import os\n",
    "from dotenv import load_dotenv\n",
    "\n",
    "load_dotenv()\n",
    "\n",
    "# Go to https://developer.twitter.com/en/apps to create an app and get values\n",
    "# for these credentials, which you'll need to provide in place of these\n",
    "# empty string values that are defined as placeholders.\n",
    "# See https://developer.twitter.com/en/docs/basics/authentication/overview/oauth\n",
    "# for more information on Twitter's OAuth implementation.\n",
    "\n",
    "CONSUMER_KEY = os.getenv(\"CONSUMER_KEY\")\n",
    "CONSUMER_SECRET = os.getenv(\"CONSUMER_SECRET\")\n",
    "OAUTH_TOKEN = os.getenv(\"ACCESS_TOKEN\")\n",
    "OAUTH_TOKEN_SECRET = os.getenv(\"ACCESS_TOKEN_SECRET\")\n",
    "\n",
    "auth = twitter.oauth.OAuth(OAUTH_TOKEN, OAUTH_TOKEN_SECRET,\n",
    "                           CONSUMER_KEY, CONSUMER_SECRET)\n",
    "\n",
    "twitter_api = twitter.Twitter(auth=auth)\n",
    "\n",
    "# Nothing to see by displaying twitter_api except that it's now a\n",
    "# defined variable\n",
    "\n",
    "print(twitter_api)"
   ],
   "outputs": [
    {
     "output_type": "stream",
     "name": "stdout",
     "text": [
      "<twitter.api.Twitter object at 0x7f780c2ea940>\n"
     ]
    }
   ],
   "metadata": {}
  },
  {
   "cell_type": "markdown",
   "source": [
    "## Retrieving trends"
   ],
   "metadata": {}
  },
  {
   "cell_type": "code",
   "execution_count": 2,
   "source": [
    "# The Yahoo! Where On Earth ID for the entire world is 1.\n",
    "# See https://dev.twitter.com/docs/api/1.1/get/trends/place and\n",
    "# http://developer.yahoo.com/geo/geoplanet/\n",
    "\n",
    "WORLD_WOE_ID = 1\n",
    "US_WOE_ID = 23424977\n",
    "\n",
    "# Prefix ID with the underscore for query string parameterization.\n",
    "# Without the underscore, the twitter package appends the ID value\n",
    "# to the URL itself as a special case keyword argument.\n",
    "\n",
    "world_trends = twitter_api.trends.place(_id=WORLD_WOE_ID)\n",
    "us_trends = twitter_api.trends.place(_id=US_WOE_ID)\n",
    "\n",
    "print(world_trends)\n",
    "print()\n",
    "print(us_trends)"
   ],
   "outputs": [
    {
     "output_type": "stream",
     "name": "stdout",
     "text": [
      "[{'trends': [{'name': '#グラブル配布の日', 'url': 'http://twitter.com/search?q=%23%E3%82%B0%E3%83%A9%E3%83%96%E3%83%AB%E9%85%8D%E5%B8%83%E3%81%AE%E6%97%A5', 'promoted_content': None, 'query': '%23%E3%82%B0%E3%83%A9%E3%83%96%E3%83%AB%E9%85%8D%E5%B8%83%E3%81%AE%E6%97%A5', 'tweet_volume': 25724}, {'name': 'コースト', 'url': 'http://twitter.com/search?q=%E3%82%B3%E3%83%BC%E3%82%B9%E3%83%88', 'promoted_content': None, 'query': '%E3%82%B3%E3%83%BC%E3%82%B9%E3%83%88', 'tweet_volume': 10822}, {'name': 'HAPPY BIRTHDAY DREAM', 'url': 'http://twitter.com/search?q=%22HAPPY+BIRTHDAY+DREAM%22', 'promoted_content': None, 'query': '%22HAPPY+BIRTHDAY+DREAM%22', 'tweet_volume': 107439}, {'name': 'Nacho', 'url': 'http://twitter.com/search?q=Nacho', 'promoted_content': None, 'query': 'Nacho', 'tweet_volume': 63721}, {'name': 'STUDIO COAST', 'url': 'http://twitter.com/search?q=%22STUDIO+COAST%22', 'promoted_content': None, 'query': '%22STUDIO+COAST%22', 'tweet_volume': 40907}, {'name': 'SCP財団', 'url': 'http://twitter.com/search?q=SCP%E8%B2%A1%E5%9B%A3', 'promoted_content': None, 'query': 'SCP%E8%B2%A1%E5%9B%A3', 'tweet_volume': 12455}, {'name': '#ワイドスクランブル', 'url': 'http://twitter.com/search?q=%23%E3%83%AF%E3%82%A4%E3%83%89%E3%82%B9%E3%82%AF%E3%83%A9%E3%83%B3%E3%83%96%E3%83%AB', 'promoted_content': None, 'query': '%23%E3%83%AF%E3%82%A4%E3%83%89%E3%82%B9%E3%82%AF%E3%83%A9%E3%83%B3%E3%83%96%E3%83%AB', 'tweet_volume': 28704}, {'name': 'ageHa', 'url': 'http://twitter.com/search?q=ageHa', 'promoted_content': None, 'query': 'ageHa', 'tweet_volume': 15406}, {'name': 'River', 'url': 'http://twitter.com/search?q=River', 'promoted_content': None, 'query': 'River', 'tweet_volume': 161254}, {'name': '#カマージャンボ', 'url': 'http://twitter.com/search?q=%23%E3%82%AB%E3%83%9E%E3%83%BC%E3%82%B8%E3%83%A3%E3%83%B3%E3%83%9C', 'promoted_content': None, 'query': '%23%E3%82%AB%E3%83%9E%E3%83%BC%E3%82%B8%E3%83%A3%E3%83%B3%E3%83%9C', 'tweet_volume': None}, {'name': '#香取慎吾', 'url': 'http://twitter.com/search?q=%23%E9%A6%99%E5%8F%96%E6%85%8E%E5%90%BE', 'promoted_content': None, 'query': '%23%E9%A6%99%E5%8F%96%E6%85%8E%E5%90%BE', 'tweet_volume': 24757}, {'name': 'CHARLIE SLIMECICLE', 'url': 'http://twitter.com/search?q=%22CHARLIE+SLIMECICLE%22', 'promoted_content': None, 'query': '%22CHARLIE+SLIMECICLE%22', 'tweet_volume': None}, {'name': '#VotaçãoNaIlha', 'url': 'http://twitter.com/search?q=%23Vota%C3%A7%C3%A3oNaIlha', 'promoted_content': None, 'query': '%23Vota%C3%A7%C3%A3oNaIlha', 'tweet_volume': 22140}, {'name': 'ガンダム', 'url': 'http://twitter.com/search?q=%E3%82%AC%E3%83%B3%E3%83%80%E3%83%A0', 'promoted_content': None, 'query': '%E3%82%AC%E3%83%B3%E3%83%80%E3%83%A0', 'tweet_volume': 43151}, {'name': 'ライブハウス', 'url': 'http://twitter.com/search?q=%E3%83%A9%E3%82%A4%E3%83%96%E3%83%8F%E3%82%A6%E3%82%B9', 'promoted_content': None, 'query': '%E3%83%A9%E3%82%A4%E3%83%96%E3%83%8F%E3%82%A6%E3%82%B9', 'tweet_volume': None}, {'name': 'Trans', 'url': 'http://twitter.com/search?q=Trans', 'promoted_content': None, 'query': 'Trans', 'tweet_volume': 192401}, {'name': 'Twitterくん', 'url': 'http://twitter.com/search?q=Twitter%E3%81%8F%E3%82%93', 'promoted_content': None, 'query': 'Twitter%E3%81%8F%E3%82%93', 'tweet_volume': 357361}, {'name': 'Flamengo', 'url': 'http://twitter.com/search?q=Flamengo', 'promoted_content': None, 'query': 'Flamengo', 'tweet_volume': 285337}, {'name': '学校のプール', 'url': 'http://twitter.com/search?q=%E5%AD%A6%E6%A0%A1%E3%81%AE%E3%83%97%E3%83%BC%E3%83%AB', 'promoted_content': None, 'query': '%E5%AD%A6%E6%A0%A1%E3%81%AE%E3%83%97%E3%83%BC%E3%83%AB', 'tweet_volume': None}, {'name': 'フォント', 'url': 'http://twitter.com/search?q=%E3%83%95%E3%82%A9%E3%83%B3%E3%83%88', 'promoted_content': None, 'query': '%E3%83%95%E3%82%A9%E3%83%B3%E3%83%88', 'tweet_volume': 33309}, {'name': 'HAPPY BIRTHDAY CHARLIE', 'url': 'http://twitter.com/search?q=%22HAPPY+BIRTHDAY+CHARLIE%22', 'promoted_content': None, 'query': '%22HAPPY+BIRTHDAY+CHARLIE%22', 'tweet_volume': None}, {'name': 'Zepp Tokyo', 'url': 'http://twitter.com/search?q=%22Zepp+Tokyo%22', 'promoted_content': None, 'query': '%22Zepp+Tokyo%22', 'tweet_volume': None}, {'name': 'Ozzie', 'url': 'http://twitter.com/search?q=Ozzie', 'promoted_content': None, 'query': 'Ozzie', 'tweet_volume': 10445}, {'name': 'McBride', 'url': 'http://twitter.com/search?q=McBride', 'promoted_content': None, 'query': 'McBride', 'tweet_volume': None}, {'name': 'ダークモード', 'url': 'http://twitter.com/search?q=%E3%83%80%E3%83%BC%E3%82%AF%E3%83%A2%E3%83%BC%E3%83%89', 'promoted_content': None, 'query': '%E3%83%80%E3%83%BC%E3%82%AF%E3%83%A2%E3%83%BC%E3%83%89', 'tweet_volume': 10892}, {'name': 'calum', 'url': 'http://twitter.com/search?q=calum', 'promoted_content': None, 'query': 'calum', 'tweet_volume': None}, {'name': 'Braves', 'url': 'http://twitter.com/search?q=Braves', 'promoted_content': None, 'query': 'Braves', 'tweet_volume': 25680}, {'name': 'Hunter Biden', 'url': 'http://twitter.com/search?q=%22Hunter+Biden%22', 'promoted_content': None, 'query': '%22Hunter+Biden%22', 'tweet_volume': 53228}, {'name': 'Arrascaeta', 'url': 'http://twitter.com/search?q=Arrascaeta', 'promoted_content': None, 'query': 'Arrascaeta', 'tweet_volume': 62218}, {'name': '広島県と市', 'url': 'http://twitter.com/search?q=%E5%BA%83%E5%B3%B6%E7%9C%8C%E3%81%A8%E5%B8%82', 'promoted_content': None, 'query': '%E5%BA%83%E5%B3%B6%E7%9C%8C%E3%81%A8%E5%B8%82', 'tweet_volume': 23521}, {'name': '塩野くん', 'url': 'http://twitter.com/search?q=%E5%A1%A9%E9%87%8E%E3%81%8F%E3%82%93', 'promoted_content': None, 'query': '%E5%A1%A9%E9%87%8E%E3%81%8F%E3%82%93', 'tweet_volume': None}, {'name': 'CHAEYOUNG', 'url': 'http://twitter.com/search?q=CHAEYOUNG', 'promoted_content': None, 'query': 'CHAEYOUNG', 'tweet_volume': 87838}, {'name': 'Pon De Beach', 'url': 'http://twitter.com/search?q=%22Pon+De+Beach%22', 'promoted_content': None, 'query': '%22Pon+De+Beach%22', 'tweet_volume': None}, {'name': 'Lali', 'url': 'http://twitter.com/search?q=Lali', 'promoted_content': None, 'query': 'Lali', 'tweet_volume': 23498}, {'name': 'IOCと組織委', 'url': 'http://twitter.com/search?q=IOC%E3%81%A8%E7%B5%84%E7%B9%94%E5%A7%94', 'promoted_content': None, 'query': 'IOC%E3%81%A8%E7%B5%84%E7%B9%94%E5%A7%94', 'tweet_volume': 18009}, {'name': 'バッハ氏の広島訪問警備費負担', 'url': 'http://twitter.com/search?q=%E3%83%90%E3%83%83%E3%83%8F%E6%B0%8F%E3%81%AE%E5%BA%83%E5%B3%B6%E8%A8%AA%E5%95%8F%E8%AD%A6%E5%82%99%E8%B2%BB%E8%B2%A0%E6%8B%85', 'promoted_content': None, 'query': '%E3%83%90%E3%83%83%E3%83%8F%E6%B0%8F%E3%81%AE%E5%BA%83%E5%B3%B6%E8%A8%AA%E5%95%8F%E8%AD%A6%E5%82%99%E8%B2%BB%E8%B2%A0%E6%8B%85', 'tweet_volume': 17814}, {'name': '全額折半', 'url': 'http://twitter.com/search?q=%E5%85%A8%E9%A1%8D%E6%8A%98%E5%8D%8A', 'promoted_content': None, 'query': '%E5%85%A8%E9%A1%8D%E6%8A%98%E5%8D%8A', 'tweet_volume': 19760}, {'name': 'ノーゲーム', 'url': 'http://twitter.com/search?q=%E3%83%8E%E3%83%BC%E3%82%B2%E3%83%BC%E3%83%A0', 'promoted_content': None, 'query': '%E3%83%8E%E3%83%BC%E3%82%B2%E3%83%BC%E3%83%A0', 'tweet_volume': 13203}, {'name': '업데이트', 'url': 'http://twitter.com/search?q=%EC%97%85%EB%8D%B0%EC%9D%B4%ED%8A%B8', 'promoted_content': None, 'query': '%EC%97%85%EB%8D%B0%EC%9D%B4%ED%8A%B8', 'tweet_volume': 14653}, {'name': 'Carrascal', 'url': 'http://twitter.com/search?q=Carrascal', 'promoted_content': None, 'query': 'Carrascal', 'tweet_volume': None}, {'name': 'フォロー中', 'url': 'http://twitter.com/search?q=%E3%83%95%E3%82%A9%E3%83%AD%E3%83%BC%E4%B8%AD', 'promoted_content': None, 'query': '%E3%83%95%E3%82%A9%E3%83%AD%E3%83%BC%E4%B8%AD', 'tweet_volume': 604352}, {'name': 'Mineiro', 'url': 'http://twitter.com/search?q=Mineiro', 'promoted_content': None, 'query': 'Mineiro', 'tweet_volume': 23090}, {'name': 'バーベキュー後', 'url': 'http://twitter.com/search?q=%E3%83%90%E3%83%BC%E3%83%99%E3%82%AD%E3%83%A5%E3%83%BC%E5%BE%8C', 'promoted_content': None, 'query': '%E3%83%90%E3%83%BC%E3%83%99%E3%82%AD%E3%83%A5%E3%83%BC%E5%BE%8C', 'tweet_volume': None}, {'name': '行為の代償', 'url': 'http://twitter.com/search?q=%E8%A1%8C%E7%82%BA%E3%81%AE%E4%BB%A3%E5%84%9F', 'promoted_content': None, 'query': '%E8%A1%8C%E7%82%BA%E3%81%AE%E4%BB%A3%E5%84%9F', 'tweet_volume': None}, {'name': 'Will Smith', 'url': 'http://twitter.com/search?q=%22Will+Smith%22', 'promoted_content': None, 'query': '%22Will+Smith%22', 'tweet_volume': 12434}, {'name': 'Gallardo', 'url': 'http://twitter.com/search?q=Gallardo', 'promoted_content': None, 'query': 'Gallardo', 'tweet_volume': 12820}, {'name': 'Twitterアプデ', 'url': 'http://twitter.com/search?q=Twitter%E3%82%A2%E3%83%97%E3%83%87', 'promoted_content': None, 'query': 'Twitter%E3%82%A2%E3%83%97%E3%83%87', 'tweet_volume': 17708}, {'name': '大下さん', 'url': 'http://twitter.com/search?q=%E5%A4%A7%E4%B8%8B%E3%81%95%E3%82%93', 'promoted_content': None, 'query': '%E5%A4%A7%E4%B8%8B%E3%81%95%E3%82%93', 'tweet_volume': 21516}, {'name': '思い出の場所', 'url': 'http://twitter.com/search?q=%E6%80%9D%E3%81%84%E5%87%BA%E3%81%AE%E5%A0%B4%E6%89%80', 'promoted_content': None, 'query': '%E6%80%9D%E3%81%84%E5%87%BA%E3%81%AE%E5%A0%B4%E6%89%80', 'tweet_volume': None}, {'name': 'TwitterのUI', 'url': 'http://twitter.com/search?q=Twitter%E3%81%AEUI', 'promoted_content': None, 'query': 'Twitter%E3%81%AEUI', 'tweet_volume': 39777}], 'as_of': '2021-08-12T04:20:10Z', 'created_at': '2021-08-11T12:20:35Z', 'locations': [{'name': 'Worldwide', 'woeid': 1}]}]\n",
      "\n",
      "[{'trends': [{'name': 'HAPPY BIRTHDAY DREAM', 'url': 'http://twitter.com/search?q=%22HAPPY+BIRTHDAY+DREAM%22', 'promoted_content': None, 'query': '%22HAPPY+BIRTHDAY+DREAM%22', 'tweet_volume': 107439}, {'name': 'CHARLIE SLIMECICLE', 'url': 'http://twitter.com/search?q=%22CHARLIE+SLIMECICLE%22', 'promoted_content': None, 'query': '%22CHARLIE+SLIMECICLE%22', 'tweet_volume': None}, {'name': 'Trans', 'url': 'http://twitter.com/search?q=Trans', 'promoted_content': None, 'query': 'Trans', 'tweet_volume': 192401}, {'name': 'Ozzie', 'url': 'http://twitter.com/search?q=Ozzie', 'promoted_content': None, 'query': 'Ozzie', 'tweet_volume': 10445}, {'name': '#AEWDynamite', 'url': 'http://twitter.com/search?q=%23AEWDynamite', 'promoted_content': None, 'query': '%23AEWDynamite', 'tweet_volume': 48632}, {'name': '#RonaRon', 'url': 'http://twitter.com/search?q=%23RonaRon', 'promoted_content': None, 'query': '%23RonaRon', 'tweet_volume': 18747}, {'name': '#BETPresentsTheEncore', 'url': 'http://twitter.com/search?q=%23BETPresentsTheEncore', 'promoted_content': None, 'query': '%23BETPresentsTheEncore', 'tweet_volume': None}, {'name': '#RHOBH', 'url': 'http://twitter.com/search?q=%23RHOBH', 'promoted_content': None, 'query': '%23RHOBH', 'tweet_volume': 17511}, {'name': 'McBride', 'url': 'http://twitter.com/search?q=McBride', 'promoted_content': None, 'query': 'McBride', 'tweet_volume': None}, {'name': 'HAPPY BIRTHDAY CHARLIE', 'url': 'http://twitter.com/search?q=%22HAPPY+BIRTHDAY+CHARLIE%22', 'promoted_content': None, 'query': '%22HAPPY+BIRTHDAY+CHARLIE%22', 'tweet_volume': None}, {'name': 'Hunter Biden', 'url': 'http://twitter.com/search?q=%22Hunter+Biden%22', 'promoted_content': None, 'query': '%22Hunter+Biden%22', 'tweet_volume': 53228}, {'name': 'Will Smith', 'url': 'http://twitter.com/search?q=%22Will+Smith%22', 'promoted_content': None, 'query': '%22Will+Smith%22', 'tweet_volume': 12434}, {'name': '#ForTheA', 'url': 'http://twitter.com/search?q=%23ForTheA', 'promoted_content': None, 'query': '%23ForTheA', 'tweet_volume': None}, {'name': 'Votto', 'url': 'http://twitter.com/search?q=Votto', 'promoted_content': None, 'query': 'Votto', 'tweet_volume': None}, {'name': 'Corbin Burnes', 'url': 'http://twitter.com/search?q=%22Corbin+Burnes%22', 'promoted_content': None, 'query': '%22Corbin+Burnes%22', 'tweet_volume': None}, {'name': 'Arnold', 'url': 'http://twitter.com/search?q=Arnold', 'promoted_content': None, 'query': 'Arnold', 'tweet_volume': 31288}, {'name': 'callahan', 'url': 'http://twitter.com/search?q=callahan', 'promoted_content': None, 'query': 'callahan', 'tweet_volume': None}, {'name': 'The Delta Variant', 'url': 'http://twitter.com/search?q=%22The+Delta+Variant%22', 'promoted_content': None, 'query': '%22The+Delta+Variant%22', 'tweet_volume': 207818}, {'name': 'Bellinger', 'url': 'http://twitter.com/search?q=Bellinger', 'promoted_content': None, 'query': 'Bellinger', 'tweet_volume': None}, {'name': 'Lucas Sims', 'url': 'http://twitter.com/search?q=%22Lucas+Sims%22', 'promoted_content': None, 'query': '%22Lucas+Sims%22', 'tweet_volume': None}, {'name': 'Kiely', 'url': 'http://twitter.com/search?q=Kiely', 'promoted_content': None, 'query': 'Kiely', 'tweet_volume': None}, {'name': 'calum', 'url': 'http://twitter.com/search?q=calum', 'promoted_content': None, 'query': 'calum', 'tweet_volume': None}, {'name': 'Black Thought', 'url': 'http://twitter.com/search?q=%22Black+Thought%22', 'promoted_content': None, 'query': '%22Black+Thought%22', 'tweet_volume': None}, {'name': 'Adam Wainwright', 'url': 'http://twitter.com/search?q=%22Adam+Wainwright%22', 'promoted_content': None, 'query': '%22Adam+Wainwright%22', 'tweet_volume': None}, {'name': 'DREAM DAY', 'url': 'http://twitter.com/search?q=%22DREAM+DAY%22', 'promoted_content': None, 'query': '%22DREAM+DAY%22', 'tweet_volume': 48259}, {'name': 'Andre 3000', 'url': 'http://twitter.com/search?q=%22Andre+3000%22', 'promoted_content': None, 'query': '%22Andre+3000%22', 'tweet_volume': None}, {'name': 'Waino', 'url': 'http://twitter.com/search?q=Waino', 'promoted_content': None, 'query': 'Waino', 'tweet_volume': None}, {'name': 'Miggy', 'url': 'http://twitter.com/search?q=Miggy', 'promoted_content': None, 'query': 'Miggy', 'tweet_volume': None}, {'name': 'Givens', 'url': 'http://twitter.com/search?q=Givens', 'promoted_content': None, 'query': 'Givens', 'tweet_volume': None}, {'name': 'Bohm', 'url': 'http://twitter.com/search?q=Bohm', 'promoted_content': None, 'query': 'Bohm', 'tweet_volume': None}, {'name': 'Erika', 'url': 'http://twitter.com/search?q=Erika', 'promoted_content': None, 'query': 'Erika', 'tweet_volume': 23706}, {'name': 'Garcelle', 'url': 'http://twitter.com/search?q=Garcelle', 'promoted_content': None, 'query': 'Garcelle', 'tweet_volume': None}, {'name': 'Gausman', 'url': 'http://twitter.com/search?q=Gausman', 'promoted_content': None, 'query': 'Gausman', 'tweet_volume': None}, {'name': 'HOUSE MEETING', 'url': 'http://twitter.com/search?q=%22HOUSE+MEETING%22', 'promoted_content': None, 'query': '%22HOUSE+MEETING%22', 'tweet_volume': None}, {'name': 'Dante Martin', 'url': 'http://twitter.com/search?q=%22Dante+Martin%22', 'promoted_content': None, 'query': '%22Dante+Martin%22', 'tweet_volume': None}, {'name': 'Rinna', 'url': 'http://twitter.com/search?q=Rinna', 'promoted_content': None, 'query': 'Rinna', 'tweet_volume': None}, {'name': 'HAPPY BDAY DREAM', 'url': 'http://twitter.com/search?q=%22HAPPY+BDAY+DREAM%22', 'promoted_content': None, 'query': '%22HAPPY+BDAY+DREAM%22', 'tweet_volume': None}, {'name': 'Ernie Johnson', 'url': 'http://twitter.com/search?q=%22Ernie+Johnson%22', 'promoted_content': None, 'query': '%22Ernie+Johnson%22', 'tweet_volume': None}, {'name': 'Sutton', 'url': 'http://twitter.com/search?q=Sutton', 'promoted_content': None, 'query': 'Sutton', 'tweet_volume': None}, {'name': 'all out', 'url': 'http://twitter.com/search?q=%22all+out%22', 'promoted_content': None, 'query': '%22all+out%22', 'tweet_volume': 413392}, {'name': 'Quickley', 'url': 'http://twitter.com/search?q=Quickley', 'promoted_content': None, 'query': 'Quickley', 'tweet_volume': None}, {'name': 'LA Confidential', 'url': 'http://twitter.com/search?q=%22LA+Confidential%22', 'promoted_content': None, 'query': '%22LA+Confidential%22', 'tweet_volume': None}, {'name': 'HAPPY BIRTHDAY SLIMECICLE', 'url': 'http://twitter.com/search?q=%22HAPPY+BIRTHDAY+SLIMECICLE%22', 'promoted_content': None, 'query': '%22HAPPY+BIRTHDAY+SLIMECICLE%22', 'tweet_volume': None}, {'name': 'Antonov', 'url': 'http://twitter.com/search?q=Antonov', 'promoted_content': None, 'query': 'Antonov', 'tweet_volume': None}, {'name': 'Shamari', 'url': 'http://twitter.com/search?q=Shamari', 'promoted_content': None, 'query': 'Shamari', 'tweet_volume': None}, {'name': 'Snit', 'url': 'http://twitter.com/search?q=Snit', 'promoted_content': None, 'query': 'Snit', 'tweet_volume': None}, {'name': 'My Fall', 'url': 'http://twitter.com/search?q=%22My+Fall%22', 'promoted_content': None, 'query': '%22My+Fall%22', 'tweet_volume': 149497}, {'name': 'Jed Lowrie', 'url': 'http://twitter.com/search?q=%22Jed+Lowrie%22', 'promoted_content': None, 'query': '%22Jed+Lowrie%22', 'tweet_volume': None}, {'name': 'Master and Commander', 'url': 'http://twitter.com/search?q=%22Master+and+Commander%22', 'promoted_content': None, 'query': '%22Master+and+Commander%22', 'tweet_volume': None}, {'name': 'Rodriguez', 'url': 'http://twitter.com/search?q=Rodriguez', 'promoted_content': None, 'query': 'Rodriguez', 'tweet_volume': 43646}], 'as_of': '2021-08-12T04:20:10Z', 'created_at': '2021-08-10T20:41:56Z', 'locations': [{'name': 'United States', 'woeid': 23424977}]}]\n"
     ]
    }
   ],
   "metadata": {}
  },
  {
   "cell_type": "code",
   "execution_count": 3,
   "source": [
    "for trend in world_trends[0]['trends']:\n",
    "    print(trend['name'])"
   ],
   "outputs": [
    {
     "output_type": "stream",
     "name": "stdout",
     "text": [
      "#グラブル配布の日\n",
      "コースト\n",
      "HAPPY BIRTHDAY DREAM\n",
      "Nacho\n",
      "STUDIO COAST\n",
      "SCP財団\n",
      "#ワイドスクランブル\n",
      "ageHa\n",
      "River\n",
      "#カマージャンボ\n",
      "#香取慎吾\n",
      "CHARLIE SLIMECICLE\n",
      "#VotaçãoNaIlha\n",
      "ガンダム\n",
      "ライブハウス\n",
      "Trans\n",
      "Twitterくん\n",
      "Flamengo\n",
      "学校のプール\n",
      "フォント\n",
      "HAPPY BIRTHDAY CHARLIE\n",
      "Zepp Tokyo\n",
      "Ozzie\n",
      "McBride\n",
      "ダークモード\n",
      "calum\n",
      "Braves\n",
      "Hunter Biden\n",
      "Arrascaeta\n",
      "広島県と市\n",
      "塩野くん\n",
      "CHAEYOUNG\n",
      "Pon De Beach\n",
      "Lali\n",
      "IOCと組織委\n",
      "バッハ氏の広島訪問警備費負担\n",
      "全額折半\n",
      "ノーゲーム\n",
      "업데이트\n",
      "Carrascal\n",
      "フォロー中\n",
      "Mineiro\n",
      "バーベキュー後\n",
      "行為の代償\n",
      "Will Smith\n",
      "Gallardo\n",
      "Twitterアプデ\n",
      "大下さん\n",
      "思い出の場所\n",
      "TwitterのUI\n"
     ]
    }
   ],
   "metadata": {}
  },
  {
   "cell_type": "code",
   "execution_count": 4,
   "source": [
    "for trend in us_trends[0]['trends']:\n",
    "    print(trend['name'])"
   ],
   "outputs": [
    {
     "output_type": "stream",
     "name": "stdout",
     "text": [
      "HAPPY BIRTHDAY DREAM\n",
      "CHARLIE SLIMECICLE\n",
      "Trans\n",
      "Ozzie\n",
      "#AEWDynamite\n",
      "#RonaRon\n",
      "#BETPresentsTheEncore\n",
      "#RHOBH\n",
      "McBride\n",
      "HAPPY BIRTHDAY CHARLIE\n",
      "Hunter Biden\n",
      "Will Smith\n",
      "#ForTheA\n",
      "Votto\n",
      "Corbin Burnes\n",
      "Arnold\n",
      "callahan\n",
      "The Delta Variant\n",
      "Bellinger\n",
      "Lucas Sims\n",
      "Kiely\n",
      "calum\n",
      "Black Thought\n",
      "Adam Wainwright\n",
      "DREAM DAY\n",
      "Andre 3000\n",
      "Waino\n",
      "Miggy\n",
      "Givens\n",
      "Bohm\n",
      "Erika\n",
      "Garcelle\n",
      "Gausman\n",
      "HOUSE MEETING\n",
      "Dante Martin\n",
      "Rinna\n",
      "HAPPY BDAY DREAM\n",
      "Ernie Johnson\n",
      "Sutton\n",
      "all out\n",
      "Quickley\n",
      "LA Confidential\n",
      "HAPPY BIRTHDAY SLIMECICLE\n",
      "Antonov\n",
      "Shamari\n",
      "Snit\n",
      "My Fall\n",
      "Jed Lowrie\n",
      "Master and Commander\n",
      "Rodriguez\n"
     ]
    }
   ],
   "metadata": {}
  },
  {
   "cell_type": "code",
   "execution_count": 5,
   "source": [
    "world_trends_set = set([trend['name'] \n",
    "                        for trend in world_trends[0]['trends']])\n",
    "\n",
    "us_trends_set = set([trend['name'] \n",
    "                     for trend in us_trends[0]['trends']]) \n",
    "\n",
    "common_trends = world_trends_set.intersection(us_trends_set)\n",
    "\n",
    "print(common_trends)"
   ],
   "outputs": [
    {
     "output_type": "stream",
     "name": "stdout",
     "text": [
      "{'Trans', 'Hunter Biden', 'Will Smith', 'Ozzie', 'McBride', 'HAPPY BIRTHDAY DREAM', 'CHARLIE SLIMECICLE', 'calum', 'HAPPY BIRTHDAY CHARLIE'}\n"
     ]
    }
   ],
   "metadata": {}
  },
  {
   "cell_type": "markdown",
   "source": [
    "## Anatomy of a Tweet"
   ],
   "metadata": {}
  },
  {
   "cell_type": "code",
   "execution_count": 6,
   "source": [
    "import json\n",
    "\n",
    "# Set this variable to a trending topic, \n",
    "# or anything else for that matter. The example query below\n",
    "# was a trending topic when this content was being developed\n",
    "# and is used throughout the remainder of this chapter.\n",
    "\n",
    "q = '#MothersDay' \n",
    "\n",
    "count = 100\n",
    "\n",
    "# Import unquote to prevent url encoding errors in next_results\n",
    "from urllib.parse import unquote\n",
    "\n",
    "# See https://dev.twitter.com/rest/reference/get/search/tweets\n",
    "\n",
    "search_results = twitter_api.search.tweets(q=q, count=count)\n",
    "\n",
    "statuses = search_results['statuses']\n",
    "\n",
    "\n",
    "# Iterate through 5 more batches of results by following the cursor\n",
    "for _ in range(5):\n",
    "    print('Length of statuses', len(statuses))\n",
    "    try:\n",
    "        next_results = search_results['search_metadata']['next_results']\n",
    "    except KeyError as e: # No more results when next_results doesn't exist\n",
    "        break\n",
    "        \n",
    "    # Create a dictionary from next_results, which has the following form:\n",
    "    # ?max_id=847960489447628799&q=%23RIPSelena&count=100&include_entities=1\n",
    "    kwargs = dict([ kv.split('=') for kv in unquote(next_results[1:]).split(\"&\") ])\n",
    "    \n",
    "    search_results = twitter_api.search.tweets(**kwargs)\n",
    "    statuses += search_results['statuses']\n",
    "\n",
    "# Show one sample search result by slicing the list...\n",
    "print(json.dumps(statuses[0], indent=1))"
   ],
   "outputs": [
    {
     "output_type": "stream",
     "name": "stdout",
     "text": [
      "Length of statuses 100\n",
      "Length of statuses 200\n",
      "Length of statuses 300\n",
      "Length of statuses 400\n",
      "Length of statuses 500\n",
      "{\n",
      " \"created_at\": \"Thu Aug 12 04:20:02 +0000 2021\",\n",
      " \"id\": 1425673407199334410,\n",
      " \"id_str\": \"1425673407199334410\",\n",
      " \"text\": \"RT @SivakornLert: \\u2764\\u2764\\u2764\\n.\\n.\\n#mothersday https://t.co/7FzTtFqo5e\",\n",
      " \"truncated\": false,\n",
      " \"entities\": {\n",
      "  \"hashtags\": [\n",
      "   {\n",
      "    \"text\": \"mothersday\",\n",
      "    \"indices\": [\n",
      "     26,\n",
      "     37\n",
      "    ]\n",
      "   }\n",
      "  ],\n",
      "  \"symbols\": [],\n",
      "  \"user_mentions\": [\n",
      "   {\n",
      "    \"screen_name\": \"SivakornLert\",\n",
      "    \"name\": \"sivakorn lert\",\n",
      "    \"id\": 4776410300,\n",
      "    \"id_str\": \"4776410300\",\n",
      "    \"indices\": [\n",
      "     3,\n",
      "     16\n",
      "    ]\n",
      "   }\n",
      "  ],\n",
      "  \"urls\": [],\n",
      "  \"media\": [\n",
      "   {\n",
      "    \"id\": 1425649075551014912,\n",
      "    \"id_str\": \"1425649075551014912\",\n",
      "    \"indices\": [\n",
      "     38,\n",
      "     61\n",
      "    ],\n",
      "    \"media_url\": \"http://pbs.twimg.com/ext_tw_video_thumb/1425649075551014912/pu/img/t_hS3yCMS8ji7Vur.jpg\",\n",
      "    \"media_url_https\": \"https://pbs.twimg.com/ext_tw_video_thumb/1425649075551014912/pu/img/t_hS3yCMS8ji7Vur.jpg\",\n",
      "    \"url\": \"https://t.co/7FzTtFqo5e\",\n",
      "    \"display_url\": \"pic.twitter.com/7FzTtFqo5e\",\n",
      "    \"expanded_url\": \"https://twitter.com/SivakornLert/status/1425649130198605826/video/1\",\n",
      "    \"type\": \"photo\",\n",
      "    \"sizes\": {\n",
      "     \"medium\": {\n",
      "      \"w\": 540,\n",
      "      \"h\": 540,\n",
      "      \"resize\": \"fit\"\n",
      "     },\n",
      "     \"thumb\": {\n",
      "      \"w\": 150,\n",
      "      \"h\": 150,\n",
      "      \"resize\": \"crop\"\n",
      "     },\n",
      "     \"large\": {\n",
      "      \"w\": 540,\n",
      "      \"h\": 540,\n",
      "      \"resize\": \"fit\"\n",
      "     },\n",
      "     \"small\": {\n",
      "      \"w\": 540,\n",
      "      \"h\": 540,\n",
      "      \"resize\": \"fit\"\n",
      "     }\n",
      "    },\n",
      "    \"source_status_id\": 1425649130198605826,\n",
      "    \"source_status_id_str\": \"1425649130198605826\",\n",
      "    \"source_user_id\": 4776410300,\n",
      "    \"source_user_id_str\": \"4776410300\"\n",
      "   }\n",
      "  ]\n",
      " },\n",
      " \"extended_entities\": {\n",
      "  \"media\": [\n",
      "   {\n",
      "    \"id\": 1425649075551014912,\n",
      "    \"id_str\": \"1425649075551014912\",\n",
      "    \"indices\": [\n",
      "     38,\n",
      "     61\n",
      "    ],\n",
      "    \"media_url\": \"http://pbs.twimg.com/ext_tw_video_thumb/1425649075551014912/pu/img/t_hS3yCMS8ji7Vur.jpg\",\n",
      "    \"media_url_https\": \"https://pbs.twimg.com/ext_tw_video_thumb/1425649075551014912/pu/img/t_hS3yCMS8ji7Vur.jpg\",\n",
      "    \"url\": \"https://t.co/7FzTtFqo5e\",\n",
      "    \"display_url\": \"pic.twitter.com/7FzTtFqo5e\",\n",
      "    \"expanded_url\": \"https://twitter.com/SivakornLert/status/1425649130198605826/video/1\",\n",
      "    \"type\": \"video\",\n",
      "    \"sizes\": {\n",
      "     \"medium\": {\n",
      "      \"w\": 540,\n",
      "      \"h\": 540,\n",
      "      \"resize\": \"fit\"\n",
      "     },\n",
      "     \"thumb\": {\n",
      "      \"w\": 150,\n",
      "      \"h\": 150,\n",
      "      \"resize\": \"crop\"\n",
      "     },\n",
      "     \"large\": {\n",
      "      \"w\": 540,\n",
      "      \"h\": 540,\n",
      "      \"resize\": \"fit\"\n",
      "     },\n",
      "     \"small\": {\n",
      "      \"w\": 540,\n",
      "      \"h\": 540,\n",
      "      \"resize\": \"fit\"\n",
      "     }\n",
      "    },\n",
      "    \"source_status_id\": 1425649130198605826,\n",
      "    \"source_status_id_str\": \"1425649130198605826\",\n",
      "    \"source_user_id\": 4776410300,\n",
      "    \"source_user_id_str\": \"4776410300\",\n",
      "    \"video_info\": {\n",
      "     \"aspect_ratio\": [\n",
      "      1,\n",
      "      1\n",
      "     ],\n",
      "     \"duration_millis\": 14443,\n",
      "     \"variants\": [\n",
      "      {\n",
      "       \"bitrate\": 432000,\n",
      "       \"content_type\": \"video/mp4\",\n",
      "       \"url\": \"https://video.twimg.com/ext_tw_video/1425649075551014912/pu/vid/320x320/uFRhZL6ybHBRzGQz.mp4?tag=12\"\n",
      "      },\n",
      "      {\n",
      "       \"bitrate\": 832000,\n",
      "       \"content_type\": \"video/mp4\",\n",
      "       \"url\": \"https://video.twimg.com/ext_tw_video/1425649075551014912/pu/vid/540x540/DRxFMv5UzDaWjciG.mp4?tag=12\"\n",
      "      },\n",
      "      {\n",
      "       \"content_type\": \"application/x-mpegURL\",\n",
      "       \"url\": \"https://video.twimg.com/ext_tw_video/1425649075551014912/pu/pl/wQQn7s7ORpAG4TWM.m3u8?tag=12&container=fmp4\"\n",
      "      }\n",
      "     ]\n",
      "    },\n",
      "    \"additional_media_info\": {\n",
      "     \"monetizable\": false,\n",
      "     \"source_user\": {\n",
      "      \"id\": 4776410300,\n",
      "      \"id_str\": \"4776410300\",\n",
      "      \"name\": \"sivakorn lert\",\n",
      "      \"screen_name\": \"SivakornLert\",\n",
      "      \"location\": \"Thailand\",\n",
      "      \"description\": \"Weibo&IG:guysivakorn \\nFB:sivakorn lert\\nyoutube :GUYSIVA\",\n",
      "      \"url\": null,\n",
      "      \"entities\": {\n",
      "       \"description\": {\n",
      "        \"urls\": []\n",
      "       }\n",
      "      },\n",
      "      \"protected\": false,\n",
      "      \"followers_count\": 538316,\n",
      "      \"friends_count\": 181,\n",
      "      \"listed_count\": 215,\n",
      "      \"created_at\": \"Mon Jan 18 03:02:07 +0000 2016\",\n",
      "      \"favourites_count\": 29539,\n",
      "      \"utc_offset\": null,\n",
      "      \"time_zone\": null,\n",
      "      \"geo_enabled\": true,\n",
      "      \"verified\": false,\n",
      "      \"statuses_count\": 22536,\n",
      "      \"lang\": null,\n",
      "      \"contributors_enabled\": false,\n",
      "      \"is_translator\": false,\n",
      "      \"is_translation_enabled\": false,\n",
      "      \"profile_background_color\": \"F5F8FA\",\n",
      "      \"profile_background_image_url\": null,\n",
      "      \"profile_background_image_url_https\": null,\n",
      "      \"profile_background_tile\": false,\n",
      "      \"profile_image_url\": \"http://pbs.twimg.com/profile_images/1174522189439098880/wlzS33yN_normal.jpg\",\n",
      "      \"profile_image_url_https\": \"https://pbs.twimg.com/profile_images/1174522189439098880/wlzS33yN_normal.jpg\",\n",
      "      \"profile_banner_url\": \"https://pbs.twimg.com/profile_banners/4776410300/1587309248\",\n",
      "      \"profile_link_color\": \"1DA1F2\",\n",
      "      \"profile_sidebar_border_color\": \"C0DEED\",\n",
      "      \"profile_sidebar_fill_color\": \"DDEEF6\",\n",
      "      \"profile_text_color\": \"333333\",\n",
      "      \"profile_use_background_image\": true,\n",
      "      \"has_extended_profile\": true,\n",
      "      \"default_profile\": true,\n",
      "      \"default_profile_image\": false,\n",
      "      \"following\": false,\n",
      "      \"follow_request_sent\": false,\n",
      "      \"notifications\": false,\n",
      "      \"translator_type\": \"none\",\n",
      "      \"withheld_in_countries\": []\n",
      "     }\n",
      "    }\n",
      "   }\n",
      "  ]\n",
      " },\n",
      " \"metadata\": {\n",
      "  \"iso_language_code\": \"und\",\n",
      "  \"result_type\": \"recent\"\n",
      " },\n",
      " \"source\": \"<a href=\\\"http://twitter.com/download/android\\\" rel=\\\"nofollow\\\">Twitter for Android</a>\",\n",
      " \"in_reply_to_status_id\": null,\n",
      " \"in_reply_to_status_id_str\": null,\n",
      " \"in_reply_to_user_id\": null,\n",
      " \"in_reply_to_user_id_str\": null,\n",
      " \"in_reply_to_screen_name\": null,\n",
      " \"user\": {\n",
      "  \"id\": 4914444121,\n",
      "  \"id_str\": \"4914444121\",\n",
      "  \"name\": \"SG_CHD\",\n",
      "  \"screen_name\": \"SG_CH15\",\n",
      "  \"location\": \"\",\n",
      "  \"description\": \"\",\n",
      "  \"url\": null,\n",
      "  \"entities\": {\n",
      "   \"description\": {\n",
      "    \"urls\": []\n",
      "   }\n",
      "  },\n",
      "  \"protected\": false,\n",
      "  \"followers_count\": 35,\n",
      "  \"friends_count\": 621,\n",
      "  \"listed_count\": 0,\n",
      "  \"created_at\": \"Tue Feb 16 05:27:38 +0000 2016\",\n",
      "  \"favourites_count\": 13795,\n",
      "  \"utc_offset\": null,\n",
      "  \"time_zone\": null,\n",
      "  \"geo_enabled\": false,\n",
      "  \"verified\": false,\n",
      "  \"statuses_count\": 19264,\n",
      "  \"lang\": null,\n",
      "  \"contributors_enabled\": false,\n",
      "  \"is_translator\": false,\n",
      "  \"is_translation_enabled\": false,\n",
      "  \"profile_background_color\": \"F5F8FA\",\n",
      "  \"profile_background_image_url\": null,\n",
      "  \"profile_background_image_url_https\": null,\n",
      "  \"profile_background_tile\": false,\n",
      "  \"profile_image_url\": \"http://pbs.twimg.com/profile_images/1377448727145705474/FssAH0zk_normal.jpg\",\n",
      "  \"profile_image_url_https\": \"https://pbs.twimg.com/profile_images/1377448727145705474/FssAH0zk_normal.jpg\",\n",
      "  \"profile_banner_url\": \"https://pbs.twimg.com/profile_banners/4914444121/1617244419\",\n",
      "  \"profile_link_color\": \"1DA1F2\",\n",
      "  \"profile_sidebar_border_color\": \"C0DEED\",\n",
      "  \"profile_sidebar_fill_color\": \"DDEEF6\",\n",
      "  \"profile_text_color\": \"333333\",\n",
      "  \"profile_use_background_image\": true,\n",
      "  \"has_extended_profile\": false,\n",
      "  \"default_profile\": true,\n",
      "  \"default_profile_image\": false,\n",
      "  \"following\": false,\n",
      "  \"follow_request_sent\": false,\n",
      "  \"notifications\": false,\n",
      "  \"translator_type\": \"none\",\n",
      "  \"withheld_in_countries\": []\n",
      " },\n",
      " \"geo\": null,\n",
      " \"coordinates\": null,\n",
      " \"place\": null,\n",
      " \"contributors\": null,\n",
      " \"retweeted_status\": {\n",
      "  \"created_at\": \"Thu Aug 12 02:43:34 +0000 2021\",\n",
      "  \"id\": 1425649130198605826,\n",
      "  \"id_str\": \"1425649130198605826\",\n",
      "  \"text\": \"\\u2764\\u2764\\u2764\\n.\\n.\\n#mothersday https://t.co/7FzTtFqo5e\",\n",
      "  \"truncated\": false,\n",
      "  \"entities\": {\n",
      "   \"hashtags\": [\n",
      "    {\n",
      "     \"text\": \"mothersday\",\n",
      "     \"indices\": [\n",
      "      8,\n",
      "      19\n",
      "     ]\n",
      "    }\n",
      "   ],\n",
      "   \"symbols\": [],\n",
      "   \"user_mentions\": [],\n",
      "   \"urls\": [],\n",
      "   \"media\": [\n",
      "    {\n",
      "     \"id\": 1425649075551014912,\n",
      "     \"id_str\": \"1425649075551014912\",\n",
      "     \"indices\": [\n",
      "      20,\n",
      "      43\n",
      "     ],\n",
      "     \"media_url\": \"http://pbs.twimg.com/ext_tw_video_thumb/1425649075551014912/pu/img/t_hS3yCMS8ji7Vur.jpg\",\n",
      "     \"media_url_https\": \"https://pbs.twimg.com/ext_tw_video_thumb/1425649075551014912/pu/img/t_hS3yCMS8ji7Vur.jpg\",\n",
      "     \"url\": \"https://t.co/7FzTtFqo5e\",\n",
      "     \"display_url\": \"pic.twitter.com/7FzTtFqo5e\",\n",
      "     \"expanded_url\": \"https://twitter.com/SivakornLert/status/1425649130198605826/video/1\",\n",
      "     \"type\": \"photo\",\n",
      "     \"sizes\": {\n",
      "      \"medium\": {\n",
      "       \"w\": 540,\n",
      "       \"h\": 540,\n",
      "       \"resize\": \"fit\"\n",
      "      },\n",
      "      \"thumb\": {\n",
      "       \"w\": 150,\n",
      "       \"h\": 150,\n",
      "       \"resize\": \"crop\"\n",
      "      },\n",
      "      \"large\": {\n",
      "       \"w\": 540,\n",
      "       \"h\": 540,\n",
      "       \"resize\": \"fit\"\n",
      "      },\n",
      "      \"small\": {\n",
      "       \"w\": 540,\n",
      "       \"h\": 540,\n",
      "       \"resize\": \"fit\"\n",
      "      }\n",
      "     }\n",
      "    }\n",
      "   ]\n",
      "  },\n",
      "  \"extended_entities\": {\n",
      "   \"media\": [\n",
      "    {\n",
      "     \"id\": 1425649075551014912,\n",
      "     \"id_str\": \"1425649075551014912\",\n",
      "     \"indices\": [\n",
      "      20,\n",
      "      43\n",
      "     ],\n",
      "     \"media_url\": \"http://pbs.twimg.com/ext_tw_video_thumb/1425649075551014912/pu/img/t_hS3yCMS8ji7Vur.jpg\",\n",
      "     \"media_url_https\": \"https://pbs.twimg.com/ext_tw_video_thumb/1425649075551014912/pu/img/t_hS3yCMS8ji7Vur.jpg\",\n",
      "     \"url\": \"https://t.co/7FzTtFqo5e\",\n",
      "     \"display_url\": \"pic.twitter.com/7FzTtFqo5e\",\n",
      "     \"expanded_url\": \"https://twitter.com/SivakornLert/status/1425649130198605826/video/1\",\n",
      "     \"type\": \"video\",\n",
      "     \"sizes\": {\n",
      "      \"medium\": {\n",
      "       \"w\": 540,\n",
      "       \"h\": 540,\n",
      "       \"resize\": \"fit\"\n",
      "      },\n",
      "      \"thumb\": {\n",
      "       \"w\": 150,\n",
      "       \"h\": 150,\n",
      "       \"resize\": \"crop\"\n",
      "      },\n",
      "      \"large\": {\n",
      "       \"w\": 540,\n",
      "       \"h\": 540,\n",
      "       \"resize\": \"fit\"\n",
      "      },\n",
      "      \"small\": {\n",
      "       \"w\": 540,\n",
      "       \"h\": 540,\n",
      "       \"resize\": \"fit\"\n",
      "      }\n",
      "     },\n",
      "     \"video_info\": {\n",
      "      \"aspect_ratio\": [\n",
      "       1,\n",
      "       1\n",
      "      ],\n",
      "      \"duration_millis\": 14443,\n",
      "      \"variants\": [\n",
      "       {\n",
      "        \"bitrate\": 432000,\n",
      "        \"content_type\": \"video/mp4\",\n",
      "        \"url\": \"https://video.twimg.com/ext_tw_video/1425649075551014912/pu/vid/320x320/uFRhZL6ybHBRzGQz.mp4?tag=12\"\n",
      "       },\n",
      "       {\n",
      "        \"bitrate\": 832000,\n",
      "        \"content_type\": \"video/mp4\",\n",
      "        \"url\": \"https://video.twimg.com/ext_tw_video/1425649075551014912/pu/vid/540x540/DRxFMv5UzDaWjciG.mp4?tag=12\"\n",
      "       },\n",
      "       {\n",
      "        \"content_type\": \"application/x-mpegURL\",\n",
      "        \"url\": \"https://video.twimg.com/ext_tw_video/1425649075551014912/pu/pl/wQQn7s7ORpAG4TWM.m3u8?tag=12&container=fmp4\"\n",
      "       }\n",
      "      ]\n",
      "     },\n",
      "     \"additional_media_info\": {\n",
      "      \"monetizable\": false\n",
      "     }\n",
      "    }\n",
      "   ]\n",
      "  },\n",
      "  \"metadata\": {\n",
      "   \"iso_language_code\": \"und\",\n",
      "   \"result_type\": \"recent\"\n",
      "  },\n",
      "  \"source\": \"<a href=\\\"http://twitter.com/download/android\\\" rel=\\\"nofollow\\\">Twitter for Android</a>\",\n",
      "  \"in_reply_to_status_id\": null,\n",
      "  \"in_reply_to_status_id_str\": null,\n",
      "  \"in_reply_to_user_id\": null,\n",
      "  \"in_reply_to_user_id_str\": null,\n",
      "  \"in_reply_to_screen_name\": null,\n",
      "  \"user\": {\n",
      "   \"id\": 4776410300,\n",
      "   \"id_str\": \"4776410300\",\n",
      "   \"name\": \"sivakorn lert\",\n",
      "   \"screen_name\": \"SivakornLert\",\n",
      "   \"location\": \"Thailand\",\n",
      "   \"description\": \"Weibo&IG:guysivakorn \\nFB:sivakorn lert\\nyoutube :GUYSIVA\",\n",
      "   \"url\": null,\n",
      "   \"entities\": {\n",
      "    \"description\": {\n",
      "     \"urls\": []\n",
      "    }\n",
      "   },\n",
      "   \"protected\": false,\n",
      "   \"followers_count\": 538316,\n",
      "   \"friends_count\": 181,\n",
      "   \"listed_count\": 215,\n",
      "   \"created_at\": \"Mon Jan 18 03:02:07 +0000 2016\",\n",
      "   \"favourites_count\": 29539,\n",
      "   \"utc_offset\": null,\n",
      "   \"time_zone\": null,\n",
      "   \"geo_enabled\": true,\n",
      "   \"verified\": false,\n",
      "   \"statuses_count\": 22536,\n",
      "   \"lang\": null,\n",
      "   \"contributors_enabled\": false,\n",
      "   \"is_translator\": false,\n",
      "   \"is_translation_enabled\": false,\n",
      "   \"profile_background_color\": \"F5F8FA\",\n",
      "   \"profile_background_image_url\": null,\n",
      "   \"profile_background_image_url_https\": null,\n",
      "   \"profile_background_tile\": false,\n",
      "   \"profile_image_url\": \"http://pbs.twimg.com/profile_images/1174522189439098880/wlzS33yN_normal.jpg\",\n",
      "   \"profile_image_url_https\": \"https://pbs.twimg.com/profile_images/1174522189439098880/wlzS33yN_normal.jpg\",\n",
      "   \"profile_banner_url\": \"https://pbs.twimg.com/profile_banners/4776410300/1587309248\",\n",
      "   \"profile_link_color\": \"1DA1F2\",\n",
      "   \"profile_sidebar_border_color\": \"C0DEED\",\n",
      "   \"profile_sidebar_fill_color\": \"DDEEF6\",\n",
      "   \"profile_text_color\": \"333333\",\n",
      "   \"profile_use_background_image\": true,\n",
      "   \"has_extended_profile\": true,\n",
      "   \"default_profile\": true,\n",
      "   \"default_profile_image\": false,\n",
      "   \"following\": false,\n",
      "   \"follow_request_sent\": false,\n",
      "   \"notifications\": false,\n",
      "   \"translator_type\": \"none\",\n",
      "   \"withheld_in_countries\": []\n",
      "  },\n",
      "  \"geo\": null,\n",
      "  \"coordinates\": null,\n",
      "  \"place\": null,\n",
      "  \"contributors\": null,\n",
      "  \"is_quote_status\": false,\n",
      "  \"retweet_count\": 38,\n",
      "  \"favorite_count\": 403,\n",
      "  \"favorited\": false,\n",
      "  \"retweeted\": false,\n",
      "  \"possibly_sensitive\": false,\n",
      "  \"lang\": \"und\"\n",
      " },\n",
      " \"is_quote_status\": false,\n",
      " \"retweet_count\": 38,\n",
      " \"favorite_count\": 0,\n",
      " \"favorited\": false,\n",
      " \"retweeted\": false,\n",
      " \"possibly_sensitive\": false,\n",
      " \"lang\": \"und\"\n",
      "}\n"
     ]
    }
   ],
   "metadata": {}
  },
  {
   "cell_type": "code",
   "execution_count": 7,
   "source": [
    "for i in range(10):\n",
    "    print()\n",
    "    print(statuses[i]['text'])\n",
    "    print('Favorites: ', statuses[i]['favorite_count'])\n",
    "    print('Retweets: ', statuses[i]['retweet_count'])"
   ],
   "outputs": [
    {
     "output_type": "stream",
     "name": "stdout",
     "text": [
      "\n",
      "RT @SivakornLert: ❤❤❤\n",
      ".\n",
      ".\n",
      "#mothersday https://t.co/7FzTtFqo5e\n",
      "Favorites:  0\n",
      "Retweets:  38\n",
      "\n",
      "RT @bittoonfunny: Happy Mother’s Day\n",
      "#MothersDay https://t.co/QPBpY5UEmf\n",
      "Favorites:  0\n",
      "Retweets:  29\n",
      "\n",
      "เพลงดีๆ ประจำวันนี้\n",
      "👉 https://t.co/wdtZ2Bsnt2\n",
      "\n",
      "#น้ำใจแม่ #วันแม่2564 #วันแม่\n",
      "#สุขสันต์วันแม่\n",
      "#วันแม่แห่งชาติ… https://t.co/AlIpeJbxgr\n",
      "Favorites:  0\n",
      "Retweets:  0\n",
      "\n",
      "RT @akshaykumar: Maa warga koi nahi #MothersDay https://t.co/OxFdIhT80V\n",
      "Favorites:  0\n",
      "Retweets:  3270\n",
      "\n",
      "RT @_ntkkwstoru: 𝐇𝐚𝐩𝐩𝐲 𝐌𝐨𝐭𝐡𝐞𝐫’𝐬 𝐃𝐚𝐲 ♡\n",
      "สุขสันต์วันแม่ค่ะ \n",
      "ขอบคุณคุณแม่ที่เลี้ยงโทโท\n",
      "มาได้น่ารักขนาดนี้ 🐻‍❄️✨\n",
      "ขอให้คุณแม่มีสุขภาพร่างกายแข็งแ…\n",
      "Favorites:  0\n",
      "Retweets:  10\n",
      "\n",
      "RT @ArorajArvind: Belive in yourself 👍#arvindaroraquotes #arvindarora #amazingquotes #motherhood #mothersday #dailyquotes #dailywatch #dail…\n",
      "Favorites:  0\n",
      "Retweets:  8\n",
      "\n",
      "RT @Noowaan6: @Feel48021987 😂😂 หนูขำแม่  รักลูกมาก.....💞\n",
      "สุขสันต์วันแม่นะคะคุณแม่\n",
      "ขอให้สุขภาพแข็งแรง\n",
      "เป็นนางฟ้า ที่แสนสวยตลอดไปค่ะ\n",
      "#Mothers…\n",
      "Favorites:  0\n",
      "Retweets:  4\n",
      "\n",
      "แม่ ผู้ที่เชื่อในความเป็นไปได้ของลูกเสมอ\n",
      "Mom, the believer\n",
      "\n",
      "#InFO #mom #MothersDay \n",
      "#วันแม่ #วันแม่แห่งชาติ https://t.co/Topnsb4PpE\n",
      "Favorites:  0\n",
      "Retweets:  0\n",
      "\n",
      "RT @SivakornLert: ❤❤❤\n",
      ".\n",
      ".\n",
      "#mothersday https://t.co/7FzTtFqo5e\n",
      "Favorites:  0\n",
      "Retweets:  38\n",
      "\n",
      "RT @tak_zaintsee_zs: Happy Mother's Day 💙❤🐨🐰 @zee_pruk @Saint_sup\n",
      "#ZeePruk #Saint_sup\n",
      "#ZaintSee #CactuZS 🌵💜\n",
      "#WHYRUTheSeries\n",
      "#ไฟท์เตอร์ติวเต…\n",
      "Favorites:  0\n",
      "Retweets:  8\n"
     ]
    }
   ],
   "metadata": {}
  },
  {
   "cell_type": "markdown",
   "source": [
    "## Extracting text, screen names, and hashtags from tweets"
   ],
   "metadata": {}
  },
  {
   "cell_type": "code",
   "execution_count": 8,
   "source": [
    "status_texts = [ status['text'] \n",
    "                 for status in statuses ]\n",
    "\n",
    "screen_names = [ user_mention['screen_name'] \n",
    "                 for status in statuses\n",
    "                     for user_mention in status['entities']['user_mentions'] ]\n",
    "\n",
    "hashtags = [ hashtag['text'] \n",
    "             for status in statuses\n",
    "                 for hashtag in status['entities']['hashtags'] ]\n",
    "\n",
    "# Compute a collection of all words from all tweets\n",
    "words = [ w \n",
    "          for t in status_texts \n",
    "              for w in t.split() ]\n",
    "\n",
    "# Explore the first 5 items for each...\n",
    "\n",
    "print(json.dumps(status_texts[0:5], indent=1))\n",
    "print(json.dumps(screen_names[0:5], indent=1) )\n",
    "print(json.dumps(hashtags[0:5], indent=1))\n",
    "print(json.dumps(words[0:5], indent=1))"
   ],
   "outputs": [
    {
     "output_type": "stream",
     "name": "stdout",
     "text": [
      "[\n",
      " \"RT @SivakornLert: \\u2764\\u2764\\u2764\\n.\\n.\\n#mothersday https://t.co/7FzTtFqo5e\",\n",
      " \"RT @bittoonfunny: Happy Mother\\u2019s Day\\n#MothersDay https://t.co/QPBpY5UEmf\",\n",
      " \"\\u0e40\\u0e1e\\u0e25\\u0e07\\u0e14\\u0e35\\u0e46 \\u0e1b\\u0e23\\u0e30\\u0e08\\u0e33\\u0e27\\u0e31\\u0e19\\u0e19\\u0e35\\u0e49\\n\\ud83d\\udc49 https://t.co/wdtZ2Bsnt2\\n\\n#\\u0e19\\u0e49\\u0e33\\u0e43\\u0e08\\u0e41\\u0e21\\u0e48 #\\u0e27\\u0e31\\u0e19\\u0e41\\u0e21\\u0e482564 #\\u0e27\\u0e31\\u0e19\\u0e41\\u0e21\\u0e48\\n#\\u0e2a\\u0e38\\u0e02\\u0e2a\\u0e31\\u0e19\\u0e15\\u0e4c\\u0e27\\u0e31\\u0e19\\u0e41\\u0e21\\u0e48\\n#\\u0e27\\u0e31\\u0e19\\u0e41\\u0e21\\u0e48\\u0e41\\u0e2b\\u0e48\\u0e07\\u0e0a\\u0e32\\u0e15\\u0e34\\u2026 https://t.co/AlIpeJbxgr\",\n",
      " \"RT @akshaykumar: Maa warga koi nahi #MothersDay https://t.co/OxFdIhT80V\",\n",
      " \"RT @_ntkkwstoru: \\ud835\\udc07\\ud835\\udc1a\\ud835\\udc29\\ud835\\udc29\\ud835\\udc32 \\ud835\\udc0c\\ud835\\udc28\\ud835\\udc2d\\ud835\\udc21\\ud835\\udc1e\\ud835\\udc2b\\u2019\\ud835\\udc2c \\ud835\\udc03\\ud835\\udc1a\\ud835\\udc32 \\u2661\\n\\u0e2a\\u0e38\\u0e02\\u0e2a\\u0e31\\u0e19\\u0e15\\u0e4c\\u0e27\\u0e31\\u0e19\\u0e41\\u0e21\\u0e48\\u0e04\\u0e48\\u0e30 \\n\\u0e02\\u0e2d\\u0e1a\\u0e04\\u0e38\\u0e13\\u0e04\\u0e38\\u0e13\\u0e41\\u0e21\\u0e48\\u0e17\\u0e35\\u0e48\\u0e40\\u0e25\\u0e35\\u0e49\\u0e22\\u0e07\\u0e42\\u0e17\\u0e42\\u0e17\\n\\u0e21\\u0e32\\u0e44\\u0e14\\u0e49\\u0e19\\u0e48\\u0e32\\u0e23\\u0e31\\u0e01\\u0e02\\u0e19\\u0e32\\u0e14\\u0e19\\u0e35\\u0e49 \\ud83d\\udc3b\\u200d\\u2744\\ufe0f\\u2728\\n\\u0e02\\u0e2d\\u0e43\\u0e2b\\u0e49\\u0e04\\u0e38\\u0e13\\u0e41\\u0e21\\u0e48\\u0e21\\u0e35\\u0e2a\\u0e38\\u0e02\\u0e20\\u0e32\\u0e1e\\u0e23\\u0e48\\u0e32\\u0e07\\u0e01\\u0e32\\u0e22\\u0e41\\u0e02\\u0e47\\u0e07\\u0e41\\u2026\"\n",
      "]\n",
      "[\n",
      " \"SivakornLert\",\n",
      " \"bittoonfunny\",\n",
      " \"akshaykumar\",\n",
      " \"_ntkkwstoru\",\n",
      " \"ArorajArvind\"\n",
      "]\n",
      "[\n",
      " \"mothersday\",\n",
      " \"MothersDay\",\n",
      " \"\\u0e19\\u0e49\\u0e33\\u0e43\\u0e08\\u0e41\\u0e21\\u0e48\",\n",
      " \"\\u0e27\\u0e31\\u0e19\\u0e41\\u0e21\\u0e482564\",\n",
      " \"\\u0e27\\u0e31\\u0e19\\u0e41\\u0e21\\u0e48\"\n",
      "]\n",
      "[\n",
      " \"RT\",\n",
      " \"@SivakornLert:\",\n",
      " \"\\u2764\\u2764\\u2764\",\n",
      " \".\",\n",
      " \".\"\n",
      "]\n"
     ]
    }
   ],
   "metadata": {}
  },
  {
   "cell_type": "markdown",
   "source": [
    "## Creating a basic frequency distribution from the words in tweets"
   ],
   "metadata": {}
  },
  {
   "cell_type": "code",
   "execution_count": 9,
   "source": [
    "from collections import Counter\n",
    "\n",
    "for item in [words, screen_names, hashtags]:\n",
    "    c = Counter(item)\n",
    "    print(c.most_common()[:10]) # top 10\n",
    "    print()"
   ],
   "outputs": [
    {
     "output_type": "stream",
     "name": "stdout",
     "text": [
      "[('RT', 375), ('#MothersDay', 128), ('#mothersday', 101), ('Morning', 98), ('to', 98), ('Kem', 96), ('#เข้มหัสวีร์', 92), ('@Suchadaaa24:', 89), ('Day', 83), ('.', 82)]\n",
      "\n",
      "[('Suchadaaa24', 93), ('SivakornLert', 32), ('ArorajArvind', 31), ('Noowaan6', 24), ('bittoonfunny', 21), ('Kan561111', 15), ('bkkmenu', 14), ('DNew40906675', 11), ('Suescuriosities', 11), ('_ntkkwstoru', 10)]\n",
      "\n",
      "[('MothersDay', 138), ('mothersday', 102), ('เข้มหัสวีร์', 96), ('วันแม่2564', 48), ('วันแม่', 48), ('น้ำใจแม่', 41), ('motherhood', 36), ('สุขสันต์วันแม่', 35), ('MothersDay2021', 34), ('arvindaroraquotes', 33)]\n",
      "\n"
     ]
    }
   ],
   "metadata": {}
  },
  {
   "cell_type": "markdown",
   "source": [
    "## Using prettytable to display tuples in a nice tabular format"
   ],
   "metadata": {}
  },
  {
   "cell_type": "code",
   "execution_count": 10,
   "source": [
    "from prettytable import PrettyTable\n",
    "\n",
    "for label, data in (('Word', words), \n",
    "                    ('Screen Name', screen_names), \n",
    "                    ('Hashtag', hashtags)):\n",
    "    pt = PrettyTable(field_names=[label, 'Count']) \n",
    "    c = Counter(data)\n",
    "    [ pt.add_row(kv) for kv in c.most_common()[:10] ]\n",
    "    pt.align[label], pt.align['Count'] = 'l', 'r' # Set column alignment\n",
    "    print(pt)"
   ],
   "outputs": [
    {
     "output_type": "stream",
     "name": "stdout",
     "text": [
      "+---------------+-------+\n",
      "| Word          | Count |\n",
      "+---------------+-------+\n",
      "| RT            |   375 |\n",
      "| #MothersDay   |   128 |\n",
      "| #mothersday   |   101 |\n",
      "| Morning       |    98 |\n",
      "| to            |    98 |\n",
      "| Kem           |    96 |\n",
      "| #เข้มหัสวีร์      |    92 |\n",
      "| @Suchadaaa24: |    89 |\n",
      "| Day           |    83 |\n",
      "| .             |    82 |\n",
      "+---------------+-------+\n",
      "+-----------------+-------+\n",
      "| Screen Name     | Count |\n",
      "+-----------------+-------+\n",
      "| Suchadaaa24     |    93 |\n",
      "| SivakornLert    |    32 |\n",
      "| ArorajArvind    |    31 |\n",
      "| Noowaan6        |    24 |\n",
      "| bittoonfunny    |    21 |\n",
      "| Kan561111       |    15 |\n",
      "| bkkmenu         |    14 |\n",
      "| DNew40906675    |    11 |\n",
      "| Suescuriosities |    11 |\n",
      "| _ntkkwstoru     |    10 |\n",
      "+-----------------+-------+\n",
      "+-------------------+-------+\n",
      "| Hashtag           | Count |\n",
      "+-------------------+-------+\n",
      "| MothersDay        |   138 |\n",
      "| mothersday        |   102 |\n",
      "| เข้มหัสวีร์           |    96 |\n",
      "| วันแม่2564          |    48 |\n",
      "| วันแม่              |    48 |\n",
      "| น้ำใจแม่            |    41 |\n",
      "| motherhood        |    36 |\n",
      "| สุขสันต์วันแม่         |    35 |\n",
      "| MothersDay2021    |    34 |\n",
      "| arvindaroraquotes |    33 |\n",
      "+-------------------+-------+\n"
     ]
    }
   ],
   "metadata": {}
  },
  {
   "cell_type": "markdown",
   "source": [
    "## Calculating lexical diversity for tweets"
   ],
   "metadata": {}
  },
  {
   "cell_type": "code",
   "execution_count": 11,
   "source": [
    "# A function for computing lexical diversity\n",
    "def lexical_diversity(tokens):\n",
    "    return len(set(tokens))/len(tokens) \n",
    "\n",
    "# A function for computing the average number of words per tweet\n",
    "def average_words(statuses):\n",
    "    total_words = sum([ len(s.split()) for s in statuses ]) \n",
    "    return total_words/len(statuses)\n",
    "\n",
    "print(lexical_diversity(words))\n",
    "print(lexical_diversity(screen_names))\n",
    "print(lexical_diversity(hashtags))\n",
    "print(average_words(status_texts))"
   ],
   "outputs": [
    {
     "output_type": "stream",
     "name": "stdout",
     "text": [
      "0.3132718055375016\n",
      "0.26558891454965355\n",
      "0.21805555555555556\n",
      "12.821666666666667\n"
     ]
    }
   ],
   "metadata": {}
  },
  {
   "cell_type": "markdown",
   "source": [
    "## Finding the most popular retweets"
   ],
   "metadata": {}
  },
  {
   "cell_type": "code",
   "execution_count": 12,
   "source": [
    "retweets = [\n",
    "            # Store out a tuple of these three values ...\n",
    "            (status['retweet_count'], \n",
    "             status['retweeted_status']['user']['screen_name'],\n",
    "             status['retweeted_status']['id'],\n",
    "             status['text']) \n",
    "            \n",
    "            # ... for each status ...\n",
    "            for status in statuses \n",
    "            \n",
    "            # ... so long as the status meets this condition.\n",
    "                if 'retweeted_status' in status.keys()\n",
    "           ]\n",
    "\n",
    "# Slice off the first 5 from the sorted results and display each item in the tuple\n",
    "\n",
    "pt = PrettyTable(field_names=['Count', 'Screen Name', 'Tweet ID', 'Text'])\n",
    "[ pt.add_row(row) for row in sorted(retweets, reverse=True)[:5] ]\n",
    "pt.max_width['Text'] = 50\n",
    "pt.align= 'l'\n",
    "print(pt)"
   ],
   "outputs": [
    {
     "output_type": "stream",
     "name": "stdout",
     "text": [
      "+-------+--------------+---------------------+----------------------------------------------------+\n",
      "| Count | Screen Name  | Tweet ID            | Text                                               |\n",
      "+-------+--------------+---------------------+----------------------------------------------------+\n",
      "| 4550  | insan_honey  | 1259296791679426562 | RT @insan_honey: Only one woman is the best in the |\n",
      "|       |              |                     | world and whom I love the most, she is my MOTHER.… |\n",
      "| 3550  | mkstalin     | 1391254816010035200 | RT @mkstalin: 'தாய்'மொழி, 'தாய்'நாடு என நம்           |\n",
      "|       |              |                     | வாழ்வின் எல்லா நிலையிலும் உயர்ந்து                       |\n",
      "|       |              |                     | நிறைந்திருப்பவர் தாய். பத்து மாதம் சுமந்து,               |\n",
      "|       |              |                     | சீராட்டி வளர்த்த…                                      |\n",
      "| 3520  | Emy_san_arts | 1127475464916881408 | RT @Emy_san_arts: \"Hello, mom.\"                    |\n",
      "|       |              |                     |                                                    |\n",
      "|       |              |                     | #DMC5 #DevilMayCry #MothersDay                     |\n",
      "|       |              |                     | https://t.co/6jJ7NbQaQT                            |\n",
      "| 3270  | akshaykumar  | 1391388781639467027 | RT @akshaykumar: Maa warga koi nahi #MothersDay    |\n",
      "|       |              |                     | https://t.co/OxFdIhT80V                            |\n",
      "| 2897  | Ava_Av9      | 995511449278529536  | RT @Ava_Av9: True love ❤                           |\n",
      "|       |              |                     | #mothersday https://t.co/WCj0uzDdoW                |\n",
      "+-------+--------------+---------------------+----------------------------------------------------+\n"
     ]
    }
   ],
   "metadata": {}
  },
  {
   "cell_type": "markdown",
   "source": [
    "## Looking up users who have retweeted a status"
   ],
   "metadata": {}
  },
  {
   "cell_type": "code",
   "execution_count": 13,
   "source": [
    "# Get the original tweet id for a tweet from its retweeted_status node \n",
    "# and insert it here\n",
    "\n",
    "_retweets = twitter_api.statuses.retweets(id=862359093398261760)\n",
    "print([r['user']['screen_name'] for r in _retweets])"
   ],
   "outputs": [
    {
     "output_type": "stream",
     "name": "stdout",
     "text": [
      "['vijoumolce1988', 'driftourare1988', 'NoNicheNC', 'livingmybestie', 'Rockawaytheday']\n"
     ]
    }
   ],
   "metadata": {}
  },
  {
   "cell_type": "markdown",
   "source": [
    "## Plotting frequencies of words"
   ],
   "metadata": {}
  },
  {
   "cell_type": "code",
   "execution_count": 14,
   "source": [
    "import matplotlib.pyplot as plt\n",
    "%matplotlib inline\n",
    "word_counts = sorted(Counter(words).values(), reverse=True)\n",
    "\n",
    "plt.loglog(word_counts)\n",
    "plt.ylabel(\"Freq\")\n",
    "plt.xlabel(\"Word Rank\")"
   ],
   "outputs": [
    {
     "output_type": "execute_result",
     "data": {
      "text/plain": [
       "Text(0.5, 0, 'Word Rank')"
      ]
     },
     "metadata": {},
     "execution_count": 14
    },
    {
     "output_type": "display_data",
     "data": {
      "text/plain": [
       "<Figure size 432x288 with 1 Axes>"
      ],
      "image/png": "[encoded data removed]"
     },
     "metadata": {
      "needs_background": "light"
     }
    }
   ],
   "metadata": {}
  },
  {
   "cell_type": "markdown",
   "source": [
    "## Generating histograms of words, screen names, and hashtags"
   ],
   "metadata": {}
  },
  {
   "cell_type": "code",
   "execution_count": 15,
   "source": [
    "for label, data in (('Words', words), \n",
    "                    ('Screen Names', screen_names), \n",
    "                    ('Hashtags', hashtags)):\n",
    "\n",
    "    # Build a frequency map for each set of data\n",
    "    # and plot the values\n",
    "    c = Counter(data)\n",
    "    plt.hist(list(c.values()))\n",
    "    \n",
    "    # Add a title and y-label ...\n",
    "    plt.title(label)\n",
    "    plt.ylabel(\"Number of items in bin\")\n",
    "    plt.xlabel(\"Bins (number of times an item appeared)\")\n",
    "    \n",
    "    # ... and display as a new figure\n",
    "    plt.figure()"
   ],
   "outputs": [
    {
     "output_type": "display_data",
     "data": {
      "text/plain": [
       "<Figure size 432x288 with 1 Axes>"
      ],
      "image/png": "[encoded data removed]"
     },
     "metadata": {
      "needs_background": "light"
     }
    },
    {
     "output_type": "display_data",
     "data": {
      "text/plain": [
       "<Figure size 432x288 with 1 Axes>"
      ],
      "image/png": "[encoded data removed]"
     },
     "metadata": {
      "needs_background": "light"
     }
    },
    {
     "output_type": "display_data",
     "data": {
      "text/plain": [
       "<Figure size 432x288 with 1 Axes>"
      ],
      "image/png": "[encoded data removed]"
     },
     "metadata": {
      "needs_background": "light"
     }
    },
    {
     "output_type": "display_data",
     "data": {
      "text/plain": [
       "<Figure size 432x288 with 0 Axes>"
      ]
     },
     "metadata": {}
    }
   ],
   "metadata": {}
  },
  {
   "cell_type": "markdown",
   "source": [
    "## Generating a histogram of retweet counts"
   ],
   "metadata": {}
  },
  {
   "cell_type": "code",
   "execution_count": 16,
   "source": [
    "# Using underscores while unpacking values in\n",
    "# a tuple is idiomatic for discarding them\n",
    "\n",
    "counts = [count for count, _, _, _ in retweets]\n",
    "\n",
    "plt.hist(counts)\n",
    "plt.title('Retweets')\n",
    "plt.xlabel('Bins (number of times retweeted)')\n",
    "plt.ylabel('Number of tweets in bin')"
   ],
   "outputs": [
    {
     "output_type": "execute_result",
     "data": {
      "text/plain": [
       "Text(0, 0.5, 'Number of tweets in bin')"
      ]
     },
     "metadata": {},
     "execution_count": 16
    },
    {
     "output_type": "display_data",
     "data": {
      "text/plain": [
       "<Figure size 432x288 with 1 Axes>"
      ],
      "image/png": "[encoded data removed]"
     },
     "metadata": {
      "needs_background": "light"
     }
    }
   ],
   "metadata": {}
  },
  {
   "cell_type": "markdown",
   "source": [
    "## Sentiment Analysis"
   ],
   "metadata": {
    "collapsed": true
   }
  },
  {
   "cell_type": "code",
   "execution_count": 17,
   "source": [
    "# pip install nltk\n",
    "import nltk\n",
    "nltk.download('vader_lexicon')\n",
    "\n",
    "import numpy as np\n",
    "from nltk.sentiment.vader import SentimentIntensityAnalyzer"
   ],
   "outputs": [
    {
     "output_type": "stream",
     "name": "stderr",
     "text": [
      "[nltk_data] Downloading package vader_lexicon to\n",
      "[nltk_data]     /home/shane/nltk_data...\n"
     ]
    }
   ],
   "metadata": {}
  },
  {
   "cell_type": "code",
   "execution_count": 18,
   "source": [
    "twitter_stream = twitter.TwitterStream(auth=auth)\n",
    "iterator = twitter_stream.statuses.sample()"
   ],
   "outputs": [],
   "metadata": {}
  },
  {
   "cell_type": "code",
   "execution_count": 19,
   "source": [
    "tweets = []\n",
    "for tweet in iterator:\n",
    "    try:\n",
    "        if tweet['lang'] == 'en':\n",
    "            tweets.append(tweet)\n",
    "    except:\n",
    "        pass\n",
    "    if len(tweets) == 100:\n",
    "        break"
   ],
   "outputs": [],
   "metadata": {}
  },
  {
   "cell_type": "code",
   "execution_count": 20,
   "source": [
    "analyzer = SentimentIntensityAnalyzer()"
   ],
   "outputs": [],
   "metadata": {}
  },
  {
   "cell_type": "code",
   "execution_count": 21,
   "source": [
    "analyzer.polarity_scores('Hello')"
   ],
   "outputs": [
    {
     "output_type": "execute_result",
     "data": {
      "text/plain": [
       "{'neg': 0.0, 'neu': 1.0, 'pos': 0.0, 'compound': 0.0}"
      ]
     },
     "metadata": {},
     "execution_count": 21
    }
   ],
   "metadata": {}
  },
  {
   "cell_type": "code",
   "execution_count": 22,
   "source": [
    "analyzer.polarity_scores('I really enjoy this video series.')"
   ],
   "outputs": [
    {
     "output_type": "execute_result",
     "data": {
      "text/plain": [
       "{'neg': 0.0, 'neu': 0.534, 'pos': 0.466, 'compound': 0.5413}"
      ]
     },
     "metadata": {},
     "execution_count": 22
    }
   ],
   "metadata": {}
  },
  {
   "cell_type": "code",
   "execution_count": 23,
   "source": [
    "analyzer.polarity_scores('I REALLY enjoy this video series.')"
   ],
   "outputs": [
    {
     "output_type": "execute_result",
     "data": {
      "text/plain": [
       "{'neg': 0.0, 'neu': 0.486, 'pos': 0.514, 'compound': 0.64}"
      ]
     },
     "metadata": {},
     "execution_count": 23
    }
   ],
   "metadata": {}
  },
  {
   "cell_type": "code",
   "execution_count": 24,
   "source": [
    "analyzer.polarity_scores('I REALLY enjoy this video series!!!')"
   ],
   "outputs": [
    {
     "output_type": "execute_result",
     "data": {
      "text/plain": [
       "{'neg': 0.0, 'neu': 0.439, 'pos': 0.561, 'compound': 0.7271}"
      ]
     },
     "metadata": {},
     "execution_count": 24
    }
   ],
   "metadata": {}
  },
  {
   "cell_type": "code",
   "execution_count": 25,
   "source": [
    "analyzer.polarity_scores('I REALLY did not enjoy this video series!!!')"
   ],
   "outputs": [
    {
     "output_type": "execute_result",
     "data": {
      "text/plain": [
       "{'neg': 0.425, 'neu': 0.575, 'pos': 0.0, 'compound': -0.6627}"
      ]
     },
     "metadata": {},
     "execution_count": 25
    }
   ],
   "metadata": {}
  },
  {
   "cell_type": "code",
   "execution_count": 26,
   "source": [
    "scores = np.zeros(len(tweets))\n",
    "\n",
    "for i, t in enumerate(tweets):\n",
    "    # Extract the text portion of the tweet\n",
    "    text = t['text']\n",
    "    \n",
    "    # Measure the polarity of the tweet\n",
    "    polarity = analyzer.polarity_scores(text)\n",
    "    \n",
    "    # Store the normalized, weighted composite score\n",
    "    scores[i] = polarity['compound']"
   ],
   "outputs": [],
   "metadata": {}
  },
  {
   "cell_type": "code",
   "execution_count": 27,
   "source": [
    "most_positive = np.argmax(scores)\n",
    "most_negative = np.argmin(scores)"
   ],
   "outputs": [],
   "metadata": {}
  },
  {
   "cell_type": "code",
   "execution_count": 28,
   "source": [
    "print('{0:6.3f} : \"{1}\"'.format(scores[most_positive], tweets[most_positive]['text']))"
   ],
   "outputs": [
    {
     "output_type": "stream",
     "name": "stdout",
     "text": [
      " 0.905 : \"RT @Dream: thank you for all the birthday wishes 🥺 I love and appreciate all of uuuuuu❤️❤️❤️\n",
      "\n",
      "and I have to... IM FEELING tWENTY TWOOOOO 😎\"\n"
     ]
    }
   ],
   "metadata": {}
  },
  {
   "cell_type": "code",
   "execution_count": 29,
   "source": [
    "print('{0:6.3f} : \"{1}\"'.format(scores[most_negative], tweets[most_negative]['text']))"
   ],
   "outputs": [
    {
     "output_type": "stream",
     "name": "stdout",
     "text": [
      "-0.832 : \"RT @silentevils: every killer on dbd today is proving to me that they don’t wash their ass\"\n"
     ]
    }
   ],
   "metadata": {}
  }
 ],
 "metadata": {
  "kernelspec": {
   "name": "python3",
   "display_name": "Python 3.8.8 64-bit ('venv': venv)"
  },
  "language_info": {
   "codemirror_mode": {
    "name": "ipython",
    "version": 3
   },
   "file_extension": ".py",
   "mimetype": "text/x-python",
   "name": "python",
   "nbconvert_exporter": "python",
   "pygments_lexer": "ipython3",
   "version": "3.8.8"
  },
  "interpreter": {
   "hash": "ed94d6db022e3b0ce9991fa32b81bd9f7e035fb3d152fb6d8b88ec358218c5e0"
  }
 },
 "nbformat": 4,
 "nbformat_minor": 1
}