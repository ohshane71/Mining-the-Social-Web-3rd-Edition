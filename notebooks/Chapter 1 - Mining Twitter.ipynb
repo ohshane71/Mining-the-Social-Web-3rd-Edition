{
 "cells": [
  {
   "cell_type": "markdown",
   "source": [
    "# Mining Twitter\n",
    "\n",
    "Twitter implements OAuth 1.0A as its standard authentication mechanism, and in order to use it to make requests to Twitter's API, you'll need to go to https://developer.twitter.com/en/apps and create a sample application. It is possible that Twitter no longer supports sandboxed applications and you may need to submit a request for permission to develop an app on Twitter.\n",
    "\n",
    "There are four primary identifiers you'll need to note for an OAuth 1.0A workflow: consumer key, consumer secret, access token, and access token secret. Note that you will need an ordinary Twitter account in order to login, create an app, and get these credentials.\n",
    "\n",
    "<img src=\"resources/ch01-twitter/images/Twitter-AppCredentials.png\" width=\"600px\">"
   ],
   "metadata": {}
  },
  {
   "cell_type": "markdown",
   "source": [
    "If you are running this code on Binder or from the Docker container, you should just be able to execute the code in this notebook without any worries whatsoever about installing dependencies. If you are running the code from your own development envioronment, however, be advised that these examples in this chapter take advantage of a Python package called [twitter](https://github.com/sixohsix/twitter) to make API calls. You can install this package in a terminal with [pip](https://pypi.python.org/pypi/pip) with the command `pip install twitter`, preferably from within a [Python virtual environment](https://pypi.python.org/pypi/virtualenv). "
   ],
   "metadata": {}
  },
  {
   "cell_type": "markdown",
   "source": [
    "Once installed, you should be able to open up a Python interpreter (or better yet, your [IPython](http://ipython.org/) interpreter) and get rolling."
   ],
   "metadata": {}
  },
  {
   "cell_type": "markdown",
   "source": [
    "## Authorizing an application to access Twitter account data"
   ],
   "metadata": {}
  },
  {
   "cell_type": "code",
   "execution_count": 1,
   "source": [
    "import twitter\n",
    "import os\n",
    "from dotenv import load_dotenv\n",
    "\n",
    "load_dotenv()\n",
    "\n",
    "# Go to https://developer.twitter.com/en/apps to create an app and get values\n",
    "# for these credentials, which you'll need to provide in place of these\n",
    "# empty string values that are defined as placeholders.\n",
    "# See https://developer.twitter.com/en/docs/basics/authentication/overview/oauth\n",
    "# for more information on Twitter's OAuth implementation.\n",
    "\n",
    "CONSUMER_KEY = os.getenv(\"CONSUMER_KEY\")\n",
    "CONSUMER_SECRET = os.getenv(\"CONSUMER_SECRET\")\n",
    "OAUTH_TOKEN = os.getenv(\"ACCESS_TOKEN\")\n",
    "OAUTH_TOKEN_SECRET = os.getenv(\"ACCESS_TOKEN_SECRET\")\n",
    "\n",
    "auth = twitter.oauth.OAuth(OAUTH_TOKEN, OAUTH_TOKEN_SECRET,\n",
    "                           CONSUMER_KEY, CONSUMER_SECRET)\n",
    "\n",
    "twitter_api = twitter.Twitter(auth=auth)\n",
    "\n",
    "# Nothing to see by displaying twitter_api except that it's now a\n",
    "# defined variable\n",
    "\n",
    "print(twitter_api)"
   ],
   "outputs": [
    {
     "output_type": "stream",
     "name": "stdout",
     "text": [
      "<twitter.api.Twitter object at 0x7f1188727910>\n"
     ]
    }
   ],
   "metadata": {}
  },
  {
   "cell_type": "markdown",
   "source": [
    "## Retrieving trends"
   ],
   "metadata": {}
  },
  {
   "cell_type": "code",
   "execution_count": 2,
   "source": [
    "# The Yahoo! Where On Earth ID for the entire world is 1.\n",
    "# See https://dev.twitter.com/docs/api/1.1/get/trends/place and\n",
    "# http://developer.yahoo.com/geo/geoplanet/\n",
    "\n",
    "WORLD_WOE_ID = 1\n",
    "US_WOE_ID = 23424977\n",
    "\n",
    "# Prefix ID with the underscore for query string parameterization.\n",
    "# Without the underscore, the twitter package appends the ID value\n",
    "# to the URL itself as a special case keyword argument.\n",
    "\n",
    "world_trends = twitter_api.trends.place(_id=WORLD_WOE_ID)\n",
    "us_trends = twitter_api.trends.place(_id=US_WOE_ID)\n",
    "\n",
    "print(world_trends)\n",
    "print()\n",
    "print(us_trends)"
   ],
   "outputs": [
    {
     "output_type": "stream",
     "name": "stdout",
     "text": [
      "[{'trends': [{'name': 'コースト', 'url': 'http://twitter.com/search?q=%E3%82%B3%E3%83%BC%E3%82%B9%E3%83%88', 'promoted_content': None, 'query': '%E3%82%B3%E3%83%BC%E3%82%B9%E3%83%88', 'tweet_volume': None}, {'name': 'HAPPY BIRTHDAY DREAM', 'url': 'http://twitter.com/search?q=%22HAPPY+BIRTHDAY+DREAM%22', 'promoted_content': None, 'query': '%22HAPPY+BIRTHDAY+DREAM%22', 'tweet_volume': 93793}, {'name': '#グラブル配布の日', 'url': 'http://twitter.com/search?q=%23%E3%82%B0%E3%83%A9%E3%83%96%E3%83%AB%E9%85%8D%E5%B8%83%E3%81%AE%E6%97%A5', 'promoted_content': None, 'query': '%23%E3%82%B0%E3%83%A9%E3%83%96%E3%83%AB%E9%85%8D%E5%B8%83%E3%81%AE%E6%97%A5', 'tweet_volume': 20126}, {'name': 'Nacho', 'url': 'http://twitter.com/search?q=Nacho', 'promoted_content': None, 'query': 'Nacho', 'tweet_volume': 63447}, {'name': 'STUDIO COAST', 'url': 'http://twitter.com/search?q=%22STUDIO+COAST%22', 'promoted_content': None, 'query': '%22STUDIO+COAST%22', 'tweet_volume': 37326}, {'name': 'SCP財団', 'url': 'http://twitter.com/search?q=SCP%E8%B2%A1%E5%9B%A3', 'promoted_content': None, 'query': 'SCP%E8%B2%A1%E5%9B%A3', 'tweet_volume': 10475}, {'name': '#ワイドスクランブル', 'url': 'http://twitter.com/search?q=%23%E3%83%AF%E3%82%A4%E3%83%89%E3%82%B9%E3%82%AF%E3%83%A9%E3%83%B3%E3%83%96%E3%83%AB', 'promoted_content': None, 'query': '%23%E3%83%AF%E3%82%A4%E3%83%89%E3%82%B9%E3%82%AF%E3%83%A9%E3%83%B3%E3%83%96%E3%83%AB', 'tweet_volume': 27951}, {'name': 'River', 'url': 'http://twitter.com/search?q=River', 'promoted_content': None, 'query': 'River', 'tweet_volume': 160984}, {'name': 'ageHa', 'url': 'http://twitter.com/search?q=ageHa', 'promoted_content': None, 'query': 'ageHa', 'tweet_volume': 14213}, {'name': '#カマージャンボ', 'url': 'http://twitter.com/search?q=%23%E3%82%AB%E3%83%9E%E3%83%BC%E3%82%B8%E3%83%A3%E3%83%B3%E3%83%9C', 'promoted_content': None, 'query': '%23%E3%82%AB%E3%83%9E%E3%83%BC%E3%82%B8%E3%83%A3%E3%83%B3%E3%83%9C', 'tweet_volume': None}, {'name': '#香取慎吾', 'url': 'http://twitter.com/search?q=%23%E9%A6%99%E5%8F%96%E6%85%8E%E5%90%BE', 'promoted_content': None, 'query': '%23%E9%A6%99%E5%8F%96%E6%85%8E%E5%90%BE', 'tweet_volume': 24154}, {'name': '#VotaçãoNaIlha', 'url': 'http://twitter.com/search?q=%23Vota%C3%A7%C3%A3oNaIlha', 'promoted_content': None, 'query': '%23Vota%C3%A7%C3%A3oNaIlha', 'tweet_volume': 22095}, {'name': 'Flamengo', 'url': 'http://twitter.com/search?q=Flamengo', 'promoted_content': None, 'query': 'Flamengo', 'tweet_volume': 284641}, {'name': 'Trans', 'url': 'http://twitter.com/search?q=Trans', 'promoted_content': None, 'query': 'Trans', 'tweet_volume': 191467}, {'name': 'Twitterくん', 'url': 'http://twitter.com/search?q=Twitter%E3%81%8F%E3%82%93', 'promoted_content': None, 'query': 'Twitter%E3%81%8F%E3%82%93', 'tweet_volume': 354173}, {'name': 'ガンダム', 'url': 'http://twitter.com/search?q=%E3%82%AC%E3%83%B3%E3%83%80%E3%83%A0', 'promoted_content': None, 'query': '%E3%82%AC%E3%83%B3%E3%83%80%E3%83%A0', 'tweet_volume': 42376}, {'name': 'ライブハウス', 'url': 'http://twitter.com/search?q=%E3%83%A9%E3%82%A4%E3%83%96%E3%83%8F%E3%82%A6%E3%82%B9', 'promoted_content': None, 'query': '%E3%83%A9%E3%82%A4%E3%83%96%E3%83%8F%E3%82%A6%E3%82%B9', 'tweet_volume': None}, {'name': 'フォント', 'url': 'http://twitter.com/search?q=%E3%83%95%E3%82%A9%E3%83%B3%E3%83%88', 'promoted_content': None, 'query': '%E3%83%95%E3%82%A9%E3%83%B3%E3%83%88', 'tweet_volume': 32754}, {'name': 'Ozzie', 'url': 'http://twitter.com/search?q=Ozzie', 'promoted_content': None, 'query': 'Ozzie', 'tweet_volume': 10257}, {'name': 'Zepp Tokyo', 'url': 'http://twitter.com/search?q=%22Zepp+Tokyo%22', 'promoted_content': None, 'query': '%22Zepp+Tokyo%22', 'tweet_volume': None}, {'name': '学校のプール', 'url': 'http://twitter.com/search?q=%E5%AD%A6%E6%A0%A1%E3%81%AE%E3%83%97%E3%83%BC%E3%83%AB', 'promoted_content': None, 'query': '%E5%AD%A6%E6%A0%A1%E3%81%AE%E3%83%97%E3%83%BC%E3%83%AB', 'tweet_volume': None}, {'name': 'Arrascaeta', 'url': 'http://twitter.com/search?q=Arrascaeta', 'promoted_content': None, 'query': 'Arrascaeta', 'tweet_volume': 61944}, {'name': 'calum', 'url': 'http://twitter.com/search?q=calum', 'promoted_content': None, 'query': 'calum', 'tweet_volume': None}, {'name': 'Braves', 'url': 'http://twitter.com/search?q=Braves', 'promoted_content': None, 'query': 'Braves', 'tweet_volume': 25145}, {'name': 'Hunter Biden', 'url': 'http://twitter.com/search?q=%22Hunter+Biden%22', 'promoted_content': None, 'query': '%22Hunter+Biden%22', 'tweet_volume': 52547}, {'name': 'ダークモード', 'url': 'http://twitter.com/search?q=%E3%83%80%E3%83%BC%E3%82%AF%E3%83%A2%E3%83%BC%E3%83%89', 'promoted_content': None, 'query': '%E3%83%80%E3%83%BC%E3%82%AF%E3%83%A2%E3%83%BC%E3%83%89', 'tweet_volume': 10619}, {'name': 'Lali', 'url': 'http://twitter.com/search?q=Lali', 'promoted_content': None, 'query': 'Lali', 'tweet_volume': 23297}, {'name': '広島県と市', 'url': 'http://twitter.com/search?q=%E5%BA%83%E5%B3%B6%E7%9C%8C%E3%81%A8%E5%B8%82', 'promoted_content': None, 'query': '%E5%BA%83%E5%B3%B6%E7%9C%8C%E3%81%A8%E5%B8%82', 'tweet_volume': 23012}, {'name': 'CHARLIE SLIMECICLE', 'url': 'http://twitter.com/search?q=%22CHARLIE+SLIMECICLE%22', 'promoted_content': None, 'query': '%22CHARLIE+SLIMECICLE%22', 'tweet_volume': None}, {'name': 'Carrascal', 'url': 'http://twitter.com/search?q=Carrascal', 'promoted_content': None, 'query': 'Carrascal', 'tweet_volume': None}, {'name': 'CHAEYOUNG', 'url': 'http://twitter.com/search?q=CHAEYOUNG', 'promoted_content': None, 'query': 'CHAEYOUNG', 'tweet_volume': 86297}, {'name': 'Pon De Beach', 'url': 'http://twitter.com/search?q=%22Pon+De+Beach%22', 'promoted_content': None, 'query': '%22Pon+De+Beach%22', 'tweet_volume': None}, {'name': 'IOCと組織委', 'url': 'http://twitter.com/search?q=IOC%E3%81%A8%E7%B5%84%E7%B9%94%E5%A7%94', 'promoted_content': None, 'query': 'IOC%E3%81%A8%E7%B5%84%E7%B9%94%E5%A7%94', 'tweet_volume': 17657}, {'name': 'ノーゲーム', 'url': 'http://twitter.com/search?q=%E3%83%8E%E3%83%BC%E3%82%B2%E3%83%BC%E3%83%A0', 'promoted_content': None, 'query': '%E3%83%8E%E3%83%BC%E3%82%B2%E3%83%BC%E3%83%A0', 'tweet_volume': 13114}, {'name': 'バッハ氏の広島訪問警備費負担', 'url': 'http://twitter.com/search?q=%E3%83%90%E3%83%83%E3%83%8F%E6%B0%8F%E3%81%AE%E5%BA%83%E5%B3%B6%E8%A8%AA%E5%95%8F%E8%AD%A6%E5%82%99%E8%B2%BB%E8%B2%A0%E6%8B%85', 'promoted_content': None, 'query': '%E3%83%90%E3%83%83%E3%83%8F%E6%B0%8F%E3%81%AE%E5%BA%83%E5%B3%B6%E8%A8%AA%E5%95%8F%E8%AD%A6%E5%82%99%E8%B2%BB%E8%B2%A0%E6%8B%85', 'tweet_volume': 17476}, {'name': '全額折半', 'url': 'http://twitter.com/search?q=%E5%85%A8%E9%A1%8D%E6%8A%98%E5%8D%8A', 'promoted_content': None, 'query': '%E5%85%A8%E9%A1%8D%E6%8A%98%E5%8D%8A', 'tweet_volume': 19426}, {'name': '塩野くん', 'url': 'http://twitter.com/search?q=%E5%A1%A9%E9%87%8E%E3%81%8F%E3%82%93', 'promoted_content': None, 'query': '%E5%A1%A9%E9%87%8E%E3%81%8F%E3%82%93', 'tweet_volume': None}, {'name': 'Mineiro', 'url': 'http://twitter.com/search?q=Mineiro', 'promoted_content': None, 'query': 'Mineiro', 'tweet_volume': 22972}, {'name': 'Will Smith', 'url': 'http://twitter.com/search?q=%22Will+Smith%22', 'promoted_content': None, 'query': '%22Will+Smith%22', 'tweet_volume': 12373}, {'name': '업데이트', 'url': 'http://twitter.com/search?q=%EC%97%85%EB%8D%B0%EC%9D%B4%ED%8A%B8', 'promoted_content': None, 'query': '%EC%97%85%EB%8D%B0%EC%9D%B4%ED%8A%B8', 'tweet_volume': 14388}, {'name': 'Gallardo', 'url': 'http://twitter.com/search?q=Gallardo', 'promoted_content': None, 'query': 'Gallardo', 'tweet_volume': 12699}, {'name': 'バーベキュー後', 'url': 'http://twitter.com/search?q=%E3%83%90%E3%83%BC%E3%83%99%E3%82%AD%E3%83%A5%E3%83%BC%E5%BE%8C', 'promoted_content': None, 'query': '%E3%83%90%E3%83%BC%E3%83%99%E3%82%AD%E3%83%A5%E3%83%BC%E5%BE%8C', 'tweet_volume': None}, {'name': '行為の代償', 'url': 'http://twitter.com/search?q=%E8%A1%8C%E7%82%BA%E3%81%AE%E4%BB%A3%E5%84%9F', 'promoted_content': None, 'query': '%E8%A1%8C%E7%82%BA%E3%81%AE%E4%BB%A3%E5%84%9F', 'tweet_volume': None}, {'name': 'フォロー中', 'url': 'http://twitter.com/search?q=%E3%83%95%E3%82%A9%E3%83%AD%E3%83%BC%E4%B8%AD', 'promoted_content': None, 'query': '%E3%83%95%E3%82%A9%E3%83%AD%E3%83%BC%E4%B8%AD', 'tweet_volume': 597930}, {'name': 'Everson', 'url': 'http://twitter.com/search?q=Everson', 'promoted_content': None, 'query': 'Everson', 'tweet_volume': None}, {'name': 'Twitterアプデ', 'url': 'http://twitter.com/search?q=Twitter%E3%82%A2%E3%83%97%E3%83%87', 'promoted_content': None, 'query': 'Twitter%E3%82%A2%E3%83%97%E3%83%87', 'tweet_volume': 17464}, {'name': '大下さん', 'url': 'http://twitter.com/search?q=%E5%A4%A7%E4%B8%8B%E3%81%95%E3%82%93', 'promoted_content': None, 'query': '%E5%A4%A7%E4%B8%8B%E3%81%95%E3%82%93', 'tweet_volume': 21252}, {'name': 'McBride', 'url': 'http://twitter.com/search?q=McBride', 'promoted_content': None, 'query': 'McBride', 'tweet_volume': None}, {'name': '慎吾ちゃん', 'url': 'http://twitter.com/search?q=%E6%85%8E%E5%90%BE%E3%81%A1%E3%82%83%E3%82%93', 'promoted_content': None, 'query': '%E6%85%8E%E5%90%BE%E3%81%A1%E3%82%83%E3%82%93', 'tweet_volume': None}, {'name': 'TwitterのUI', 'url': 'http://twitter.com/search?q=Twitter%E3%81%AEUI', 'promoted_content': None, 'query': 'Twitter%E3%81%AEUI', 'tweet_volume': 38948}], 'as_of': '2021-08-12T04:11:22Z', 'created_at': '2021-08-11T12:20:35Z', 'locations': [{'name': 'Worldwide', 'woeid': 1}]}]\n",
      "\n",
      "[{'trends': [{'name': 'HAPPY BIRTHDAY DREAM', 'url': 'http://twitter.com/search?q=%22HAPPY+BIRTHDAY+DREAM%22', 'promoted_content': None, 'query': '%22HAPPY+BIRTHDAY+DREAM%22', 'tweet_volume': 93793}, {'name': 'Trans', 'url': 'http://twitter.com/search?q=Trans', 'promoted_content': None, 'query': 'Trans', 'tweet_volume': 191467}, {'name': 'Ozzie', 'url': 'http://twitter.com/search?q=Ozzie', 'promoted_content': None, 'query': 'Ozzie', 'tweet_volume': 10257}, {'name': '#AEWDynamite', 'url': 'http://twitter.com/search?q=%23AEWDynamite', 'promoted_content': None, 'query': '%23AEWDynamite', 'tweet_volume': 48425}, {'name': '#BETPresentsTheEncore', 'url': 'http://twitter.com/search?q=%23BETPresentsTheEncore', 'promoted_content': None, 'query': '%23BETPresentsTheEncore', 'tweet_volume': None}, {'name': '#RonaRon', 'url': 'http://twitter.com/search?q=%23RonaRon', 'promoted_content': None, 'query': '%23RonaRon', 'tweet_volume': 17847}, {'name': '#RHOBH', 'url': 'http://twitter.com/search?q=%23RHOBH', 'promoted_content': None, 'query': '%23RHOBH', 'tweet_volume': 17310}, {'name': 'Will Smith', 'url': 'http://twitter.com/search?q=%22Will+Smith%22', 'promoted_content': None, 'query': '%22Will+Smith%22', 'tweet_volume': 12373}, {'name': 'Hunter Biden', 'url': 'http://twitter.com/search?q=%22Hunter+Biden%22', 'promoted_content': None, 'query': '%22Hunter+Biden%22', 'tweet_volume': 52547}, {'name': '#ForTheA', 'url': 'http://twitter.com/search?q=%23ForTheA', 'promoted_content': None, 'query': '%23ForTheA', 'tweet_volume': None}, {'name': 'CHARLIE SLIMECICLE', 'url': 'http://twitter.com/search?q=%22CHARLIE+SLIMECICLE%22', 'promoted_content': None, 'query': '%22CHARLIE+SLIMECICLE%22', 'tweet_volume': None}, {'name': 'McBride', 'url': 'http://twitter.com/search?q=McBride', 'promoted_content': None, 'query': 'McBride', 'tweet_volume': None}, {'name': 'Votto', 'url': 'http://twitter.com/search?q=Votto', 'promoted_content': None, 'query': 'Votto', 'tweet_volume': None}, {'name': 'Corbin Burnes', 'url': 'http://twitter.com/search?q=%22Corbin+Burnes%22', 'promoted_content': None, 'query': '%22Corbin+Burnes%22', 'tweet_volume': None}, {'name': 'Arnold', 'url': 'http://twitter.com/search?q=Arnold', 'promoted_content': None, 'query': 'Arnold', 'tweet_volume': 30956}, {'name': 'Bellinger', 'url': 'http://twitter.com/search?q=Bellinger', 'promoted_content': None, 'query': 'Bellinger', 'tweet_volume': None}, {'name': 'Lucas Sims', 'url': 'http://twitter.com/search?q=%22Lucas+Sims%22', 'promoted_content': None, 'query': '%22Lucas+Sims%22', 'tweet_volume': None}, {'name': 'The Delta Variant', 'url': 'http://twitter.com/search?q=%22The+Delta+Variant%22', 'promoted_content': None, 'query': '%22The+Delta+Variant%22', 'tweet_volume': 205613}, {'name': 'Kiely', 'url': 'http://twitter.com/search?q=Kiely', 'promoted_content': None, 'query': 'Kiely', 'tweet_volume': None}, {'name': 'callahan', 'url': 'http://twitter.com/search?q=callahan', 'promoted_content': None, 'query': 'callahan', 'tweet_volume': None}, {'name': 'calum', 'url': 'http://twitter.com/search?q=calum', 'promoted_content': None, 'query': 'calum', 'tweet_volume': None}, {'name': 'Black Thought', 'url': 'http://twitter.com/search?q=%22Black+Thought%22', 'promoted_content': None, 'query': '%22Black+Thought%22', 'tweet_volume': None}, {'name': 'Adam Wainwright', 'url': 'http://twitter.com/search?q=%22Adam+Wainwright%22', 'promoted_content': None, 'query': '%22Adam+Wainwright%22', 'tweet_volume': None}, {'name': 'Waino', 'url': 'http://twitter.com/search?q=Waino', 'promoted_content': None, 'query': 'Waino', 'tweet_volume': None}, {'name': 'Andre 3000', 'url': 'http://twitter.com/search?q=%22Andre+3000%22', 'promoted_content': None, 'query': '%22Andre+3000%22', 'tweet_volume': None}, {'name': 'DREAM DAY', 'url': 'http://twitter.com/search?q=%22DREAM+DAY%22', 'promoted_content': None, 'query': '%22DREAM+DAY%22', 'tweet_volume': 45538}, {'name': 'Miggy', 'url': 'http://twitter.com/search?q=Miggy', 'promoted_content': None, 'query': 'Miggy', 'tweet_volume': None}, {'name': 'Givens', 'url': 'http://twitter.com/search?q=Givens', 'promoted_content': None, 'query': 'Givens', 'tweet_volume': None}, {'name': 'Bohm', 'url': 'http://twitter.com/search?q=Bohm', 'promoted_content': None, 'query': 'Bohm', 'tweet_volume': None}, {'name': 'Garcelle', 'url': 'http://twitter.com/search?q=Garcelle', 'promoted_content': None, 'query': 'Garcelle', 'tweet_volume': None}, {'name': 'Dante Martin', 'url': 'http://twitter.com/search?q=%22Dante+Martin%22', 'promoted_content': None, 'query': '%22Dante+Martin%22', 'tweet_volume': None}, {'name': 'Erika', 'url': 'http://twitter.com/search?q=Erika', 'promoted_content': None, 'query': 'Erika', 'tweet_volume': 23488}, {'name': 'Gausman', 'url': 'http://twitter.com/search?q=Gausman', 'promoted_content': None, 'query': 'Gausman', 'tweet_volume': None}, {'name': 'Rinna', 'url': 'http://twitter.com/search?q=Rinna', 'promoted_content': None, 'query': 'Rinna', 'tweet_volume': None}, {'name': 'HOUSE MEETING', 'url': 'http://twitter.com/search?q=%22HOUSE+MEETING%22', 'promoted_content': None, 'query': '%22HOUSE+MEETING%22', 'tweet_volume': None}, {'name': 'Sutton', 'url': 'http://twitter.com/search?q=Sutton', 'promoted_content': None, 'query': 'Sutton', 'tweet_volume': None}, {'name': 'All Out', 'url': 'http://twitter.com/search?q=%22All+Out%22', 'promoted_content': None, 'query': '%22All+Out%22', 'tweet_volume': 411378}, {'name': 'LA Confidential', 'url': 'http://twitter.com/search?q=%22LA+Confidential%22', 'promoted_content': None, 'query': '%22LA+Confidential%22', 'tweet_volume': None}, {'name': 'Antonov', 'url': 'http://twitter.com/search?q=Antonov', 'promoted_content': None, 'query': 'Antonov', 'tweet_volume': None}, {'name': 'Shamari', 'url': 'http://twitter.com/search?q=Shamari', 'promoted_content': None, 'query': 'Shamari', 'tweet_volume': None}, {'name': 'Snit', 'url': 'http://twitter.com/search?q=Snit', 'promoted_content': None, 'query': 'Snit', 'tweet_volume': None}, {'name': 'Ernie Johnson', 'url': 'http://twitter.com/search?q=%22Ernie+Johnson%22', 'promoted_content': None, 'query': '%22Ernie+Johnson%22', 'tweet_volume': None}, {'name': 'My Fall', 'url': 'http://twitter.com/search?q=%22My+Fall%22', 'promoted_content': None, 'query': '%22My+Fall%22', 'tweet_volume': 147337}, {'name': 'Jed Lowrie', 'url': 'http://twitter.com/search?q=%22Jed+Lowrie%22', 'promoted_content': None, 'query': '%22Jed+Lowrie%22', 'tweet_volume': None}, {'name': 'Rodriguez', 'url': 'http://twitter.com/search?q=Rodriguez', 'promoted_content': None, 'query': 'Rodriguez', 'tweet_volume': 43401}, {'name': 'Master and Commander', 'url': 'http://twitter.com/search?q=%22Master+and+Commander%22', 'promoted_content': None, 'query': '%22Master+and+Commander%22', 'tweet_volume': None}, {'name': 'HAPPY BDAY DREAM', 'url': 'http://twitter.com/search?q=%22HAPPY+BDAY+DREAM%22', 'promoted_content': None, 'query': '%22HAPPY+BDAY+DREAM%22', 'tweet_volume': None}, {'name': 'Michaela', 'url': 'http://twitter.com/search?q=Michaela', 'promoted_content': None, 'query': 'Michaela', 'tweet_volume': None}, {'name': 'Valdez', 'url': 'http://twitter.com/search?q=Valdez', 'promoted_content': None, 'query': 'Valdez', 'tweet_volume': 17276}, {'name': 'Miguel Cabrera', 'url': 'http://twitter.com/search?q=%22Miguel+Cabrera%22', 'promoted_content': None, 'query': '%22Miguel+Cabrera%22', 'tweet_volume': None}], 'as_of': '2021-08-12T04:11:23Z', 'created_at': '2021-08-10T20:41:56Z', 'locations': [{'name': 'United States', 'woeid': 23424977}]}]\n"
     ]
    }
   ],
   "metadata": {}
  },
  {
   "cell_type": "code",
   "execution_count": 3,
   "source": [
    "for trend in world_trends[0]['trends']:\n",
    "    print(trend['name'])"
   ],
   "outputs": [
    {
     "output_type": "stream",
     "name": "stdout",
     "text": [
      "コースト\n",
      "HAPPY BIRTHDAY DREAM\n",
      "#グラブル配布の日\n",
      "Nacho\n",
      "STUDIO COAST\n",
      "SCP財団\n",
      "#ワイドスクランブル\n",
      "River\n",
      "ageHa\n",
      "#カマージャンボ\n",
      "#香取慎吾\n",
      "#VotaçãoNaIlha\n",
      "Flamengo\n",
      "Trans\n",
      "Twitterくん\n",
      "ガンダム\n",
      "ライブハウス\n",
      "フォント\n",
      "Ozzie\n",
      "Zepp Tokyo\n",
      "学校のプール\n",
      "Arrascaeta\n",
      "calum\n",
      "Braves\n",
      "Hunter Biden\n",
      "ダークモード\n",
      "Lali\n",
      "広島県と市\n",
      "CHARLIE SLIMECICLE\n",
      "Carrascal\n",
      "CHAEYOUNG\n",
      "Pon De Beach\n",
      "IOCと組織委\n",
      "ノーゲーム\n",
      "バッハ氏の広島訪問警備費負担\n",
      "全額折半\n",
      "塩野くん\n",
      "Mineiro\n",
      "Will Smith\n",
      "업데이트\n",
      "Gallardo\n",
      "バーベキュー後\n",
      "行為の代償\n",
      "フォロー中\n",
      "Everson\n",
      "Twitterアプデ\n",
      "大下さん\n",
      "McBride\n",
      "慎吾ちゃん\n",
      "TwitterのUI\n"
     ]
    }
   ],
   "metadata": {}
  },
  {
   "cell_type": "code",
   "execution_count": 4,
   "source": [
    "for trend in us_trends[0]['trends']:\n",
    "    print(trend['name'])"
   ],
   "outputs": [
    {
     "output_type": "stream",
     "name": "stdout",
     "text": [
      "HAPPY BIRTHDAY DREAM\n",
      "Trans\n",
      "Ozzie\n",
      "#AEWDynamite\n",
      "#BETPresentsTheEncore\n",
      "#RonaRon\n",
      "#RHOBH\n",
      "Will Smith\n",
      "Hunter Biden\n",
      "#ForTheA\n",
      "CHARLIE SLIMECICLE\n",
      "McBride\n",
      "Votto\n",
      "Corbin Burnes\n",
      "Arnold\n",
      "Bellinger\n",
      "Lucas Sims\n",
      "The Delta Variant\n",
      "Kiely\n",
      "callahan\n",
      "calum\n",
      "Black Thought\n",
      "Adam Wainwright\n",
      "Waino\n",
      "Andre 3000\n",
      "DREAM DAY\n",
      "Miggy\n",
      "Givens\n",
      "Bohm\n",
      "Garcelle\n",
      "Dante Martin\n",
      "Erika\n",
      "Gausman\n",
      "Rinna\n",
      "HOUSE MEETING\n",
      "Sutton\n",
      "All Out\n",
      "LA Confidential\n",
      "Antonov\n",
      "Shamari\n",
      "Snit\n",
      "Ernie Johnson\n",
      "My Fall\n",
      "Jed Lowrie\n",
      "Rodriguez\n",
      "Master and Commander\n",
      "HAPPY BDAY DREAM\n",
      "Michaela\n",
      "Valdez\n",
      "Miguel Cabrera\n"
     ]
    }
   ],
   "metadata": {}
  },
  {
   "cell_type": "code",
   "execution_count": 5,
   "source": [
    "world_trends_set = set([trend['name'] \n",
    "                        for trend in world_trends[0]['trends']])\n",
    "\n",
    "us_trends_set = set([trend['name'] \n",
    "                     for trend in us_trends[0]['trends']]) \n",
    "\n",
    "common_trends = world_trends_set.intersection(us_trends_set)\n",
    "\n",
    "print(common_trends)"
   ],
   "outputs": [
    {
     "output_type": "stream",
     "name": "stdout",
     "text": [
      "{'Ozzie', 'Hunter Biden', 'HAPPY BIRTHDAY DREAM', 'McBride', 'Trans', 'calum', 'Will Smith', 'CHARLIE SLIMECICLE'}\n"
     ]
    }
   ],
   "metadata": {}
  },
  {
   "cell_type": "markdown",
   "source": [
    "## Anatomy of a Tweet"
   ],
   "metadata": {}
  },
  {
   "cell_type": "code",
   "execution_count": 6,
   "source": [
    "import json\n",
    "\n",
    "# Set this variable to a trending topic, \n",
    "# or anything else for that matter. The example query below\n",
    "# was a trending topic when this content was being developed\n",
    "# and is used throughout the remainder of this chapter.\n",
    "\n",
    "q = '#MothersDay' \n",
    "\n",
    "count = 100\n",
    "\n",
    "# Import unquote to prevent url encoding errors in next_results\n",
    "from urllib.parse import unquote\n",
    "\n",
    "# See https://dev.twitter.com/rest/reference/get/search/tweets\n",
    "\n",
    "search_results = twitter_api.search.tweets(q=q, count=count)\n",
    "\n",
    "statuses = search_results['statuses']\n",
    "\n",
    "\n",
    "# Iterate through 5 more batches of results by following the cursor\n",
    "for _ in range(5):\n",
    "    print('Length of statuses', len(statuses))\n",
    "    try:\n",
    "        next_results = search_results['search_metadata']['next_results']\n",
    "    except KeyError as e: # No more results when next_results doesn't exist\n",
    "        break\n",
    "        \n",
    "    # Create a dictionary from next_results, which has the following form:\n",
    "    # ?max_id=847960489447628799&q=%23RIPSelena&count=100&include_entities=1\n",
    "    kwargs = dict([ kv.split('=') for kv in unquote(next_results[1:]).split(\"&\") ])\n",
    "    \n",
    "    search_results = twitter_api.search.tweets(**kwargs)\n",
    "    statuses += search_results['statuses']\n",
    "\n",
    "# Show one sample search result by slicing the list...\n",
    "print(json.dumps(statuses[0], indent=1))"
   ],
   "outputs": [
    {
     "output_type": "stream",
     "name": "stdout",
     "text": [
      "Length of statuses 100\n",
      "Length of statuses 200\n",
      "Length of statuses 300\n",
      "Length of statuses 400\n",
      "Length of statuses 500\n",
      "{\n",
      " \"created_at\": \"Thu Aug 12 04:11:19 +0000 2021\",\n",
      " \"id\": 1425671214538780672,\n",
      " \"id_str\": \"1425671214538780672\",\n",
      " \"text\": \"RT @bittoonfunny: Happy Mother\\u2019s Day\\n#MothersDay https://t.co/QPBpY5UEmf\",\n",
      " \"truncated\": false,\n",
      " \"entities\": {\n",
      "  \"hashtags\": [\n",
      "   {\n",
      "    \"text\": \"MothersDay\",\n",
      "    \"indices\": [\n",
      "     37,\n",
      "     48\n",
      "    ]\n",
      "   }\n",
      "  ],\n",
      "  \"symbols\": [],\n",
      "  \"user_mentions\": [\n",
      "   {\n",
      "    \"screen_name\": \"bittoonfunny\",\n",
      "    \"name\": \"BitToon\",\n",
      "    \"id\": 1377795462070067210,\n",
      "    \"id_str\": \"1377795462070067210\",\n",
      "    \"indices\": [\n",
      "     3,\n",
      "     16\n",
      "    ]\n",
      "   }\n",
      "  ],\n",
      "  \"urls\": [],\n",
      "  \"media\": [\n",
      "   {\n",
      "    \"id\": 1425647785831899137,\n",
      "    \"id_str\": \"1425647785831899137\",\n",
      "    \"indices\": [\n",
      "     49,\n",
      "     72\n",
      "    ],\n",
      "    \"media_url\": \"http://pbs.twimg.com/media/E8jrG5lVIAEMK6M.jpg\",\n",
      "    \"media_url_https\": \"https://pbs.twimg.com/media/E8jrG5lVIAEMK6M.jpg\",\n",
      "    \"url\": \"https://t.co/QPBpY5UEmf\",\n",
      "    \"display_url\": \"pic.twitter.com/QPBpY5UEmf\",\n",
      "    \"expanded_url\": \"https://twitter.com/bittoonfunny/status/1425647792572092424/photo/1\",\n",
      "    \"type\": \"photo\",\n",
      "    \"sizes\": {\n",
      "     \"thumb\": {\n",
      "      \"w\": 150,\n",
      "      \"h\": 150,\n",
      "      \"resize\": \"crop\"\n",
      "     },\n",
      "     \"small\": {\n",
      "      \"w\": 680,\n",
      "      \"h\": 680,\n",
      "      \"resize\": \"fit\"\n",
      "     },\n",
      "     \"large\": {\n",
      "      \"w\": 1000,\n",
      "      \"h\": 1000,\n",
      "      \"resize\": \"fit\"\n",
      "     },\n",
      "     \"medium\": {\n",
      "      \"w\": 1000,\n",
      "      \"h\": 1000,\n",
      "      \"resize\": \"fit\"\n",
      "     }\n",
      "    },\n",
      "    \"source_status_id\": 1425647792572092424,\n",
      "    \"source_status_id_str\": \"1425647792572092424\",\n",
      "    \"source_user_id\": 1377795462070067210,\n",
      "    \"source_user_id_str\": \"1377795462070067210\"\n",
      "   }\n",
      "  ]\n",
      " },\n",
      " \"extended_entities\": {\n",
      "  \"media\": [\n",
      "   {\n",
      "    \"id\": 1425647785831899137,\n",
      "    \"id_str\": \"1425647785831899137\",\n",
      "    \"indices\": [\n",
      "     49,\n",
      "     72\n",
      "    ],\n",
      "    \"media_url\": \"http://pbs.twimg.com/media/E8jrG5lVIAEMK6M.jpg\",\n",
      "    \"media_url_https\": \"https://pbs.twimg.com/media/E8jrG5lVIAEMK6M.jpg\",\n",
      "    \"url\": \"https://t.co/QPBpY5UEmf\",\n",
      "    \"display_url\": \"pic.twitter.com/QPBpY5UEmf\",\n",
      "    \"expanded_url\": \"https://twitter.com/bittoonfunny/status/1425647792572092424/photo/1\",\n",
      "    \"type\": \"photo\",\n",
      "    \"sizes\": {\n",
      "     \"thumb\": {\n",
      "      \"w\": 150,\n",
      "      \"h\": 150,\n",
      "      \"resize\": \"crop\"\n",
      "     },\n",
      "     \"small\": {\n",
      "      \"w\": 680,\n",
      "      \"h\": 680,\n",
      "      \"resize\": \"fit\"\n",
      "     },\n",
      "     \"large\": {\n",
      "      \"w\": 1000,\n",
      "      \"h\": 1000,\n",
      "      \"resize\": \"fit\"\n",
      "     },\n",
      "     \"medium\": {\n",
      "      \"w\": 1000,\n",
      "      \"h\": 1000,\n",
      "      \"resize\": \"fit\"\n",
      "     }\n",
      "    },\n",
      "    \"source_status_id\": 1425647792572092424,\n",
      "    \"source_status_id_str\": \"1425647792572092424\",\n",
      "    \"source_user_id\": 1377795462070067210,\n",
      "    \"source_user_id_str\": \"1377795462070067210\"\n",
      "   }\n",
      "  ]\n",
      " },\n",
      " \"metadata\": {\n",
      "  \"iso_language_code\": \"en\",\n",
      "  \"result_type\": \"recent\"\n",
      " },\n",
      " \"source\": \"<a href=\\\"http://twitter.com/download/iphone\\\" rel=\\\"nofollow\\\">Twitter for iPhone</a>\",\n",
      " \"in_reply_to_status_id\": null,\n",
      " \"in_reply_to_status_id_str\": null,\n",
      " \"in_reply_to_user_id\": null,\n",
      " \"in_reply_to_user_id_str\": null,\n",
      " \"in_reply_to_screen_name\": null,\n",
      " \"user\": {\n",
      "  \"id\": 1383295182859161605,\n",
      "  \"id_str\": \"1383295182859161605\",\n",
      "  \"name\": \"III Aunberror\",\n",
      "  \"screen_name\": \"FUTURE_ntp\",\n",
      "  \"location\": \"\\u0e1b\\u0e23\\u0e30\\u0e40\\u0e17\\u0e28\\u0e44\\u0e17\\u0e22\",\n",
      "  \"description\": \"\\u0e01\\u0e39\\u0e01\\u0e47\\u0e04\\u0e19 \\u0e21\\u0e36\\u0e07\\u0e01\\u0e47\\u0e04\\u0e19\\u0e40\\u0e2b\\u0e21\\u0e37\\u0e2d\\u0e19\\u0e01\\u0e39 \\u0e40\\u0e2d\\u0e32\\u0e40\\u0e2b\\u0e35\\u0e49\\u0e22\\u0e2d\\u0e30\\u0e44\\u0e23\\u0e21\\u0e32\\u0e27\\u0e31\\u0e14\\u0e27\\u0e48\\u0e32\\u0e1e\\u0e27\\u0e01\\u0e21\\u0e36\\u0e07\\u0e27\\u0e34\\u0e40\\u0e28\\u0e29\",\n",
      "  \"url\": null,\n",
      "  \"entities\": {\n",
      "   \"description\": {\n",
      "    \"urls\": []\n",
      "   }\n",
      "  },\n",
      "  \"protected\": false,\n",
      "  \"followers_count\": 4,\n",
      "  \"friends_count\": 115,\n",
      "  \"listed_count\": 0,\n",
      "  \"created_at\": \"Sat Apr 17 05:44:29 +0000 2021\",\n",
      "  \"favourites_count\": 180,\n",
      "  \"utc_offset\": null,\n",
      "  \"time_zone\": null,\n",
      "  \"geo_enabled\": false,\n",
      "  \"verified\": false,\n",
      "  \"statuses_count\": 124,\n",
      "  \"lang\": null,\n",
      "  \"contributors_enabled\": false,\n",
      "  \"is_translator\": false,\n",
      "  \"is_translation_enabled\": false,\n",
      "  \"profile_background_color\": \"F5F8FA\",\n",
      "  \"profile_background_image_url\": null,\n",
      "  \"profile_background_image_url_https\": null,\n",
      "  \"profile_background_tile\": false,\n",
      "  \"profile_image_url\": \"http://pbs.twimg.com/profile_images/1412867238705524736/B-NC-Pqi_normal.jpg\",\n",
      "  \"profile_image_url_https\": \"https://pbs.twimg.com/profile_images/1412867238705524736/B-NC-Pqi_normal.jpg\",\n",
      "  \"profile_banner_url\": \"https://pbs.twimg.com/profile_banners/1383295182859161605/1627869811\",\n",
      "  \"profile_link_color\": \"1DA1F2\",\n",
      "  \"profile_sidebar_border_color\": \"C0DEED\",\n",
      "  \"profile_sidebar_fill_color\": \"DDEEF6\",\n",
      "  \"profile_text_color\": \"333333\",\n",
      "  \"profile_use_background_image\": true,\n",
      "  \"has_extended_profile\": true,\n",
      "  \"default_profile\": true,\n",
      "  \"default_profile_image\": false,\n",
      "  \"following\": false,\n",
      "  \"follow_request_sent\": false,\n",
      "  \"notifications\": false,\n",
      "  \"translator_type\": \"none\",\n",
      "  \"withheld_in_countries\": []\n",
      " },\n",
      " \"geo\": null,\n",
      " \"coordinates\": null,\n",
      " \"place\": null,\n",
      " \"contributors\": null,\n",
      " \"retweeted_status\": {\n",
      "  \"created_at\": \"Thu Aug 12 02:38:15 +0000 2021\",\n",
      "  \"id\": 1425647792572092424,\n",
      "  \"id_str\": \"1425647792572092424\",\n",
      "  \"text\": \"Happy Mother\\u2019s Day\\n#MothersDay https://t.co/QPBpY5UEmf\",\n",
      "  \"truncated\": false,\n",
      "  \"entities\": {\n",
      "   \"hashtags\": [\n",
      "    {\n",
      "     \"text\": \"MothersDay\",\n",
      "     \"indices\": [\n",
      "      19,\n",
      "      30\n",
      "     ]\n",
      "    }\n",
      "   ],\n",
      "   \"symbols\": [],\n",
      "   \"user_mentions\": [],\n",
      "   \"urls\": [],\n",
      "   \"media\": [\n",
      "    {\n",
      "     \"id\": 1425647785831899137,\n",
      "     \"id_str\": \"1425647785831899137\",\n",
      "     \"indices\": [\n",
      "      31,\n",
      "      54\n",
      "     ],\n",
      "     \"media_url\": \"http://pbs.twimg.com/media/E8jrG5lVIAEMK6M.jpg\",\n",
      "     \"media_url_https\": \"https://pbs.twimg.com/media/E8jrG5lVIAEMK6M.jpg\",\n",
      "     \"url\": \"https://t.co/QPBpY5UEmf\",\n",
      "     \"display_url\": \"pic.twitter.com/QPBpY5UEmf\",\n",
      "     \"expanded_url\": \"https://twitter.com/bittoonfunny/status/1425647792572092424/photo/1\",\n",
      "     \"type\": \"photo\",\n",
      "     \"sizes\": {\n",
      "      \"thumb\": {\n",
      "       \"w\": 150,\n",
      "       \"h\": 150,\n",
      "       \"resize\": \"crop\"\n",
      "      },\n",
      "      \"small\": {\n",
      "       \"w\": 680,\n",
      "       \"h\": 680,\n",
      "       \"resize\": \"fit\"\n",
      "      },\n",
      "      \"large\": {\n",
      "       \"w\": 1000,\n",
      "       \"h\": 1000,\n",
      "       \"resize\": \"fit\"\n",
      "      },\n",
      "      \"medium\": {\n",
      "       \"w\": 1000,\n",
      "       \"h\": 1000,\n",
      "       \"resize\": \"fit\"\n",
      "      }\n",
      "     }\n",
      "    }\n",
      "   ]\n",
      "  },\n",
      "  \"extended_entities\": {\n",
      "   \"media\": [\n",
      "    {\n",
      "     \"id\": 1425647785831899137,\n",
      "     \"id_str\": \"1425647785831899137\",\n",
      "     \"indices\": [\n",
      "      31,\n",
      "      54\n",
      "     ],\n",
      "     \"media_url\": \"http://pbs.twimg.com/media/E8jrG5lVIAEMK6M.jpg\",\n",
      "     \"media_url_https\": \"https://pbs.twimg.com/media/E8jrG5lVIAEMK6M.jpg\",\n",
      "     \"url\": \"https://t.co/QPBpY5UEmf\",\n",
      "     \"display_url\": \"pic.twitter.com/QPBpY5UEmf\",\n",
      "     \"expanded_url\": \"https://twitter.com/bittoonfunny/status/1425647792572092424/photo/1\",\n",
      "     \"type\": \"photo\",\n",
      "     \"sizes\": {\n",
      "      \"thumb\": {\n",
      "       \"w\": 150,\n",
      "       \"h\": 150,\n",
      "       \"resize\": \"crop\"\n",
      "      },\n",
      "      \"small\": {\n",
      "       \"w\": 680,\n",
      "       \"h\": 680,\n",
      "       \"resize\": \"fit\"\n",
      "      },\n",
      "      \"large\": {\n",
      "       \"w\": 1000,\n",
      "       \"h\": 1000,\n",
      "       \"resize\": \"fit\"\n",
      "      },\n",
      "      \"medium\": {\n",
      "       \"w\": 1000,\n",
      "       \"h\": 1000,\n",
      "       \"resize\": \"fit\"\n",
      "      }\n",
      "     }\n",
      "    }\n",
      "   ]\n",
      "  },\n",
      "  \"metadata\": {\n",
      "   \"iso_language_code\": \"en\",\n",
      "   \"result_type\": \"recent\"\n",
      "  },\n",
      "  \"source\": \"<a href=\\\"http://twitter.com/download/iphone\\\" rel=\\\"nofollow\\\">Twitter for iPhone</a>\",\n",
      "  \"in_reply_to_status_id\": null,\n",
      "  \"in_reply_to_status_id_str\": null,\n",
      "  \"in_reply_to_user_id\": null,\n",
      "  \"in_reply_to_user_id_str\": null,\n",
      "  \"in_reply_to_screen_name\": null,\n",
      "  \"user\": {\n",
      "   \"id\": 1377795462070067210,\n",
      "   \"id_str\": \"1377795462070067210\",\n",
      "   \"name\": \"BitToon\",\n",
      "   \"screen_name\": \"bittoonfunny\",\n",
      "   \"location\": \"\",\n",
      "   \"description\": \"Cryptocurrency 's knowledge into a Cartoon!\",\n",
      "   \"url\": \"https://t.co/V37lSTtT5t\",\n",
      "   \"entities\": {\n",
      "    \"url\": {\n",
      "     \"urls\": [\n",
      "      {\n",
      "       \"url\": \"https://t.co/V37lSTtT5t\",\n",
      "       \"expanded_url\": \"https://foundation.app/@bittoonfunny\",\n",
      "       \"display_url\": \"foundation.app/@bittoonfunny\",\n",
      "       \"indices\": [\n",
      "        0,\n",
      "        23\n",
      "       ]\n",
      "      }\n",
      "     ]\n",
      "    },\n",
      "    \"description\": {\n",
      "     \"urls\": []\n",
      "    }\n",
      "   },\n",
      "   \"protected\": false,\n",
      "   \"followers_count\": 5447,\n",
      "   \"friends_count\": 52,\n",
      "   \"listed_count\": 10,\n",
      "   \"created_at\": \"Fri Apr 02 01:30:19 +0000 2021\",\n",
      "   \"favourites_count\": 94,\n",
      "   \"utc_offset\": null,\n",
      "   \"time_zone\": null,\n",
      "   \"geo_enabled\": false,\n",
      "   \"verified\": false,\n",
      "   \"statuses_count\": 271,\n",
      "   \"lang\": null,\n",
      "   \"contributors_enabled\": false,\n",
      "   \"is_translator\": false,\n",
      "   \"is_translation_enabled\": false,\n",
      "   \"profile_background_color\": \"F5F8FA\",\n",
      "   \"profile_background_image_url\": null,\n",
      "   \"profile_background_image_url_https\": null,\n",
      "   \"profile_background_tile\": false,\n",
      "   \"profile_image_url\": \"http://pbs.twimg.com/profile_images/1377795602919030787/fdOP5GZR_normal.jpg\",\n",
      "   \"profile_image_url_https\": \"https://pbs.twimg.com/profile_images/1377795602919030787/fdOP5GZR_normal.jpg\",\n",
      "   \"profile_banner_url\": \"https://pbs.twimg.com/profile_banners/1377795462070067210/1626792175\",\n",
      "   \"profile_link_color\": \"1DA1F2\",\n",
      "   \"profile_sidebar_border_color\": \"C0DEED\",\n",
      "   \"profile_sidebar_fill_color\": \"DDEEF6\",\n",
      "   \"profile_text_color\": \"333333\",\n",
      "   \"profile_use_background_image\": true,\n",
      "   \"has_extended_profile\": true,\n",
      "   \"default_profile\": true,\n",
      "   \"default_profile_image\": false,\n",
      "   \"following\": false,\n",
      "   \"follow_request_sent\": false,\n",
      "   \"notifications\": false,\n",
      "   \"translator_type\": \"none\",\n",
      "   \"withheld_in_countries\": []\n",
      "  },\n",
      "  \"geo\": null,\n",
      "  \"coordinates\": null,\n",
      "  \"place\": null,\n",
      "  \"contributors\": null,\n",
      "  \"is_quote_status\": false,\n",
      "  \"retweet_count\": 28,\n",
      "  \"favorite_count\": 40,\n",
      "  \"favorited\": false,\n",
      "  \"retweeted\": false,\n",
      "  \"possibly_sensitive\": false,\n",
      "  \"lang\": \"en\"\n",
      " },\n",
      " \"is_quote_status\": false,\n",
      " \"retweet_count\": 28,\n",
      " \"favorite_count\": 0,\n",
      " \"favorited\": false,\n",
      " \"retweeted\": false,\n",
      " \"possibly_sensitive\": true,\n",
      " \"lang\": \"en\"\n",
      "}\n"
     ]
    }
   ],
   "metadata": {}
  },
  {
   "cell_type": "code",
   "execution_count": 7,
   "source": [
    "for i in range(10):\n",
    "    print()\n",
    "    print(statuses[i]['text'])\n",
    "    print('Favorites: ', statuses[i]['favorite_count'])\n",
    "    print('Retweets: ', statuses[i]['retweet_count'])"
   ],
   "outputs": [
    {
     "output_type": "stream",
     "name": "stdout",
     "text": [
      "\n",
      "RT @bittoonfunny: Happy Mother’s Day\n",
      "#MothersDay https://t.co/QPBpY5UEmf\n",
      "Favorites:  0\n",
      "Retweets:  28\n",
      "\n",
      "RT @bittoonfunny: Happy Mother’s Day\n",
      "#MothersDay https://t.co/QPBpY5UEmf\n",
      "Favorites:  0\n",
      "Retweets:  28\n",
      "\n",
      "RT @Suchadaaa24: เหมือนเด็กน้อยติดแม่เลยลู๊กก จะครบ 24 ขวบล่ะน๊าาา ทำไมยิ่งโตยิ่งขี้อ้อนนะ...ไอ้ต้าวเอ๊ยยย☺ #เข้มหัสวีร์ Kem Morning #Mothe…\n",
      "Favorites:  0\n",
      "Retweets:  31\n",
      "\n",
      "RT @SivakornLert: ❤❤❤\n",
      ".\n",
      ".\n",
      "#mothersday https://t.co/7FzTtFqo5e\n",
      "Favorites:  0\n",
      "Retweets:  36\n",
      "\n",
      "RT @SivakornLert: ❤❤❤\n",
      ".\n",
      ".\n",
      "#mothersday https://t.co/7FzTtFqo5e\n",
      "Favorites:  0\n",
      "Retweets:  36\n",
      "\n",
      "💙 เอพีชวนเซอร์ไพรส์บอกรักแม่ที่บ้าน ไม่ว่าจะมุมไหนๆ ก็ส่งความรัก ความห่วงใยได้\n",
      ".\n",
      "📌🗒ใครที่เขิน ลองแปะโน้ตแบบเราก็ได้… https://t.co/JVsxSdUEv8\n",
      "Favorites:  2\n",
      "Retweets:  0\n",
      "\n",
      "RT @SivakornLert: ❤❤❤\n",
      ".\n",
      ".\n",
      "#mothersday https://t.co/7FzTtFqo5e\n",
      "Favorites:  0\n",
      "Retweets:  36\n",
      "\n",
      "RT @Kan561111: @Suchadaaa24 อยากเป็นแม่ตา👀☺️\n",
      "ประทับใจที่สุดกับลูกชายคนนี้ อ่อนโยน แสดงความเป็นตัวตนแบบไม่เขินอาย แสดงความรักที่มีต่อครอบครั…\n",
      "Favorites:  0\n",
      "Retweets:  3\n",
      "\n",
      "RT @bittoonfunny: Happy Mother’s Day\n",
      "#MothersDay https://t.co/QPBpY5UEmf\n",
      "Favorites:  0\n",
      "Retweets:  28\n",
      "\n",
      "RT @Suchadaaa24: เหมือนเด็กน้อยติดแม่เลยลู๊กก จะครบ 24 ขวบล่ะน๊าาา ทำไมยิ่งโตยิ่งขี้อ้อนนะ...ไอ้ต้าวเอ๊ยยย☺ #เข้มหัสวีร์ Kem Morning #Mothe…\n",
      "Favorites:  0\n",
      "Retweets:  31\n"
     ]
    }
   ],
   "metadata": {}
  },
  {
   "cell_type": "markdown",
   "source": [
    "## Extracting text, screen names, and hashtags from tweets"
   ],
   "metadata": {}
  },
  {
   "cell_type": "code",
   "execution_count": 8,
   "source": [
    "status_texts = [ status['text'] \n",
    "                 for status in statuses ]\n",
    "\n",
    "screen_names = [ user_mention['screen_name'] \n",
    "                 for status in statuses\n",
    "                     for user_mention in status['entities']['user_mentions'] ]\n",
    "\n",
    "hashtags = [ hashtag['text'] \n",
    "             for status in statuses\n",
    "                 for hashtag in status['entities']['hashtags'] ]\n",
    "\n",
    "# Compute a collection of all words from all tweets\n",
    "words = [ w \n",
    "          for t in status_texts \n",
    "              for w in t.split() ]\n",
    "\n",
    "# Explore the first 5 items for each...\n",
    "\n",
    "print(json.dumps(status_texts[0:5], indent=1))\n",
    "print(json.dumps(screen_names[0:5], indent=1) )\n",
    "print(json.dumps(hashtags[0:5], indent=1))\n",
    "print(json.dumps(words[0:5], indent=1))"
   ],
   "outputs": [
    {
     "output_type": "stream",
     "name": "stdout",
     "text": [
      "[\n",
      " \"RT @bittoonfunny: Happy Mother\\u2019s Day\\n#MothersDay https://t.co/QPBpY5UEmf\",\n",
      " \"RT @bittoonfunny: Happy Mother\\u2019s Day\\n#MothersDay https://t.co/QPBpY5UEmf\",\n",
      " \"RT @Suchadaaa24: \\u0e40\\u0e2b\\u0e21\\u0e37\\u0e2d\\u0e19\\u0e40\\u0e14\\u0e47\\u0e01\\u0e19\\u0e49\\u0e2d\\u0e22\\u0e15\\u0e34\\u0e14\\u0e41\\u0e21\\u0e48\\u0e40\\u0e25\\u0e22\\u0e25\\u0e39\\u0e4a\\u0e01\\u0e01 \\u0e08\\u0e30\\u0e04\\u0e23\\u0e1a 24 \\u0e02\\u0e27\\u0e1a\\u0e25\\u0e48\\u0e30\\u0e19\\u0e4a\\u0e32\\u0e32\\u0e32 \\u0e17\\u0e33\\u0e44\\u0e21\\u0e22\\u0e34\\u0e48\\u0e07\\u0e42\\u0e15\\u0e22\\u0e34\\u0e48\\u0e07\\u0e02\\u0e35\\u0e49\\u0e2d\\u0e49\\u0e2d\\u0e19\\u0e19\\u0e30...\\u0e44\\u0e2d\\u0e49\\u0e15\\u0e49\\u0e32\\u0e27\\u0e40\\u0e2d\\u0e4a\\u0e22\\u0e22\\u0e22\\u263a #\\u0e40\\u0e02\\u0e49\\u0e21\\u0e2b\\u0e31\\u0e2a\\u0e27\\u0e35\\u0e23\\u0e4c Kem Morning #Mothe\\u2026\",\n",
      " \"RT @SivakornLert: \\u2764\\u2764\\u2764\\n.\\n.\\n#mothersday https://t.co/7FzTtFqo5e\",\n",
      " \"RT @SivakornLert: \\u2764\\u2764\\u2764\\n.\\n.\\n#mothersday https://t.co/7FzTtFqo5e\"\n",
      "]\n",
      "[\n",
      " \"bittoonfunny\",\n",
      " \"bittoonfunny\",\n",
      " \"Suchadaaa24\",\n",
      " \"SivakornLert\",\n",
      " \"SivakornLert\"\n",
      "]\n",
      "[\n",
      " \"MothersDay\",\n",
      " \"MothersDay\",\n",
      " \"\\u0e40\\u0e02\\u0e49\\u0e21\\u0e2b\\u0e31\\u0e2a\\u0e27\\u0e35\\u0e23\\u0e4c\",\n",
      " \"mothersday\",\n",
      " \"mothersday\"\n",
      "]\n",
      "[\n",
      " \"RT\",\n",
      " \"@bittoonfunny:\",\n",
      " \"Happy\",\n",
      " \"Mother\\u2019s\",\n",
      " \"Day\"\n",
      "]\n"
     ]
    }
   ],
   "metadata": {}
  },
  {
   "cell_type": "markdown",
   "source": [
    "## Creating a basic frequency distribution from the words in tweets"
   ],
   "metadata": {}
  },
  {
   "cell_type": "code",
   "execution_count": 9,
   "source": [
    "from collections import Counter\n",
    "\n",
    "for item in [words, screen_names, hashtags]:\n",
    "    c = Counter(item)\n",
    "    print(c.most_common()[:10]) # top 10\n",
    "    print()"
   ],
   "outputs": [
    {
     "output_type": "stream",
     "name": "stdout",
     "text": [
      "[('RT', 367), ('#MothersDay', 128), ('#mothersday', 99), ('to', 99), ('Morning', 96), ('Kem', 94), ('#เข้มหัสวีร์', 90), ('@Suchadaaa24:', 87), ('day', 84), ('in', 82)]\n",
      "\n",
      "[('Suchadaaa24', 91), ('SivakornLert', 30), ('ArorajArvind', 30), ('Noowaan6', 23), ('bittoonfunny', 20), ('Kan561111', 15), ('bkkmenu', 14), ('DNew40906675', 11), ('Suescuriosities', 11), ('_ntkkwstoru', 9)]\n",
      "\n",
      "[('MothersDay', 138), ('mothersday', 100), ('เข้มหัสวีร์', 94), ('วันแม่2564', 47), ('วันแม่', 46), ('น้ำใจแม่', 40), ('MothersDay2021', 36), ('motherhood', 35), ('สุขสันต์วันแม่', 34), ('arvindaroraquotes', 32)]\n",
      "\n"
     ]
    }
   ],
   "metadata": {}
  },
  {
   "cell_type": "markdown",
   "source": [
    "## Using prettytable to display tuples in a nice tabular format"
   ],
   "metadata": {}
  },
  {
   "cell_type": "code",
   "execution_count": 10,
   "source": [
    "from prettytable import PrettyTable\n",
    "\n",
    "for label, data in (('Word', words), \n",
    "                    ('Screen Name', screen_names), \n",
    "                    ('Hashtag', hashtags)):\n",
    "    pt = PrettyTable(field_names=[label, 'Count']) \n",
    "    c = Counter(data)\n",
    "    [ pt.add_row(kv) for kv in c.most_common()[:10] ]\n",
    "    pt.align[label], pt.align['Count'] = 'l', 'r' # Set column alignment\n",
    "    print(pt)"
   ],
   "outputs": [
    {
     "output_type": "error",
     "ename": "ModuleNotFoundError",
     "evalue": "No module named 'prettytable'",
     "traceback": [
      "\u001b[0;31m---------------------------------------------------------------------------\u001b[0m",
      "\u001b[0;31mModuleNotFoundError\u001b[0m                       Traceback (most recent call last)",
      "\u001b[0;32m/tmp/ipykernel_10727/1556304631.py\u001b[0m in \u001b[0;36m<module>\u001b[0;34m\u001b[0m\n\u001b[0;32m----> 1\u001b[0;31m \u001b[0;32mfrom\u001b[0m \u001b[0mprettytable\u001b[0m \u001b[0;32mimport\u001b[0m \u001b[0mPrettyTable\u001b[0m\u001b[0;34m\u001b[0m\u001b[0;34m\u001b[0m\u001b[0m\n\u001b[0m\u001b[1;32m      2\u001b[0m \u001b[0;34m\u001b[0m\u001b[0m\n\u001b[1;32m      3\u001b[0m for label, data in (('Word', words), \n\u001b[1;32m      4\u001b[0m                     \u001b[0;34m(\u001b[0m\u001b[0;34m'Screen Name'\u001b[0m\u001b[0;34m,\u001b[0m \u001b[0mscreen_names\u001b[0m\u001b[0;34m)\u001b[0m\u001b[0;34m,\u001b[0m\u001b[0;34m\u001b[0m\u001b[0;34m\u001b[0m\u001b[0m\n\u001b[1;32m      5\u001b[0m                     ('Hashtag', hashtags)):\n",
      "\u001b[0;31mModuleNotFoundError\u001b[0m: No module named 'prettytable'"
     ]
    }
   ],
   "metadata": {}
  },
  {
   "cell_type": "markdown",
   "source": [
    "## Calculating lexical diversity for tweets"
   ],
   "metadata": {}
  },
  {
   "cell_type": "code",
   "execution_count": null,
   "source": [
    "# A function for computing lexical diversity\n",
    "def lexical_diversity(tokens):\n",
    "    return len(set(tokens))/len(tokens) \n",
    "\n",
    "# A function for computing the average number of words per tweet\n",
    "def average_words(statuses):\n",
    "    total_words = sum([ len(s.split()) for s in statuses ]) \n",
    "    return total_words/len(statuses)\n",
    "\n",
    "print(lexical_diversity(words))\n",
    "print(lexical_diversity(screen_names))\n",
    "print(lexical_diversity(hashtags))\n",
    "print(average_words(status_texts))"
   ],
   "outputs": [],
   "metadata": {}
  },
  {
   "cell_type": "markdown",
   "source": [
    "## Finding the most popular retweets"
   ],
   "metadata": {}
  },
  {
   "cell_type": "code",
   "execution_count": null,
   "source": [
    "retweets = [\n",
    "            # Store out a tuple of these three values ...\n",
    "            (status['retweet_count'], \n",
    "             status['retweeted_status']['user']['screen_name'],\n",
    "             status['retweeted_status']['id'],\n",
    "             status['text']) \n",
    "            \n",
    "            # ... for each status ...\n",
    "            for status in statuses \n",
    "            \n",
    "            # ... so long as the status meets this condition.\n",
    "                if 'retweeted_status' in status.keys()\n",
    "           ]\n",
    "\n",
    "# Slice off the first 5 from the sorted results and display each item in the tuple\n",
    "\n",
    "pt = PrettyTable(field_names=['Count', 'Screen Name', 'Tweet ID', 'Text'])\n",
    "[ pt.add_row(row) for row in sorted(retweets, reverse=True)[:5] ]\n",
    "pt.max_width['Text'] = 50\n",
    "pt.align= 'l'\n",
    "print(pt)"
   ],
   "outputs": [],
   "metadata": {}
  },
  {
   "cell_type": "markdown",
   "source": [
    "## Looking up users who have retweeted a status"
   ],
   "metadata": {}
  },
  {
   "cell_type": "code",
   "execution_count": null,
   "source": [
    "# Get the original tweet id for a tweet from its retweeted_status node \n",
    "# and insert it here\n",
    "\n",
    "_retweets = twitter_api.statuses.retweets(id=862359093398261760)\n",
    "print([r['user']['screen_name'] for r in _retweets])"
   ],
   "outputs": [],
   "metadata": {}
  },
  {
   "cell_type": "markdown",
   "source": [
    "## Plotting frequencies of words"
   ],
   "metadata": {}
  },
  {
   "cell_type": "code",
   "execution_count": null,
   "source": [
    "import matplotlib.pyplot as plt\n",
    "%matplotlib inline\n",
    "word_counts = sorted(Counter(words).values(), reverse=True)\n",
    "\n",
    "plt.loglog(word_counts)\n",
    "plt.ylabel(\"Freq\")\n",
    "plt.xlabel(\"Word Rank\")"
   ],
   "outputs": [],
   "metadata": {}
  },
  {
   "cell_type": "markdown",
   "source": [
    "## Generating histograms of words, screen names, and hashtags"
   ],
   "metadata": {}
  },
  {
   "cell_type": "code",
   "execution_count": null,
   "source": [
    "for label, data in (('Words', words), \n",
    "                    ('Screen Names', screen_names), \n",
    "                    ('Hashtags', hashtags)):\n",
    "\n",
    "    # Build a frequency map for each set of data\n",
    "    # and plot the values\n",
    "    c = Counter(data)\n",
    "    plt.hist(list(c.values()))\n",
    "    \n",
    "    # Add a title and y-label ...\n",
    "    plt.title(label)\n",
    "    plt.ylabel(\"Number of items in bin\")\n",
    "    plt.xlabel(\"Bins (number of times an item appeared)\")\n",
    "    \n",
    "    # ... and display as a new figure\n",
    "    plt.figure()"
   ],
   "outputs": [],
   "metadata": {}
  },
  {
   "cell_type": "markdown",
   "source": [
    "## Generating a histogram of retweet counts"
   ],
   "metadata": {}
  },
  {
   "cell_type": "code",
   "execution_count": null,
   "source": [
    "# Using underscores while unpacking values in\n",
    "# a tuple is idiomatic for discarding them\n",
    "\n",
    "counts = [count for count, _, _, _ in retweets]\n",
    "\n",
    "plt.hist(counts)\n",
    "plt.title('Retweets')\n",
    "plt.xlabel('Bins (number of times retweeted)')\n",
    "plt.ylabel('Number of tweets in bin')"
   ],
   "outputs": [],
   "metadata": {}
  },
  {
   "cell_type": "markdown",
   "source": [
    "## Sentiment Analysis"
   ],
   "metadata": {
    "collapsed": true
   }
  },
  {
   "cell_type": "code",
   "execution_count": null,
   "source": [
    "# pip install nltk\n",
    "import nltk\n",
    "nltk.download('vader_lexicon')\n",
    "\n",
    "import numpy as np\n",
    "from nltk.sentiment.vader import SentimentIntensityAnalyzer"
   ],
   "outputs": [],
   "metadata": {}
  },
  {
   "cell_type": "code",
   "execution_count": null,
   "source": [
    "twitter_stream = twitter.TwitterStream(auth=auth)\n",
    "iterator = twitter_stream.statuses.sample()"
   ],
   "outputs": [],
   "metadata": {}
  },
  {
   "cell_type": "code",
   "execution_count": null,
   "source": [
    "tweets = []\n",
    "for tweet in iterator:\n",
    "    try:\n",
    "        if tweet['lang'] == 'en':\n",
    "            tweets.append(tweet)\n",
    "    except:\n",
    "        pass\n",
    "    if len(tweets) == 100:\n",
    "        break"
   ],
   "outputs": [],
   "metadata": {}
  },
  {
   "cell_type": "code",
   "execution_count": null,
   "source": [
    "analyzer = SentimentIntensityAnalyzer()"
   ],
   "outputs": [],
   "metadata": {}
  },
  {
   "cell_type": "code",
   "execution_count": null,
   "source": [
    "analyzer.polarity_scores('Hello')"
   ],
   "outputs": [],
   "metadata": {}
  },
  {
   "cell_type": "code",
   "execution_count": null,
   "source": [
    "analyzer.polarity_scores('I really enjoy this video series.')"
   ],
   "outputs": [],
   "metadata": {}
  },
  {
   "cell_type": "code",
   "execution_count": null,
   "source": [
    "analyzer.polarity_scores('I REALLY enjoy this video series.')"
   ],
   "outputs": [],
   "metadata": {}
  },
  {
   "cell_type": "code",
   "execution_count": null,
   "source": [
    "analyzer.polarity_scores('I REALLY enjoy this video series!!!')"
   ],
   "outputs": [],
   "metadata": {}
  },
  {
   "cell_type": "code",
   "execution_count": null,
   "source": [
    "analyzer.polarity_scores('I REALLY did not enjoy this video series!!!')"
   ],
   "outputs": [],
   "metadata": {}
  },
  {
   "cell_type": "code",
   "execution_count": null,
   "source": [
    "scores = np.zeros(len(tweets))\n",
    "\n",
    "for i, t in enumerate(tweets):\n",
    "    # Extract the text portion of the tweet\n",
    "    text = t['text']\n",
    "    \n",
    "    # Measure the polarity of the tweet\n",
    "    polarity = analyzer.polarity_scores(text)\n",
    "    \n",
    "    # Store the normalized, weighted composite score\n",
    "    scores[i] = polarity['compound']"
   ],
   "outputs": [],
   "metadata": {}
  },
  {
   "cell_type": "code",
   "execution_count": null,
   "source": [
    "most_positive = np.argmax(scores)\n",
    "most_negative = np.argmin(scores)"
   ],
   "outputs": [],
   "metadata": {}
  },
  {
   "cell_type": "code",
   "execution_count": null,
   "source": [
    "print('{0:6.3f} : \"{1}\"'.format(scores[most_positive], tweets[most_positive]['text']))"
   ],
   "outputs": [],
   "metadata": {}
  },
  {
   "cell_type": "code",
   "execution_count": null,
   "source": [
    "print('{0:6.3f} : \"{1}\"'.format(scores[most_negative], tweets[most_negative]['text']))"
   ],
   "outputs": [],
   "metadata": {}
  },
  {
   "cell_type": "code",
   "execution_count": null,
   "source": [],
   "outputs": [],
   "metadata": {}
  }
 ],
 "metadata": {
  "kernelspec": {
   "name": "python3",
   "display_name": "Python 3.8.8 64-bit ('venv': venv)"
  },
  "language_info": {
   "codemirror_mode": {
    "name": "ipython",
    "version": 3
   },
   "file_extension": ".py",
   "mimetype": "text/x-python",
   "name": "python",
   "nbconvert_exporter": "python",
   "pygments_lexer": "ipython3",
   "version": "3.8.8"
  },
  "interpreter": {
   "hash": "ed94d6db022e3b0ce9991fa32b81bd9f7e035fb3d152fb6d8b88ec358218c5e0"
  }
 },
 "nbformat": 4,
 "nbformat_minor": 1
}