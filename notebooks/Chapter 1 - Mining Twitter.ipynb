{
 "cells": [
  {
   "cell_type": "markdown",
   "source": [
    "# Mining Twitter\n",
    "\n",
    "Twitter implements OAuth 1.0A as its standard authentication mechanism, and in order to use it to make requests to Twitter's API, you'll need to go to https://developer.twitter.com/en/apps and create a sample application. It is possible that Twitter no longer supports sandboxed applications and you may need to submit a request for permission to develop an app on Twitter.\n",
    "\n",
    "There are four primary identifiers you'll need to note for an OAuth 1.0A workflow: consumer key, consumer secret, access token, and access token secret. Note that you will need an ordinary Twitter account in order to login, create an app, and get these credentials.\n",
    "\n",
    "<img src=\"resources/ch01-twitter/images/Twitter-AppCredentials.png\" width=\"600px\">"
   ],
   "metadata": {}
  },
  {
   "cell_type": "markdown",
   "source": [
    "If you are running this code on Binder or from the Docker container, you should just be able to execute the code in this notebook without any worries whatsoever about installing dependencies. If you are running the code from your own development envioronment, however, be advised that these examples in this chapter take advantage of a Python package called [twitter](https://github.com/sixohsix/twitter) to make API calls. You can install this package in a terminal with [pip](https://pypi.python.org/pypi/pip) with the command `pip install twitter`, preferably from within a [Python virtual environment](https://pypi.python.org/pypi/virtualenv). "
   ],
   "metadata": {}
  },
  {
   "cell_type": "markdown",
   "source": [
    "Once installed, you should be able to open up a Python interpreter (or better yet, your [IPython](http://ipython.org/) interpreter) and get rolling."
   ],
   "metadata": {}
  },
  {
   "cell_type": "markdown",
   "source": [
    "## Authorizing an application to access Twitter account data"
   ],
   "metadata": {}
  },
  {
   "cell_type": "code",
   "execution_count": 24,
   "source": [
    "import twitter\n",
    "import os\n",
    "from dotenv import load_dotenv\n",
    "\n",
    "load_dotenv()\n",
    "\n",
    "# Go to https://developer.twitter.com/en/apps to create an app and get values\n",
    "# for these credentials, which you'll need to provide in place of these\n",
    "# empty string values that are defined as placeholders.\n",
    "# See https://developer.twitter.com/en/docs/basics/authentication/overview/oauth\n",
    "# for more information on Twitter's OAuth implementation.\n",
    "\n",
    "CONSUMER_KEY = os.getenv(\"CONSUMER_KEY\")\n",
    "CONSUMER_SECRET = os.getenv(\"CONSUMER_SECRET\")\n",
    "OAUTH_TOKEN = os.getenv(\"ACCESS_TOKEN\")\n",
    "OAUTH_TOKEN_SECRET = os.getenv(\"ACCESS_TOKEN_SECRET\")\n",
    "\n",
    "auth = twitter.oauth.OAuth(OAUTH_TOKEN, OAUTH_TOKEN_SECRET,\n",
    "                           CONSUMER_KEY, CONSUMER_SECRET)\n",
    "\n",
    "twitter_api = twitter.Twitter(auth=auth)\n",
    "\n",
    "# Nothing to see by displaying twitter_api except that it's now a\n",
    "# defined variable\n",
    "\n",
    "print(twitter_api)"
   ],
   "outputs": [
    {
     "output_type": "stream",
     "name": "stdout",
     "text": [
      "<twitter.api.Twitter object at 0x7f481c49eaf0>\n"
     ]
    }
   ],
   "metadata": {}
  },
  {
   "cell_type": "markdown",
   "source": [
    "## Retrieving trends"
   ],
   "metadata": {}
  },
  {
   "cell_type": "code",
   "execution_count": 25,
   "source": [
    "# The Yahoo! Where On Earth ID for the entire world is 1.\n",
    "# See https://dev.twitter.com/docs/api/1.1/get/trends/place and\n",
    "# http://developer.yahoo.com/geo/geoplanet/\n",
    "\n",
    "WORLD_WOE_ID = 1\n",
    "US_WOE_ID = 23424977\n",
    "\n",
    "# Prefix ID with the underscore for query string parameterization.\n",
    "# Without the underscore, the twitter package appends the ID value\n",
    "# to the URL itself as a special case keyword argument.\n",
    "\n",
    "world_trends = twitter_api.trends.place(_id=WORLD_WOE_ID)\n",
    "us_trends = twitter_api.trends.place(_id=US_WOE_ID)\n",
    "\n",
    "print(world_trends)\n",
    "print()\n",
    "print(us_trends)"
   ],
   "outputs": [
    {
     "output_type": "stream",
     "name": "stdout",
     "text": [
      "[{'trends': [{'name': 'jade picon', 'url': 'http://twitter.com/search?q=%22jade+picon%22', 'promoted_content': None, 'query': '%22jade+picon%22', 'tweet_volume': 32325}, {'name': '#velatobkk', 'url': 'http://twitter.com/search?q=%23velatobkk', 'promoted_content': None, 'query': '%23velatobkk', 'tweet_volume': 78696}, {'name': 'Neymar', 'url': 'http://twitter.com/search?q=Neymar', 'promoted_content': None, 'query': 'Neymar', 'tweet_volume': 85931}, {'name': '#TENLEE_10MPaintMeNaked', 'url': 'http://twitter.com/search?q=%23TENLEE_10MPaintMeNaked', 'promoted_content': None, 'query': '%23TENLEE_10MPaintMeNaked', 'tweet_volume': 56629}, {'name': '#ZETAWIN2021', 'url': 'http://twitter.com/search?q=%23ZETAWIN2021', 'promoted_content': None, 'query': '%23ZETAWIN2021', 'tweet_volume': None}, {'name': 'João Guilherme', 'url': 'http://twitter.com/search?q=%22Jo%C3%A3o+Guilherme%22', 'promoted_content': None, 'query': '%22Jo%C3%A3o+Guilherme%22', 'tweet_volume': 26691}, {'name': 'TwiteraaGt Açıldı', 'url': 'http://twitter.com/search?q=%22TwiteraaGt+A%C3%A7%C4%B1ld%C4%B1%22', 'promoted_content': None, 'query': '%22TwiteraaGt+A%C3%A7%C4%B1ld%C4%B1%22', 'tweet_volume': None}, {'name': 'TEN OUT OF TEN', 'url': 'http://twitter.com/search?q=%22TEN+OUT+OF+TEN%22', 'promoted_content': None, 'query': '%22TEN+OUT+OF+TEN%22', 'tweet_volume': 48408}, {'name': '#ウマ娘で性格診断', 'url': 'http://twitter.com/search?q=%23%E3%82%A6%E3%83%9E%E5%A8%98%E3%81%A7%E6%80%A7%E6%A0%BC%E8%A8%BA%E6%96%AD', 'promoted_content': None, 'query': '%23%E3%82%A6%E3%83%9E%E5%A8%98%E3%81%A7%E6%80%A7%E6%A0%BC%E8%A8%BA%E6%96%AD', 'tweet_volume': None}, {'name': 'ポケカの拡張パック', 'url': 'http://twitter.com/search?q=%E3%83%9D%E3%82%B1%E3%82%AB%E3%81%AE%E6%8B%A1%E5%BC%B5%E3%83%91%E3%83%83%E3%82%AF', 'promoted_content': None, 'query': '%E3%83%9D%E3%82%B1%E3%82%AB%E3%81%AE%E6%8B%A1%E5%BC%B5%E3%83%91%E3%83%83%E3%82%AF', 'tweet_volume': None}, {'name': 'ウマ娘のキャラ', 'url': 'http://twitter.com/search?q=%E3%82%A6%E3%83%9E%E5%A8%98%E3%81%AE%E3%82%AD%E3%83%A3%E3%83%A9', 'promoted_content': None, 'query': '%E3%82%A6%E3%83%9E%E5%A8%98%E3%81%AE%E3%82%AD%E3%83%A3%E3%83%A9', 'tweet_volume': None}, {'name': '大塚明夫さん', 'url': 'http://twitter.com/search?q=%E5%A4%A7%E5%A1%9A%E6%98%8E%E5%A4%AB%E3%81%95%E3%82%93', 'promoted_content': None, 'query': '%E5%A4%A7%E5%A1%9A%E6%98%8E%E5%A4%AB%E3%81%95%E3%82%93', 'tweet_volume': 38044}, {'name': '大塚さん', 'url': 'http://twitter.com/search?q=%E5%A4%A7%E5%A1%9A%E3%81%95%E3%82%93', 'promoted_content': None, 'query': '%E5%A4%A7%E5%A1%9A%E3%81%95%E3%82%93', 'tweet_volume': 54552}, {'name': '#AnonymousBrof', 'url': 'http://twitter.com/search?q=%23AnonymousBrof', 'promoted_content': None, 'query': '%23AnonymousBrof', 'tweet_volume': 11601}, {'name': '古戦場欠席', 'url': 'http://twitter.com/search?q=%E5%8F%A4%E6%88%A6%E5%A0%B4%E6%AC%A0%E5%B8%AD', 'promoted_content': None, 'query': '%E5%8F%A4%E6%88%A6%E5%A0%B4%E6%AC%A0%E5%B8%AD', 'tweet_volume': None}, {'name': '野外音楽イベントの客', 'url': 'http://twitter.com/search?q=%E9%87%8E%E5%A4%96%E9%9F%B3%E6%A5%BD%E3%82%A4%E3%83%99%E3%83%B3%E3%83%88%E3%81%AE%E5%AE%A2', 'promoted_content': None, 'query': '%E9%87%8E%E5%A4%96%E9%9F%B3%E6%A5%BD%E3%82%A4%E3%83%99%E3%83%B3%E3%83%88%E3%81%AE%E5%AE%A2', 'tweet_volume': None}, {'name': '酒類提供', 'url': 'http://twitter.com/search?q=%E9%85%92%E9%A1%9E%E6%8F%90%E4%BE%9B', 'promoted_content': None, 'query': '%E9%85%92%E9%A1%9E%E6%8F%90%E4%BE%9B', 'tweet_volume': 14742}, {'name': '全国最多感染', 'url': 'http://twitter.com/search?q=%E5%85%A8%E5%9B%BD%E6%9C%80%E5%A4%9A%E6%84%9F%E6%9F%93', 'promoted_content': None, 'query': '%E5%85%A8%E5%9B%BD%E6%9C%80%E5%A4%9A%E6%84%9F%E6%9F%93', 'tweet_volume': None}, {'name': '小林さん', 'url': 'http://twitter.com/search?q=%E5%B0%8F%E6%9E%97%E3%81%95%E3%82%93', 'promoted_content': None, 'query': '%E5%B0%8F%E6%9E%97%E3%81%95%E3%82%93', 'tweet_volume': 70669}, {'name': 'angie', 'url': 'http://twitter.com/search?q=angie', 'promoted_content': None, 'query': 'angie', 'tweet_volume': 43974}, {'name': '椎名林檎', 'url': 'http://twitter.com/search?q=%E6%A4%8E%E5%90%8D%E6%9E%97%E6%AA%8E', 'promoted_content': None, 'query': '%E6%A4%8E%E5%90%8D%E6%9E%97%E6%AA%8E', 'tweet_volume': None}, {'name': 'Brasília', 'url': 'http://twitter.com/search?q=Bras%C3%ADlia', 'promoted_content': None, 'query': 'Bras%C3%ADlia', 'tweet_volume': 254244}, {'name': 'ルパン三世', 'url': 'http://twitter.com/search?q=%E3%83%AB%E3%83%91%E3%83%B3%E4%B8%89%E4%B8%96', 'promoted_content': None, 'query': '%E3%83%AB%E3%83%91%E3%83%B3%E4%B8%89%E4%B8%96', 'tweet_volume': 151491}, {'name': 'Xbox 360', 'url': 'http://twitter.com/search?q=%22Xbox+360%22', 'promoted_content': None, 'query': '%22Xbox+360%22', 'tweet_volume': 21327}, {'name': 'まがりなり', 'url': 'http://twitter.com/search?q=%E3%81%BE%E3%81%8C%E3%82%8A%E3%81%AA%E3%82%8A', 'promoted_content': None, 'query': '%E3%81%BE%E3%81%8C%E3%82%8A%E3%81%AA%E3%82%8A', 'tweet_volume': None}, {'name': 'CBCテレビ', 'url': 'http://twitter.com/search?q=CBC%E3%83%86%E3%83%AC%E3%83%93', 'promoted_content': None, 'query': 'CBC%E3%83%86%E3%83%AC%E3%83%93', 'tweet_volume': None}, {'name': 'Brendan', 'url': 'http://twitter.com/search?q=Brendan', 'promoted_content': None, 'query': 'Brendan', 'tweet_volume': 27381}, {'name': '小林清志さん', 'url': 'http://twitter.com/search?q=%E5%B0%8F%E6%9E%97%E6%B8%85%E5%BF%97%E3%81%95%E3%82%93', 'promoted_content': None, 'query': '%E5%B0%8F%E6%9E%97%E6%B8%85%E5%BF%97%E3%81%95%E3%82%93', 'tweet_volume': 40812}, {'name': 'MOONBIN X NEIKIDNIS COLLECTION', 'url': 'http://twitter.com/search?q=%22MOONBIN+X+NEIKIDNIS+COLLECTION%22', 'promoted_content': None, 'query': '%22MOONBIN+X+NEIKIDNIS+COLLECTION%22', 'tweet_volume': 12174}, {'name': 'Sakkari', 'url': 'http://twitter.com/search?q=Sakkari', 'promoted_content': None, 'query': 'Sakkari', 'tweet_volume': None}, {'name': 'Andreescu', 'url': 'http://twitter.com/search?q=Andreescu', 'promoted_content': None, 'query': 'Andreescu', 'tweet_volume': None}, {'name': 'プリンニシテヤルノ', 'url': 'http://twitter.com/search?q=%E3%83%97%E3%83%AA%E3%83%B3%E3%83%8B%E3%82%B7%E3%83%86%E3%83%A4%E3%83%AB%E3%83%8E', 'promoted_content': None, 'query': '%E3%83%97%E3%83%AA%E3%83%B3%E3%83%8B%E3%82%B7%E3%83%86%E3%83%A4%E3%83%AB%E3%83%8E', 'tweet_volume': None}, {'name': '菅首相の退陣巡り発言', 'url': 'http://twitter.com/search?q=%E8%8F%85%E9%A6%96%E7%9B%B8%E3%81%AE%E9%80%80%E9%99%A3%E5%B7%A1%E3%82%8A%E7%99%BA%E8%A8%80', 'promoted_content': None, 'query': '%E8%8F%85%E9%A6%96%E7%9B%B8%E3%81%AE%E9%80%80%E9%99%A3%E5%B7%A1%E3%82%8A%E7%99%BA%E8%A8%80', 'tweet_volume': None}, {'name': '麻生財務相', 'url': 'http://twitter.com/search?q=%E9%BA%BB%E7%94%9F%E8%B2%A1%E5%8B%99%E7%9B%B8', 'promoted_content': None, 'query': '%E9%BA%BB%E7%94%9F%E8%B2%A1%E5%8B%99%E7%9B%B8', 'tweet_volume': None}, {'name': '次元大介', 'url': 'http://twitter.com/search?q=%E6%AC%A1%E5%85%83%E5%A4%A7%E4%BB%8B', 'promoted_content': None, 'query': '%E6%AC%A1%E5%85%83%E5%A4%A7%E4%BB%8B', 'tweet_volume': 233909}, {'name': 'Icardi', 'url': 'http://twitter.com/search?q=Icardi', 'promoted_content': None, 'query': 'Icardi', 'tweet_volume': None}, {'name': 'ムンナイ', 'url': 'http://twitter.com/search?q=%E3%83%A0%E3%83%B3%E3%83%8A%E3%82%A4', 'promoted_content': None, 'query': '%E3%83%A0%E3%83%B3%E3%83%8A%E3%82%A4', 'tweet_volume': None}, {'name': 'bozo', 'url': 'http://twitter.com/search?q=bozo', 'promoted_content': None, 'query': 'bozo', 'tweet_volume': 45116}, {'name': 'Pieper', 'url': 'http://twitter.com/search?q=Pieper', 'promoted_content': None, 'query': 'Pieper', 'tweet_volume': 11497}, {'name': 'Xbox One', 'url': 'http://twitter.com/search?q=%22Xbox+One%22', 'promoted_content': None, 'query': '%22Xbox+One%22', 'tweet_volume': 14678}, {'name': 'Requesting Bazinga', 'url': 'http://twitter.com/search?q=%22Requesting+Bazinga%22', 'promoted_content': None, 'query': '%22Requesting+Bazinga%22', 'tweet_volume': 80830}, {'name': '次元の声', 'url': 'http://twitter.com/search?q=%E6%AC%A1%E5%85%83%E3%81%AE%E5%A3%B0', 'promoted_content': None, 'query': '%E6%AC%A1%E5%85%83%E3%81%AE%E5%A3%B0', 'tweet_volume': 21235}, {'name': 'Ole Miss', 'url': 'http://twitter.com/search?q=%22Ole+Miss%22', 'promoted_content': None, 'query': '%22Ole+Miss%22', 'tweet_volume': 21541}, {'name': 'Mac Miller', 'url': 'http://twitter.com/search?q=%22Mac+Miller%22', 'promoted_content': None, 'query': '%22Mac+Miller%22', 'tweet_volume': 19075}, {'name': 'Esplanada', 'url': 'http://twitter.com/search?q=Esplanada', 'promoted_content': None, 'query': 'Esplanada', 'tweet_volume': 81315}, {'name': '1 Day', 'url': 'http://twitter.com/search?q=%221+Day%22', 'promoted_content': None, 'query': '%221+Day%22', 'tweet_volume': 372201}, {'name': '麺オタク', 'url': 'http://twitter.com/search?q=%E9%BA%BA%E3%82%AA%E3%82%BF%E3%82%AF', 'promoted_content': None, 'query': '%E9%BA%BA%E3%82%AA%E3%82%BF%E3%82%AF', 'tweet_volume': None}, {'name': 'チャンスー', 'url': 'http://twitter.com/search?q=%E3%83%81%E3%83%A3%E3%83%B3%E3%82%B9%E3%83%BC', 'promoted_content': None, 'query': '%E3%83%81%E3%83%A3%E3%83%B3%E3%82%B9%E3%83%BC', 'tweet_volume': None}, {'name': 'Allan Rodríguez', 'url': 'http://twitter.com/search?q=%22Allan+Rodr%C3%ADguez%22', 'promoted_content': None, 'query': '%22Allan+Rodr%C3%ADguez%22', 'tweet_volume': None}, {'name': '元AKBラーメン店主', 'url': 'http://twitter.com/search?q=%E5%85%83AKB%E3%83%A9%E3%83%BC%E3%83%A1%E3%83%B3%E5%BA%97%E4%B8%BB', 'promoted_content': None, 'query': '%E5%85%83AKB%E3%83%A9%E3%83%BC%E3%83%A1%E3%83%B3%E5%BA%97%E4%B8%BB', 'tweet_volume': None}], 'as_of': '2021-09-07T06:23:07Z', 'created_at': '2021-09-05T22:27:21Z', 'locations': [{'name': 'Worldwide', 'woeid': 1}]}]\n",
      "\n",
      "[{'trends': [{'name': '#BachelorInParadise', 'url': 'http://twitter.com/search?q=%23BachelorInParadise', 'promoted_content': None, 'query': '%23BachelorInParadise', 'tweet_volume': 47837}, {'name': 'Brendan', 'url': 'http://twitter.com/search?q=Brendan', 'promoted_content': None, 'query': 'Brendan', 'tweet_volume': 27381}, {'name': 'Xbox 360', 'url': 'http://twitter.com/search?q=%22Xbox+360%22', 'promoted_content': None, 'query': '%22Xbox+360%22', 'tweet_volume': 21327}, {'name': '#billiejoin', 'url': 'http://twitter.com/search?q=%23billiejoin', 'promoted_content': None, 'query': '%23billiejoin', 'tweet_volume': None}, {'name': 'Xbox One', 'url': 'http://twitter.com/search?q=%22Xbox+One%22', 'promoted_content': None, 'query': '%22Xbox+One%22', 'tweet_volume': 14667}, {'name': 'Ole Miss', 'url': 'http://twitter.com/search?q=%22Ole+Miss%22', 'promoted_content': None, 'query': '%22Ole+Miss%22', 'tweet_volume': 21541}, {'name': 'Mac Miller', 'url': 'http://twitter.com/search?q=%22Mac+Miller%22', 'promoted_content': None, 'query': '%22Mac+Miller%22', 'tweet_volume': 19075}, {'name': 'Louisville', 'url': 'http://twitter.com/search?q=Louisville', 'promoted_content': None, 'query': 'Louisville', 'tweet_volume': 21484}, {'name': 'Sakkari', 'url': 'http://twitter.com/search?q=Sakkari', 'promoted_content': None, 'query': 'Sakkari', 'tweet_volume': None}, {'name': 'Wii U', 'url': 'http://twitter.com/search?q=%22Wii+U%22', 'promoted_content': None, 'query': '%22Wii+U%22', 'tweet_volume': None}, {'name': 'Natasha', 'url': 'http://twitter.com/search?q=Natasha', 'promoted_content': None, 'query': 'Natasha', 'tweet_volume': 27175}, {'name': '#TaxTheChurches', 'url': 'http://twitter.com/search?q=%23TaxTheChurches', 'promoted_content': None, 'query': '%23TaxTheChurches', 'tweet_volume': None}, {'name': 'Blade', 'url': 'http://twitter.com/search?q=Blade', 'promoted_content': None, 'query': 'Blade', 'tweet_volume': 25220}, {'name': '#WWERaw', 'url': 'http://twitter.com/search?q=%23WWERaw', 'promoted_content': None, 'query': '%23WWERaw', 'tweet_volume': 53446}, {'name': 'Sega Genesis', 'url': 'http://twitter.com/search?q=%22Sega+Genesis%22', 'promoted_content': None, 'query': '%22Sega+Genesis%22', 'tweet_volume': None}, {'name': 'George Washington', 'url': 'http://twitter.com/search?q=%22George+Washington%22', 'promoted_content': None, 'query': '%22George+Washington%22', 'tweet_volume': None}, {'name': 'Andreescu', 'url': 'http://twitter.com/search?q=Andreescu', 'promoted_content': None, 'query': 'Andreescu', 'tweet_volume': None}, {'name': '#Sep7Coup', 'url': 'http://twitter.com/search?q=%23Sep7Coup', 'promoted_content': None, 'query': '%23Sep7Coup', 'tweet_volume': 75743}, {'name': 'karl', 'url': 'http://twitter.com/search?q=karl', 'promoted_content': None, 'query': 'karl', 'tweet_volume': 54959}, {'name': 'Junie B Jones', 'url': 'http://twitter.com/search?q=%22Junie+B+Jones%22', 'promoted_content': None, 'query': '%22Junie+B+Jones%22', 'tweet_volume': None}, {'name': 'Michael K. Williams', 'url': 'http://twitter.com/search?q=%22Michael+K.+Williams%22', 'promoted_content': None, 'query': '%22Michael+K.+Williams%22', 'tweet_volume': 466732}, {'name': 'The Wire', 'url': 'http://twitter.com/search?q=%22The+Wire%22', 'promoted_content': None, 'query': '%22The+Wire%22', 'tweet_volume': 153135}, {'name': 'Robert E. Lee', 'url': 'http://twitter.com/search?q=%22Robert+E.+Lee%22', 'promoted_content': None, 'query': '%22Robert+E.+Lee%22', 'tweet_volume': None}, {'name': 'Omar', 'url': 'http://twitter.com/search?q=Omar', 'promoted_content': None, 'query': 'Omar', 'tweet_volume': 187201}, {'name': 'Gameboy Color', 'url': 'http://twitter.com/search?q=%22Gameboy+Color%22', 'promoted_content': None, 'query': '%22Gameboy+Color%22', 'tweet_volume': None}, {'name': 'Atari 2600', 'url': 'http://twitter.com/search?q=%22Atari+2600%22', 'promoted_content': None, 'query': '%22Atari+2600%22', 'tweet_volume': None}, {'name': 'Nintendo Switch', 'url': 'http://twitter.com/search?q=%22Nintendo+Switch%22', 'promoted_content': None, 'query': '%22Nintendo+Switch%22', 'tweet_volume': 23667}, {'name': 'GameCube', 'url': 'http://twitter.com/search?q=GameCube', 'promoted_content': None, 'query': 'GameCube', 'tweet_volume': None}, {'name': 'Scott Baio', 'url': 'http://twitter.com/search?q=%22Scott+Baio%22', 'promoted_content': None, 'query': '%22Scott+Baio%22', 'tweet_volume': None}, {'name': 'Matt Corral', 'url': 'http://twitter.com/search?q=%22Matt+Corral%22', 'promoted_content': None, 'query': '%22Matt+Corral%22', 'tweet_volume': None}, {'name': 'Nintendo DS', 'url': 'http://twitter.com/search?q=%22Nintendo+DS%22', 'promoted_content': None, 'query': '%22Nintendo+DS%22', 'tweet_volume': None}, {'name': 'snoop conner', 'url': 'http://twitter.com/search?q=%22snoop+conner%22', 'promoted_content': None, 'query': '%22snoop+conner%22', 'tweet_volume': None}, {'name': 'Xbox Series X', 'url': 'http://twitter.com/search?q=%22Xbox+Series+X%22', 'promoted_content': None, 'query': '%22Xbox+Series+X%22', 'tweet_volume': 10297}, {'name': 'taemin', 'url': 'http://twitter.com/search?q=taemin', 'promoted_content': None, 'query': 'taemin', 'tweet_volume': 45415}, {'name': 'Super Nintendo', 'url': 'http://twitter.com/search?q=%22Super+Nintendo%22', 'promoted_content': None, 'query': '%22Super+Nintendo%22', 'tweet_volume': None}, {'name': 'Satterfield', 'url': 'http://twitter.com/search?q=Satterfield', 'promoted_content': None, 'query': 'Satterfield', 'tweet_volume': None}, {'name': 'Brooksby', 'url': 'http://twitter.com/search?q=Brooksby', 'promoted_content': None, 'query': 'Brooksby', 'tweet_volume': 16532}, {'name': 'PlayStation 2', 'url': 'http://twitter.com/search?q=%22PlayStation+2%22', 'promoted_content': None, 'query': '%22PlayStation+2%22', 'tweet_volume': None}, {'name': 'Franklin Graham', 'url': 'http://twitter.com/search?q=%22Franklin+Graham%22', 'promoted_content': None, 'query': '%22Franklin+Graham%22', 'tweet_volume': 28402}, {'name': 'DS Lite', 'url': 'http://twitter.com/search?q=%22DS+Lite%22', 'promoted_content': None, 'query': '%22DS+Lite%22', 'tweet_volume': None}, {'name': 'DeJoy', 'url': 'http://twitter.com/search?q=DeJoy', 'promoted_content': None, 'query': 'DeJoy', 'tweet_volume': 34438}, {'name': 'Trey Mancini', 'url': 'http://twitter.com/search?q=%22Trey+Mancini%22', 'promoted_content': None, 'query': '%22Trey+Mancini%22', 'tweet_volume': None}, {'name': 'PS4 Pro', 'url': 'http://twitter.com/search?q=%22PS4+Pro%22', 'promoted_content': None, 'query': '%22PS4+Pro%22', 'tweet_volume': None}, {'name': 'Omos', 'url': 'http://twitter.com/search?q=Omos', 'promoted_content': None, 'query': 'Omos', 'tweet_volume': None}, {'name': 'Djokovic', 'url': 'http://twitter.com/search?q=Djokovic', 'promoted_content': None, 'query': 'Djokovic', 'tweet_volume': 22406}, {'name': 'Nintendo Wii', 'url': 'http://twitter.com/search?q=%22Nintendo+Wii%22', 'promoted_content': None, 'query': '%22Nintendo+Wii%22', 'tweet_volume': None}, {'name': 'Talia', 'url': 'http://twitter.com/search?q=Talia', 'promoted_content': None, 'query': 'Talia', 'tweet_volume': None}, {'name': 'Hyunjin', 'url': 'http://twitter.com/search?q=Hyunjin', 'promoted_content': None, 'query': 'Hyunjin', 'tweet_volume': 119617}, {'name': 'SNES', 'url': 'http://twitter.com/search?q=SNES', 'promoted_content': None, 'query': 'SNES', 'tweet_volume': None}, {'name': 'mr. davis', 'url': 'http://twitter.com/search?q=%22mr.+davis%22', 'promoted_content': None, 'query': '%22mr.+davis%22', 'tweet_volume': None}], 'as_of': '2021-09-07T06:23:08Z', 'created_at': '2021-09-06T12:22:26Z', 'locations': [{'name': 'United States', 'woeid': 23424977}]}]\n"
     ]
    }
   ],
   "metadata": {}
  },
  {
   "cell_type": "code",
   "execution_count": 26,
   "source": [
    "for trend in world_trends[0]['trends']:\n",
    "    print(trend['name'])"
   ],
   "outputs": [
    {
     "output_type": "stream",
     "name": "stdout",
     "text": [
      "jade picon\n",
      "#velatobkk\n",
      "Neymar\n",
      "#TENLEE_10MPaintMeNaked\n",
      "#ZETAWIN2021\n",
      "João Guilherme\n",
      "TwiteraaGt Açıldı\n",
      "TEN OUT OF TEN\n",
      "#ウマ娘で性格診断\n",
      "ポケカの拡張パック\n",
      "ウマ娘のキャラ\n",
      "大塚明夫さん\n",
      "大塚さん\n",
      "#AnonymousBrof\n",
      "古戦場欠席\n",
      "野外音楽イベントの客\n",
      "酒類提供\n",
      "全国最多感染\n",
      "小林さん\n",
      "angie\n",
      "椎名林檎\n",
      "Brasília\n",
      "ルパン三世\n",
      "Xbox 360\n",
      "まがりなり\n",
      "CBCテレビ\n",
      "Brendan\n",
      "小林清志さん\n",
      "MOONBIN X NEIKIDNIS COLLECTION\n",
      "Sakkari\n",
      "Andreescu\n",
      "プリンニシテヤルノ\n",
      "菅首相の退陣巡り発言\n",
      "麻生財務相\n",
      "次元大介\n",
      "Icardi\n",
      "ムンナイ\n",
      "bozo\n",
      "Pieper\n",
      "Xbox One\n",
      "Requesting Bazinga\n",
      "次元の声\n",
      "Ole Miss\n",
      "Mac Miller\n",
      "Esplanada\n",
      "1 Day\n",
      "麺オタク\n",
      "チャンスー\n",
      "Allan Rodríguez\n",
      "元AKBラーメン店主\n"
     ]
    }
   ],
   "metadata": {}
  },
  {
   "cell_type": "code",
   "execution_count": 27,
   "source": [
    "for trend in us_trends[0]['trends']:\n",
    "    print(trend['name'])"
   ],
   "outputs": [
    {
     "output_type": "stream",
     "name": "stdout",
     "text": [
      "#BachelorInParadise\n",
      "Brendan\n",
      "Xbox 360\n",
      "#billiejoin\n",
      "Xbox One\n",
      "Ole Miss\n",
      "Mac Miller\n",
      "Louisville\n",
      "Sakkari\n",
      "Wii U\n",
      "Natasha\n",
      "#TaxTheChurches\n",
      "Blade\n",
      "#WWERaw\n",
      "Sega Genesis\n",
      "George Washington\n",
      "Andreescu\n",
      "#Sep7Coup\n",
      "karl\n",
      "Junie B Jones\n",
      "Michael K. Williams\n",
      "The Wire\n",
      "Robert E. Lee\n",
      "Omar\n",
      "Gameboy Color\n",
      "Atari 2600\n",
      "Nintendo Switch\n",
      "GameCube\n",
      "Scott Baio\n",
      "Matt Corral\n",
      "Nintendo DS\n",
      "snoop conner\n",
      "Xbox Series X\n",
      "taemin\n",
      "Super Nintendo\n",
      "Satterfield\n",
      "Brooksby\n",
      "PlayStation 2\n",
      "Franklin Graham\n",
      "DS Lite\n",
      "DeJoy\n",
      "Trey Mancini\n",
      "PS4 Pro\n",
      "Omos\n",
      "Djokovic\n",
      "Nintendo Wii\n",
      "Talia\n",
      "Hyunjin\n",
      "SNES\n",
      "mr. davis\n"
     ]
    }
   ],
   "metadata": {}
  },
  {
   "cell_type": "code",
   "execution_count": 28,
   "source": [
    "world_trends_set = set([trend['name'] \n",
    "                        for trend in world_trends[0]['trends']])\n",
    "\n",
    "us_trends_set = set([trend['name'] \n",
    "                     for trend in us_trends[0]['trends']]) \n",
    "\n",
    "common_trends = world_trends_set.intersection(us_trends_set)\n",
    "\n",
    "print(common_trends)"
   ],
   "outputs": [
    {
     "output_type": "stream",
     "name": "stdout",
     "text": [
      "{'Xbox 360', 'Andreescu', 'Mac Miller', 'Brendan', 'Xbox One', 'Ole Miss', 'Sakkari'}\n"
     ]
    }
   ],
   "metadata": {}
  },
  {
   "cell_type": "markdown",
   "source": [
    "## Anatomy of a Tweet"
   ],
   "metadata": {}
  },
  {
   "cell_type": "code",
   "execution_count": 29,
   "source": [
    "import json\n",
    "\n",
    "# Set this variable to a trending topic, \n",
    "# or anything else for that matter. The example query below\n",
    "# was a trending topic when this content was being developed\n",
    "# and is used throughout the remainder of this chapter.\n",
    "\n",
    "q = '#MothersDay' \n",
    "\n",
    "count = 100\n",
    "\n",
    "# Import unquote to prevent url encoding errors in next_results\n",
    "from urllib.parse import unquote\n",
    "\n",
    "# See https://dev.twitter.com/rest/reference/get/search/tweets\n",
    "\n",
    "search_results = twitter_api.search.tweets(q=q, count=count)\n",
    "\n",
    "statuses = search_results['statuses']\n",
    "\n",
    "\n",
    "# Iterate through 5 more batches of results by following the cursor\n",
    "for _ in range(5):\n",
    "    print('Length of statuses', len(statuses))\n",
    "    try:\n",
    "        next_results = search_results['search_metadata']['next_results']\n",
    "    except KeyError as e: # No more results when next_results doesn't exist\n",
    "        break\n",
    "        \n",
    "    # Create a dictionary from next_results, which has the following form:\n",
    "    # ?max_id=847960489447628799&q=%23RIPSelena&count=100&include_entities=1\n",
    "    kwargs = dict([ kv.split('=') for kv in unquote(next_results[1:]).split(\"&\") ])\n",
    "    \n",
    "    search_results = twitter_api.search.tweets(**kwargs)\n",
    "    statuses += search_results['statuses']\n",
    "\n",
    "# Show one sample search result by slicing the list...\n",
    "print(json.dumps(statuses[0], indent=1))"
   ],
   "outputs": [
    {
     "output_type": "stream",
     "name": "stdout",
     "text": [
      "Length of statuses 100\n",
      "Length of statuses 200\n",
      "Length of statuses 300\n",
      "Length of statuses 400\n",
      "Length of statuses 500\n",
      "{\n",
      " \"created_at\": \"Tue Sep 07 06:13:46 +0000 2021\",\n",
      " \"id\": 1435124113174007811,\n",
      " \"id_str\": \"1435124113174007811\",\n",
      " \"text\": \"RT @Forest_Draw: Some game Moms for this #MothersDay \\n\\n#Rosalina #SuperMario #SuperMarioGalaxy #SuperMarioGalaxy2 #MsPacMan #Pacman #Melony\\u2026\",\n",
      " \"truncated\": false,\n",
      " \"entities\": {\n",
      "  \"hashtags\": [\n",
      "   {\n",
      "    \"text\": \"MothersDay\",\n",
      "    \"indices\": [\n",
      "     41,\n",
      "     52\n",
      "    ]\n",
      "   },\n",
      "   {\n",
      "    \"text\": \"Rosalina\",\n",
      "    \"indices\": [\n",
      "     55,\n",
      "     64\n",
      "    ]\n",
      "   },\n",
      "   {\n",
      "    \"text\": \"SuperMario\",\n",
      "    \"indices\": [\n",
      "     65,\n",
      "     76\n",
      "    ]\n",
      "   },\n",
      "   {\n",
      "    \"text\": \"SuperMarioGalaxy\",\n",
      "    \"indices\": [\n",
      "     77,\n",
      "     94\n",
      "    ]\n",
      "   },\n",
      "   {\n",
      "    \"text\": \"SuperMarioGalaxy2\",\n",
      "    \"indices\": [\n",
      "     95,\n",
      "     113\n",
      "    ]\n",
      "   },\n",
      "   {\n",
      "    \"text\": \"MsPacMan\",\n",
      "    \"indices\": [\n",
      "     114,\n",
      "     123\n",
      "    ]\n",
      "   },\n",
      "   {\n",
      "    \"text\": \"Pacman\",\n",
      "    \"indices\": [\n",
      "     124,\n",
      "     131\n",
      "    ]\n",
      "   },\n",
      "   {\n",
      "    \"text\": \"Melony\",\n",
      "    \"indices\": [\n",
      "     132,\n",
      "     139\n",
      "    ]\n",
      "   }\n",
      "  ],\n",
      "  \"symbols\": [],\n",
      "  \"user_mentions\": [\n",
      "   {\n",
      "    \"screen_name\": \"Forest_Draw\",\n",
      "    \"name\": \"Uncle Forest (OPEN COMMISSIONS)\",\n",
      "    \"id\": 1328577335508037632,\n",
      "    \"id_str\": \"1328577335508037632\",\n",
      "    \"indices\": [\n",
      "     3,\n",
      "     15\n",
      "    ]\n",
      "   }\n",
      "  ],\n",
      "  \"urls\": []\n",
      " },\n",
      " \"metadata\": {\n",
      "  \"iso_language_code\": \"en\",\n",
      "  \"result_type\": \"recent\"\n",
      " },\n",
      " \"source\": \"<a href=\\\"https://mobile.twitter.com\\\" rel=\\\"nofollow\\\">Twitter Web App</a>\",\n",
      " \"in_reply_to_status_id\": null,\n",
      " \"in_reply_to_status_id_str\": null,\n",
      " \"in_reply_to_user_id\": null,\n",
      " \"in_reply_to_user_id_str\": null,\n",
      " \"in_reply_to_screen_name\": null,\n",
      " \"user\": {\n",
      "  \"id\": 1288240498365276160,\n",
      "  \"id_str\": \"1288240498365276160\",\n",
      "  \"name\": \"mildew votes ndp\",\n",
      "  \"screen_name\": \"maskedmildew\",\n",
      "  \"location\": \"canada\",\n",
      "  \"description\": \"castlevania (game only), samurai, monsters, wrestling and dads. currently into ace attorney too. i draw, check media tab if you'd like. i'm 20+ HE/THEY\",\n",
      "  \"url\": \"https://t.co/ehnwdhuEf9\",\n",
      "  \"entities\": {\n",
      "   \"url\": {\n",
      "    \"urls\": [\n",
      "     {\n",
      "      \"url\": \"https://t.co/ehnwdhuEf9\",\n",
      "      \"expanded_url\": \"https://ko-fi.com/mild3w\",\n",
      "      \"display_url\": \"ko-fi.com/mild3w\",\n",
      "      \"indices\": [\n",
      "       0,\n",
      "       23\n",
      "      ]\n",
      "     }\n",
      "    ]\n",
      "   },\n",
      "   \"description\": {\n",
      "    \"urls\": []\n",
      "   }\n",
      "  },\n",
      "  \"protected\": false,\n",
      "  \"followers_count\": 113,\n",
      "  \"friends_count\": 63,\n",
      "  \"listed_count\": 0,\n",
      "  \"created_at\": \"Tue Jul 28 22:30:56 +0000 2020\",\n",
      "  \"favourites_count\": 9261,\n",
      "  \"utc_offset\": null,\n",
      "  \"time_zone\": null,\n",
      "  \"geo_enabled\": false,\n",
      "  \"verified\": false,\n",
      "  \"statuses_count\": 14164,\n",
      "  \"lang\": null,\n",
      "  \"contributors_enabled\": false,\n",
      "  \"is_translator\": false,\n",
      "  \"is_translation_enabled\": false,\n",
      "  \"profile_background_color\": \"F5F8FA\",\n",
      "  \"profile_background_image_url\": null,\n",
      "  \"profile_background_image_url_https\": null,\n",
      "  \"profile_background_tile\": false,\n",
      "  \"profile_image_url\": \"http://pbs.twimg.com/profile_images/1428133151533015045/9FTmQTDu_normal.jpg\",\n",
      "  \"profile_image_url_https\": \"https://pbs.twimg.com/profile_images/1428133151533015045/9FTmQTDu_normal.jpg\",\n",
      "  \"profile_banner_url\": \"https://pbs.twimg.com/profile_banners/1288240498365276160/1622608499\",\n",
      "  \"profile_link_color\": \"1DA1F2\",\n",
      "  \"profile_sidebar_border_color\": \"C0DEED\",\n",
      "  \"profile_sidebar_fill_color\": \"DDEEF6\",\n",
      "  \"profile_text_color\": \"333333\",\n",
      "  \"profile_use_background_image\": true,\n",
      "  \"has_extended_profile\": true,\n",
      "  \"default_profile\": true,\n",
      "  \"default_profile_image\": false,\n",
      "  \"following\": false,\n",
      "  \"follow_request_sent\": false,\n",
      "  \"notifications\": false,\n",
      "  \"translator_type\": \"none\",\n",
      "  \"withheld_in_countries\": []\n",
      " },\n",
      " \"geo\": null,\n",
      " \"coordinates\": null,\n",
      " \"place\": null,\n",
      " \"contributors\": null,\n",
      " \"retweeted_status\": {\n",
      "  \"created_at\": \"Mon May 10 00:56:30 +0000 2021\",\n",
      "  \"id\": 1391557725390360581,\n",
      "  \"id_str\": \"1391557725390360581\",\n",
      "  \"text\": \"Some game Moms for this #MothersDay \\n\\n#Rosalina #SuperMario #SuperMarioGalaxy #SuperMarioGalaxy2 #MsPacMan #Pacman\\u2026 https://t.co/RDjPN3mTds\",\n",
      "  \"truncated\": true,\n",
      "  \"entities\": {\n",
      "   \"hashtags\": [\n",
      "    {\n",
      "     \"text\": \"MothersDay\",\n",
      "     \"indices\": [\n",
      "      24,\n",
      "      35\n",
      "     ]\n",
      "    },\n",
      "    {\n",
      "     \"text\": \"Rosalina\",\n",
      "     \"indices\": [\n",
      "      38,\n",
      "      47\n",
      "     ]\n",
      "    },\n",
      "    {\n",
      "     \"text\": \"SuperMario\",\n",
      "     \"indices\": [\n",
      "      48,\n",
      "      59\n",
      "     ]\n",
      "    },\n",
      "    {\n",
      "     \"text\": \"SuperMarioGalaxy\",\n",
      "     \"indices\": [\n",
      "      60,\n",
      "      77\n",
      "     ]\n",
      "    },\n",
      "    {\n",
      "     \"text\": \"SuperMarioGalaxy2\",\n",
      "     \"indices\": [\n",
      "      78,\n",
      "      96\n",
      "     ]\n",
      "    },\n",
      "    {\n",
      "     \"text\": \"MsPacMan\",\n",
      "     \"indices\": [\n",
      "      97,\n",
      "      106\n",
      "     ]\n",
      "    },\n",
      "    {\n",
      "     \"text\": \"Pacman\",\n",
      "     \"indices\": [\n",
      "      107,\n",
      "      114\n",
      "     ]\n",
      "    }\n",
      "   ],\n",
      "   \"symbols\": [],\n",
      "   \"user_mentions\": [],\n",
      "   \"urls\": [\n",
      "    {\n",
      "     \"url\": \"https://t.co/RDjPN3mTds\",\n",
      "     \"expanded_url\": \"https://twitter.com/i/web/status/1391557725390360581\",\n",
      "     \"display_url\": \"twitter.com/i/web/status/1\\u2026\",\n",
      "     \"indices\": [\n",
      "      116,\n",
      "      139\n",
      "     ]\n",
      "    }\n",
      "   ]\n",
      "  },\n",
      "  \"metadata\": {\n",
      "   \"iso_language_code\": \"en\",\n",
      "   \"result_type\": \"recent\"\n",
      "  },\n",
      "  \"source\": \"<a href=\\\"https://mobile.twitter.com\\\" rel=\\\"nofollow\\\">Twitter Web App</a>\",\n",
      "  \"in_reply_to_status_id\": null,\n",
      "  \"in_reply_to_status_id_str\": null,\n",
      "  \"in_reply_to_user_id\": null,\n",
      "  \"in_reply_to_user_id_str\": null,\n",
      "  \"in_reply_to_screen_name\": null,\n",
      "  \"user\": {\n",
      "   \"id\": 1328577335508037632,\n",
      "   \"id_str\": \"1328577335508037632\",\n",
      "   \"name\": \"Uncle Forest (OPEN COMMISSIONS)\",\n",
      "   \"screen_name\": \"Forest_Draw\",\n",
      "   \"location\": \"\",\n",
      "   \"description\": \"Art Account || Pinchi Mexican Beaner || Wacky Cartoonist || Graphic Design Student || KIRBY FAN || Furry on Fridays :3 || ENG/ESP ||\\n\\nAnything can be Fun! \\ud83d\\ude0b\",\n",
      "   \"url\": null,\n",
      "   \"entities\": {\n",
      "    \"description\": {\n",
      "     \"urls\": []\n",
      "    }\n",
      "   },\n",
      "   \"protected\": false,\n",
      "   \"followers_count\": 1284,\n",
      "   \"friends_count\": 422,\n",
      "   \"listed_count\": 4,\n",
      "   \"created_at\": \"Tue Nov 17 05:55:04 +0000 2020\",\n",
      "   \"favourites_count\": 1672,\n",
      "   \"utc_offset\": null,\n",
      "   \"time_zone\": null,\n",
      "   \"geo_enabled\": false,\n",
      "   \"verified\": false,\n",
      "   \"statuses_count\": 604,\n",
      "   \"lang\": null,\n",
      "   \"contributors_enabled\": false,\n",
      "   \"is_translator\": false,\n",
      "   \"is_translation_enabled\": false,\n",
      "   \"profile_background_color\": \"F5F8FA\",\n",
      "   \"profile_background_image_url\": null,\n",
      "   \"profile_background_image_url_https\": null,\n",
      "   \"profile_background_tile\": false,\n",
      "   \"profile_image_url\": \"http://pbs.twimg.com/profile_images/1328580634000945152/rvjRwxR9_normal.jpg\",\n",
      "   \"profile_image_url_https\": \"https://pbs.twimg.com/profile_images/1328580634000945152/rvjRwxR9_normal.jpg\",\n",
      "   \"profile_banner_url\": \"https://pbs.twimg.com/profile_banners/1328577335508037632/1626047845\",\n",
      "   \"profile_link_color\": \"1DA1F2\",\n",
      "   \"profile_sidebar_border_color\": \"C0DEED\",\n",
      "   \"profile_sidebar_fill_color\": \"DDEEF6\",\n",
      "   \"profile_text_color\": \"333333\",\n",
      "   \"profile_use_background_image\": true,\n",
      "   \"has_extended_profile\": true,\n",
      "   \"default_profile\": true,\n",
      "   \"default_profile_image\": false,\n",
      "   \"following\": false,\n",
      "   \"follow_request_sent\": false,\n",
      "   \"notifications\": false,\n",
      "   \"translator_type\": \"none\",\n",
      "   \"withheld_in_countries\": []\n",
      "  },\n",
      "  \"geo\": null,\n",
      "  \"coordinates\": null,\n",
      "  \"place\": null,\n",
      "  \"contributors\": null,\n",
      "  \"is_quote_status\": false,\n",
      "  \"retweet_count\": 56,\n",
      "  \"favorite_count\": 259,\n",
      "  \"favorited\": false,\n",
      "  \"retweeted\": false,\n",
      "  \"possibly_sensitive\": false,\n",
      "  \"lang\": \"en\"\n",
      " },\n",
      " \"is_quote_status\": false,\n",
      " \"retweet_count\": 56,\n",
      " \"favorite_count\": 0,\n",
      " \"favorited\": false,\n",
      " \"retweeted\": false,\n",
      " \"lang\": \"en\"\n",
      "}\n"
     ]
    }
   ],
   "metadata": {}
  },
  {
   "cell_type": "code",
   "execution_count": 30,
   "source": [
    "for i in range(10):\n",
    "    print()\n",
    "    print(statuses[i]['text'])\n",
    "    print('Favorites: ', statuses[i]['favorite_count'])\n",
    "    print('Retweets: ', statuses[i]['retweet_count'])"
   ],
   "outputs": [
    {
     "output_type": "stream",
     "name": "stdout",
     "text": [
      "\n",
      "RT @Forest_Draw: Some game Moms for this #MothersDay \n",
      "\n",
      "#Rosalina #SuperMario #SuperMarioGalaxy #SuperMarioGalaxy2 #MsPacMan #Pacman #Melony…\n",
      "Favorites:  0\n",
      "Retweets:  56\n",
      "\n",
      "RT @I_Love_Shilpa: #मातृदिन 🙏\n",
      "We celebrate #MothersDay on Shravan Amavas. This year it's on Monday 6th Sept.\n",
      "Some people think that it's ju…\n",
      "Favorites:  0\n",
      "Retweets:  12\n",
      "\n",
      "RT @PRMeena_IAS: #मां का कोई दिन नहीं होता बल्कि #मां से ही दिन होता है। #मातृदिवस की हार्दिक शुभकामनाएं💐💐\n",
      "#happymothersday2021 #MothersDay…\n",
      "Favorites:  0\n",
      "Retweets:  23\n",
      "\n",
      "#engineering #engineer #technology #didyouknow #facts #calls #mothersday #mothers #science #engineers… https://t.co/ClF0tP3hjo\n",
      "Favorites:  0\n",
      "Retweets:  0\n",
      "\n",
      "mothers day gifts from bump | good cheap gifts for mothers day #MothersDay #MothersDay2021 #mugs #mugs… https://t.co/m8FU8STyia\n",
      "Favorites:  0\n",
      "Retweets:  0\n",
      "\n",
      "Vintage Kitsch Kissing Fish Shakers https://t.co/JcMHN1Kv4W #white #housewarming #mothersday #brown #midcentury… https://t.co/KhZ6YUdFh3\n",
      "Favorites:  0\n",
      "Retweets:  0\n",
      "\n",
      "RT @ArorajArvind: Belive in yourself 👍#arvindaroraquotes #arvindarora #amazingquotes #motherhood #mothersday #dailyquotes #dailywatch #dail…\n",
      "Favorites:  0\n",
      "Retweets:  4\n",
      "\n",
      "RT @JunkYardBlonde: Vintage Chinoiserie Tea set in Silk Brocade Storage Box 8 Pc Set https://t.co/NHvjItoYv5 #rainbow #housewarming #mother…\n",
      "Favorites:  0\n",
      "Retweets:  4\n",
      "\n",
      "RT @thriftyfifty6: Vintage Chunky Nautical Necklace in Gold Tone, 18 Inch Chain W by TreasuringFifty https://t.co/epPSh7lFhp via @Etsy #Nau…\n",
      "Favorites:  0\n",
      "Retweets:  30\n",
      "\n",
      "mother's day blanket from daughter | wedding gift ideas from mother to daughter #MothersDay #MothersDay2021… https://t.co/GK58V3qQZI\n",
      "Favorites:  0\n",
      "Retweets:  0\n"
     ]
    }
   ],
   "metadata": {}
  },
  {
   "cell_type": "markdown",
   "source": [
    "## Extracting text, screen names, and hashtags from tweets"
   ],
   "metadata": {}
  },
  {
   "cell_type": "code",
   "execution_count": 31,
   "source": [
    "status_texts = [ status['text'] \n",
    "                 for status in statuses ]\n",
    "\n",
    "screen_names = [ user_mention['screen_name'] \n",
    "                 for status in statuses\n",
    "                     for user_mention in status['entities']['user_mentions'] ]\n",
    "\n",
    "hashtags = [ hashtag['text'] \n",
    "             for status in statuses\n",
    "                 for hashtag in status['entities']['hashtags'] ]\n",
    "\n",
    "# Compute a collection of all words from all tweets\n",
    "words = [ w \n",
    "          for t in status_texts \n",
    "              for w in t.split() ]\n",
    "\n",
    "# Explore the first 5 items for each...\n",
    "\n",
    "print(json.dumps(status_texts[0:5], indent=1))\n",
    "print(json.dumps(screen_names[0:5], indent=1) )\n",
    "print(json.dumps(hashtags[0:5], indent=1))\n",
    "print(json.dumps(words[0:5], indent=1))"
   ],
   "outputs": [
    {
     "output_type": "stream",
     "name": "stdout",
     "text": [
      "[\n",
      " \"RT @Forest_Draw: Some game Moms for this #MothersDay \\n\\n#Rosalina #SuperMario #SuperMarioGalaxy #SuperMarioGalaxy2 #MsPacMan #Pacman #Melony\\u2026\",\n",
      " \"RT @I_Love_Shilpa: #\\u092e\\u093e\\u0924\\u0943\\u0926\\u093f\\u0928 \\ud83d\\ude4f\\nWe celebrate #MothersDay on Shravan Amavas. This year it's on Monday 6th Sept.\\nSome people think that it's ju\\u2026\",\n",
      " \"RT @PRMeena_IAS: #\\u092e\\u093e\\u0902 \\u0915\\u093e \\u0915\\u094b\\u0908 \\u0926\\u093f\\u0928 \\u0928\\u0939\\u0940\\u0902 \\u0939\\u094b\\u0924\\u093e \\u092c\\u0932\\u094d\\u0915\\u093f #\\u092e\\u093e\\u0902 \\u0938\\u0947 \\u0939\\u0940 \\u0926\\u093f\\u0928 \\u0939\\u094b\\u0924\\u093e \\u0939\\u0948\\u0964 #\\u092e\\u093e\\u0924\\u0943\\u0926\\u093f\\u0935\\u0938 \\u0915\\u0940 \\u0939\\u093e\\u0930\\u094d\\u0926\\u093f\\u0915 \\u0936\\u0941\\u092d\\u0915\\u093e\\u092e\\u0928\\u093e\\u090f\\u0902\\ud83d\\udc90\\ud83d\\udc90\\n#happymothersday2021 #MothersDay\\u2026\",\n",
      " \"#engineering #engineer #technology #didyouknow #facts #calls #mothersday #mothers #science #engineers\\u2026 https://t.co/ClF0tP3hjo\",\n",
      " \"mothers day gifts from bump | good cheap gifts for mothers day #MothersDay #MothersDay2021 #mugs #mugs\\u2026 https://t.co/m8FU8STyia\"\n",
      "]\n",
      "[\n",
      " \"Forest_Draw\",\n",
      " \"I_Love_Shilpa\",\n",
      " \"PRMeena_IAS\",\n",
      " \"ArorajArvind\",\n",
      " \"JunkYardBlonde\"\n",
      "]\n",
      "[\n",
      " \"MothersDay\",\n",
      " \"Rosalina\",\n",
      " \"SuperMario\",\n",
      " \"SuperMarioGalaxy\",\n",
      " \"SuperMarioGalaxy2\"\n",
      "]\n",
      "[\n",
      " \"RT\",\n",
      " \"@Forest_Draw:\",\n",
      " \"Some\",\n",
      " \"game\",\n",
      " \"Moms\"\n",
      "]\n"
     ]
    }
   ],
   "metadata": {}
  },
  {
   "cell_type": "markdown",
   "source": [
    "## Creating a basic frequency distribution from the words in tweets"
   ],
   "metadata": {}
  },
  {
   "cell_type": "code",
   "execution_count": 32,
   "source": [
    "from collections import Counter\n",
    "\n",
    "for item in [words, screen_names, hashtags]:\n",
    "    c = Counter(item)\n",
    "    print(c.most_common()[:10]) # top 10\n",
    "    print()"
   ],
   "outputs": [
    {
     "output_type": "stream",
     "name": "stdout",
     "text": [
      "[('RT', 213), ('the', 195), ('to', 182), ('.', 147), ('#MothersDay', 122), ('day', 117), ('for', 116), ('#teachersday', 101), ('#mothersday', 98), ('Happy', 96)]\n",
      "\n",
      "[('ArorajArvind', 12), ('men_are_human', 12), ('I_Love_Shilpa', 11), ('TrasElValle_OBC', 10), ('jjaranaz94', 8), ('thriftyfifty6', 7), ('Etsy', 7), ('renaissancefai', 6), ('creatorzRT', 6), ('DAndalora_Bella', 5)]\n",
      "\n",
      "[('MothersDay', 130), ('mothersday', 112), ('teachersday', 111), ('teacher', 99), ('teachers', 84), ('happyteachersday', 65), ('mugs', 58), ('MothersDay2021', 57), ('teachersofinstagram', 53), ('vintage', 46)]\n",
      "\n"
     ]
    }
   ],
   "metadata": {}
  },
  {
   "cell_type": "markdown",
   "source": [
    "## Using prettytable to display tuples in a nice tabular format"
   ],
   "metadata": {}
  },
  {
   "cell_type": "code",
   "execution_count": 33,
   "source": [
    "from prettytable import PrettyTable\n",
    "\n",
    "for label, data in (('Word', words), \n",
    "                    ('Screen Name', screen_names), \n",
    "                    ('Hashtag', hashtags)):\n",
    "    pt = PrettyTable(field_names=[label, 'Count']) \n",
    "    c = Counter(data)\n",
    "    [ pt.add_row(kv) for kv in c.most_common()[:10] ]\n",
    "    pt.align[label], pt.align['Count'] = 'l', 'r' # Set column alignment\n",
    "    print(pt)"
   ],
   "outputs": [
    {
     "output_type": "stream",
     "name": "stdout",
     "text": [
      "+--------------+-------+\n",
      "| Word         | Count |\n",
      "+--------------+-------+\n",
      "| RT           |   213 |\n",
      "| the          |   195 |\n",
      "| to           |   182 |\n",
      "| .            |   147 |\n",
      "| #MothersDay  |   122 |\n",
      "| day          |   117 |\n",
      "| for          |   116 |\n",
      "| #teachersday |   101 |\n",
      "| #mothersday  |    98 |\n",
      "| Happy        |    96 |\n",
      "+--------------+-------+\n",
      "+-----------------+-------+\n",
      "| Screen Name     | Count |\n",
      "+-----------------+-------+\n",
      "| ArorajArvind    |    12 |\n",
      "| men_are_human   |    12 |\n",
      "| I_Love_Shilpa   |    11 |\n",
      "| TrasElValle_OBC |    10 |\n",
      "| jjaranaz94      |     8 |\n",
      "| thriftyfifty6   |     7 |\n",
      "| Etsy            |     7 |\n",
      "| renaissancefai  |     6 |\n",
      "| creatorzRT      |     6 |\n",
      "| DAndalora_Bella |     5 |\n",
      "+-----------------+-------+\n",
      "+---------------------+-------+\n",
      "| Hashtag             | Count |\n",
      "+---------------------+-------+\n",
      "| MothersDay          |   130 |\n",
      "| mothersday          |   112 |\n",
      "| teachersday         |   111 |\n",
      "| teacher             |    99 |\n",
      "| teachers            |    84 |\n",
      "| happyteachersday    |    65 |\n",
      "| mugs                |    58 |\n",
      "| MothersDay2021      |    57 |\n",
      "| teachersofinstagram |    53 |\n",
      "| vintage             |    46 |\n",
      "+---------------------+-------+\n"
     ]
    }
   ],
   "metadata": {}
  },
  {
   "cell_type": "markdown",
   "source": [
    "## Calculating lexical diversity for tweets"
   ],
   "metadata": {}
  },
  {
   "cell_type": "code",
   "execution_count": 34,
   "source": [
    "# A function for computing lexical diversity\n",
    "def lexical_diversity(tokens):\n",
    "    return len(set(tokens))/len(tokens) \n",
    "\n",
    "# A function for computing the average number of words per tweet\n",
    "def average_words(statuses):\n",
    "    total_words = sum([ len(s.split()) for s in statuses ]) \n",
    "    return total_words/len(statuses)\n",
    "\n",
    "print(lexical_diversity(words))\n",
    "print(lexical_diversity(screen_names))\n",
    "print(lexical_diversity(hashtags))\n",
    "print(average_words(status_texts))"
   ],
   "outputs": [
    {
     "output_type": "stream",
     "name": "stdout",
     "text": [
      "0.3299768401973618\n",
      "0.54\n",
      "0.21353166986564298\n",
      "16.551666666666666\n"
     ]
    }
   ],
   "metadata": {}
  },
  {
   "cell_type": "markdown",
   "source": [
    "## Finding the most popular retweets"
   ],
   "metadata": {}
  },
  {
   "cell_type": "code",
   "execution_count": 35,
   "source": [
    "retweets = [\n",
    "            # Store out a tuple of these three values ...\n",
    "            (status['retweet_count'], \n",
    "             status['retweeted_status']['user']['screen_name'],\n",
    "             status['retweeted_status']['id'],\n",
    "             status['text']) \n",
    "            \n",
    "            # ... for each status ...\n",
    "            for status in statuses \n",
    "            \n",
    "            # ... so long as the status meets this condition.\n",
    "                if 'retweeted_status' in status.keys()\n",
    "           ]\n",
    "\n",
    "# Slice off the first 5 from the sorted results and display each item in the tuple\n",
    "\n",
    "pt = PrettyTable(field_names=['Count', 'Screen Name', 'Tweet ID', 'Text'])\n",
    "[ pt.add_row(row) for row in sorted(retweets, reverse=True)[:5] ]\n",
    "pt.max_width['Text'] = 50\n",
    "pt.align= 'l'\n",
    "print(pt)"
   ],
   "outputs": [
    {
     "output_type": "stream",
     "name": "stdout",
     "text": [
      "+-------+----------------+---------------------+----------------------------------------------------+\n",
      "| Count | Screen Name    | Tweet ID            | Text                                               |\n",
      "+-------+----------------+---------------------+----------------------------------------------------+\n",
      "| 13655 | blkgirlculture | 1259486190505426952 | RT @blkgirlculture: These Black mamas really said  |\n",
      "|       |                |                     | Copy and paste                                     |\n",
      "|       |                |                     |                                                    |\n",
      "|       |                |                     | Happy #MothersDay 💫 https://t.co/fDgczno9hk       |\n",
      "| 2739  | ohmthitiwat    | 1293548053811441664 | RT @ohmthitiwat: สุขสันต์วันแม่นะครับ                    |\n",
      "|       |                |                     | ขอให้แม่มีสุขภาพแข็งแรง มีความสุขมากๆ                     |\n",
      "|       |                |                     | โอห์มจะเป็นเด็กดี รักแม่ทุกวันนะครับ💙 #MothersDay          |\n",
      "|       |                |                     | https://t.co/…                                     |\n",
      "| 2671  | insan_honey    | 1391319125163577345 | RT @insan_honey: माँ!                               |\n",
      "|       |                |                     | तू है तो हिम्मत है,                                    |\n",
      "|       |                |                     | तू है तो जन्नत है,                                     |\n",
      "|       |                |                     | तू है तो रहमत है,                                     |\n",
      "|       |                |                     | हमारे सारे आँसू पी लेती है, होठों को हँसी देती है,           |\n",
      "|       |                |                     | हर लम्हे…                                            |\n",
      "| 2671  | insan_honey    | 1391319125163577345 | RT @insan_honey: माँ!                               |\n",
      "|       |                |                     | तू है तो हिम्मत है,                                    |\n",
      "|       |                |                     | तू है तो जन्नत है,                                     |\n",
      "|       |                |                     | तू है तो रहमत है,                                     |\n",
      "|       |                |                     | हमारे सारे आँसू पी लेती है, होठों को हँसी देती है,           |\n",
      "|       |                |                     | हर लम्हे…                                            |\n",
      "| 1998  | gaysony24      | 1259631832070569986 | RT @gaysony24: Momma Bakugou is not impressed with |\n",
      "|       |                |                     | Katsuki’s growth spurt. #MothersDay                |\n",
      "|       |                |                     | https://t.co/ClKaZ1cU7I                            |\n",
      "+-------+----------------+---------------------+----------------------------------------------------+\n"
     ]
    }
   ],
   "metadata": {}
  },
  {
   "cell_type": "markdown",
   "source": [
    "## Looking up users who have retweeted a status"
   ],
   "metadata": {}
  },
  {
   "cell_type": "code",
   "execution_count": 36,
   "source": [
    "# Get the original tweet id for a tweet from its retweeted_status node \n",
    "# and insert it here\n",
    "\n",
    "_retweets = twitter_api.statuses.retweets(id=862359093398261760)\n",
    "print([r['user']['screen_name'] for r in _retweets])"
   ],
   "outputs": [
    {
     "output_type": "stream",
     "name": "stdout",
     "text": [
      "['vijoumolce1988', 'driftourare1988', 'NoNicheNC', 'livingmybestie', 'Rockawaytheday']\n"
     ]
    }
   ],
   "metadata": {}
  },
  {
   "cell_type": "markdown",
   "source": [
    "## Plotting frequencies of words"
   ],
   "metadata": {}
  },
  {
   "cell_type": "code",
   "execution_count": 37,
   "source": [
    "import matplotlib.pyplot as plt\n",
    "%matplotlib inline\n",
    "word_counts = sorted(Counter(words).values(), reverse=True)\n",
    "\n",
    "plt.loglog(word_counts)\n",
    "plt.ylabel(\"Freq\")\n",
    "plt.xlabel(\"Word Rank\")"
   ],
   "outputs": [
    {
     "output_type": "execute_result",
     "data": {
      "text/plain": [
       "Text(0.5, 0, 'Word Rank')"
      ]
     },
     "metadata": {},
     "execution_count": 37
    },
    {
     "output_type": "display_data",
     "data": {
      "image/png": "[encoded data removed]",
      "text/plain": [
       "<Figure size 432x288 with 1 Axes>"
      ]
     },
     "metadata": {
      "needs_background": "light"
     }
    }
   ],
   "metadata": {}
  },
  {
   "cell_type": "markdown",
   "source": [
    "## Generating histograms of words, screen names, and hashtags"
   ],
   "metadata": {}
  },
  {
   "cell_type": "code",
   "execution_count": 38,
   "source": [
    "for label, data in (('Words', words), \n",
    "                    ('Screen Names', screen_names), \n",
    "                    ('Hashtags', hashtags)):\n",
    "\n",
    "    # Build a frequency map for each set of data\n",
    "    # and plot the values\n",
    "    c = Counter(data)\n",
    "    plt.hist(list(c.values()))\n",
    "    \n",
    "    # Add a title and y-label ...\n",
    "    plt.title(label)\n",
    "    plt.ylabel(\"Number of items in bin\")\n",
    "    plt.xlabel(\"Bins (number of times an item appeared)\")\n",
    "    \n",
    "    # ... and display as a new figure\n",
    "    plt.figure()"
   ],
   "outputs": [
    {
     "output_type": "display_data",
     "data": {
      "image/png": "[encoded data removed]",
      "text/plain": [
       "<Figure size 432x288 with 1 Axes>"
      ]
     },
     "metadata": {
      "needs_background": "light"
     }
    },
    {
     "output_type": "display_data",
     "data": {
      "image/png": "[encoded data removed]",
      "text/plain": [
       "<Figure size 432x288 with 1 Axes>"
      ]
     },
     "metadata": {
      "needs_background": "light"
     }
    },
    {
     "output_type": "display_data",
     "data": {
      "image/png": "[encoded data removed]",
      "text/plain": [
       "<Figure size 432x288 with 1 Axes>"
      ]
     },
     "metadata": {
      "needs_background": "light"
     }
    },
    {
     "output_type": "display_data",
     "data": {
      "text/plain": [
       "<Figure size 432x288 with 0 Axes>"
      ]
     },
     "metadata": {}
    }
   ],
   "metadata": {}
  },
  {
   "cell_type": "markdown",
   "source": [
    "## Generating a histogram of retweet counts"
   ],
   "metadata": {}
  },
  {
   "cell_type": "code",
   "execution_count": 39,
   "source": [
    "# Using underscores while unpacking values in\n",
    "# a tuple is idiomatic for discarding them\n",
    "\n",
    "counts = [count for count, _, _, _ in retweets]\n",
    "\n",
    "plt.hist(counts)\n",
    "plt.title('Retweets')\n",
    "plt.xlabel('Bins (number of times retweeted)')\n",
    "plt.ylabel('Number of tweets in bin')"
   ],
   "outputs": [
    {
     "output_type": "execute_result",
     "data": {
      "text/plain": [
       "Text(0, 0.5, 'Number of tweets in bin')"
      ]
     },
     "metadata": {},
     "execution_count": 39
    },
    {
     "output_type": "display_data",
     "data": {
      "image/png": "[encoded data removed]",
      "text/plain": [
       "<Figure size 432x288 with 1 Axes>"
      ]
     },
     "metadata": {
      "needs_background": "light"
     }
    }
   ],
   "metadata": {}
  },
  {
   "cell_type": "markdown",
   "source": [
    "## Sentiment Analysis"
   ],
   "metadata": {
    "collapsed": true
   }
  },
  {
   "cell_type": "code",
   "execution_count": 40,
   "source": [
    "# pip install nltk\n",
    "import nltk\n",
    "nltk.download('vader_lexicon')\n",
    "\n",
    "import numpy as np\n",
    "from nltk.sentiment.vader import SentimentIntensityAnalyzer"
   ],
   "outputs": [
    {
     "output_type": "stream",
     "name": "stderr",
     "text": [
      "[nltk_data] Downloading package vader_lexicon to\n",
      "[nltk_data]     /home/shaneoh/nltk_data...\n",
      "[nltk_data]   Package vader_lexicon is already up-to-date!\n"
     ]
    }
   ],
   "metadata": {}
  },
  {
   "cell_type": "code",
   "execution_count": 41,
   "source": [
    "twitter_stream = twitter.TwitterStream(auth=auth)\n",
    "iterator = twitter_stream.statuses.sample()"
   ],
   "outputs": [],
   "metadata": {}
  },
  {
   "cell_type": "code",
   "execution_count": 42,
   "source": [
    "tweets = []\n",
    "for tweet in iterator:\n",
    "    try:\n",
    "        if tweet['lang'] == 'en':\n",
    "            tweets.append(tweet)\n",
    "    except:\n",
    "        pass\n",
    "    if len(tweets) == 100:\n",
    "        break"
   ],
   "outputs": [],
   "metadata": {}
  },
  {
   "cell_type": "code",
   "execution_count": 43,
   "source": [
    "analyzer = SentimentIntensityAnalyzer()"
   ],
   "outputs": [],
   "metadata": {}
  },
  {
   "cell_type": "code",
   "execution_count": 44,
   "source": [
    "analyzer.polarity_scores('Hello')"
   ],
   "outputs": [
    {
     "output_type": "execute_result",
     "data": {
      "text/plain": [
       "{'neg': 0.0, 'neu': 1.0, 'pos': 0.0, 'compound': 0.0}"
      ]
     },
     "metadata": {},
     "execution_count": 44
    }
   ],
   "metadata": {}
  },
  {
   "cell_type": "code",
   "execution_count": 45,
   "source": [
    "analyzer.polarity_scores('I really enjoy this video series.')"
   ],
   "outputs": [
    {
     "output_type": "execute_result",
     "data": {
      "text/plain": [
       "{'neg': 0.0, 'neu': 0.534, 'pos': 0.466, 'compound': 0.5413}"
      ]
     },
     "metadata": {},
     "execution_count": 45
    }
   ],
   "metadata": {}
  },
  {
   "cell_type": "code",
   "execution_count": 46,
   "source": [
    "analyzer.polarity_scores('I REALLY enjoy this video series.')"
   ],
   "outputs": [
    {
     "output_type": "execute_result",
     "data": {
      "text/plain": [
       "{'neg': 0.0, 'neu': 0.486, 'pos': 0.514, 'compound': 0.64}"
      ]
     },
     "metadata": {},
     "execution_count": 46
    }
   ],
   "metadata": {}
  },
  {
   "cell_type": "code",
   "execution_count": 47,
   "source": [
    "analyzer.polarity_scores('I REALLY enjoy this video series!!!')"
   ],
   "outputs": [
    {
     "output_type": "execute_result",
     "data": {
      "text/plain": [
       "{'neg': 0.0, 'neu': 0.439, 'pos': 0.561, 'compound': 0.7271}"
      ]
     },
     "metadata": {},
     "execution_count": 47
    }
   ],
   "metadata": {}
  },
  {
   "cell_type": "code",
   "execution_count": 48,
   "source": [
    "analyzer.polarity_scores('I REALLY did not enjoy this video series!!!')"
   ],
   "outputs": [
    {
     "output_type": "execute_result",
     "data": {
      "text/plain": [
       "{'neg': 0.425, 'neu': 0.575, 'pos': 0.0, 'compound': -0.6627}"
      ]
     },
     "metadata": {},
     "execution_count": 48
    }
   ],
   "metadata": {}
  },
  {
   "cell_type": "code",
   "execution_count": 49,
   "source": [
    "scores = np.zeros(len(tweets))\n",
    "\n",
    "for i, t in enumerate(tweets):\n",
    "    # Extract the text portion of the tweet\n",
    "    text = t['text']\n",
    "    \n",
    "    # Measure the polarity of the tweet\n",
    "    polarity = analyzer.polarity_scores(text)\n",
    "    \n",
    "    # Store the normalized, weighted composite score\n",
    "    scores[i] = polarity['compound']"
   ],
   "outputs": [],
   "metadata": {}
  },
  {
   "cell_type": "code",
   "execution_count": 50,
   "source": [
    "most_positive = np.argmax(scores)\n",
    "most_negative = np.argmin(scores)"
   ],
   "outputs": [],
   "metadata": {}
  },
  {
   "cell_type": "code",
   "execution_count": 51,
   "source": [
    "print('{0:6.3f} : \"{1}\"'.format(scores[most_positive], tweets[most_positive]['text']))"
   ],
   "outputs": [
    {
     "output_type": "stream",
     "name": "stdout",
     "text": [
      " 0.848 : \"RT @Kavin_Karthik97: Happy Birthday @mammukka sir ❤️ have a blockbuster year ahead 😊 behalf wishes from @Kavin_m_0431 fans 🤗 \n",
      "\n",
      "#HappyBirthd…\"\n"
     ]
    }
   ],
   "metadata": {}
  },
  {
   "cell_type": "code",
   "execution_count": 52,
   "source": [
    "print('{0:6.3f} : \"{1}\"'.format(scores[most_negative], tweets[most_negative]['text']))"
   ],
   "outputs": [
    {
     "output_type": "stream",
     "name": "stdout",
     "text": [
      "-0.773 : \"RT @earringdealer1: The downfall of Nasty Gal is still so crazy to me bc to this day nobody has been able to provide what Sophia Amoruso br…\"\n"
     ]
    }
   ],
   "metadata": {}
  }
 ],
 "metadata": {
  "kernelspec": {
   "name": "python3",
   "display_name": "Python 3.8.8 64-bit ('venv': venv)"
  },
  "language_info": {
   "codemirror_mode": {
    "name": "ipython",
    "version": 3
   },
   "file_extension": ".py",
   "mimetype": "text/x-python",
   "name": "python",
   "nbconvert_exporter": "python",
   "pygments_lexer": "ipython3",
   "version": "3.8.8"
  },
  "interpreter": {
   "hash": "9007ac24b3f69957c84fdadce622d75a9cbc221d06001fd484e39f795cde018c"
  }
 },
 "nbformat": 4,
 "nbformat_minor": 1
}